{
 "cells": [
  {
   "cell_type": "markdown",
   "metadata": {},
   "source": [
    "# Python开发环境和开发工具\n",
    "## 一、操作系统和Python开发环境\n",
    "现代计算机大都基于冯诺依曼结构。在冯诺依曼结构中，程序和数据被看成是一样的，将程序编码据，与数据一同存放在存储器中，计算机调用存储器中的程序来处理数据。这种设计思想导致了硬件和软件的分离。于是诞生了程序员，诞生了可编程的计算机，诞生了各种编程语言，诞生了Python。\n",
    "\n",
    "![](images/neumann.png)"
   ]
  },
  {
   "cell_type": "markdown",
   "metadata": {},
   "source": [
    "### 1. 操作系统\n",
    "计算机中的各种设备和程序多了，需要管理，于是诞生了管理设备和程序的程序，即操作系统。操作系统通过驱动程序连接硬件设备，实现对底层硬件的抽象，向上层应用程序提供统一的接口，以方便其调用计算机各种资源，实现各类业务。\n",
    "\n",
    "- Python支持几乎所有主流操作系统，Windows、Linux（非常多发行版CentOS, Ubuntu, Debian）和MacOS等，分为x86和x64版本，目前几乎都是x64位CPU和操作系统\n",
    "- 每种操作系统的Python运行和开发环境配置不同，但是基本原理是一样的\n",
    "- 对于初学者建议在Windows和MacOS系统，深入学习后再熟悉Linux系统"
   ]
  },
  {
   "cell_type": "code",
   "execution_count": 1,
   "metadata": {},
   "outputs": [
    {
     "data": {
      "text/plain": [
       "uname_result(system='Windows', node='DESKTOP-7917TAF', release='10', version='10.0.18362', machine='AMD64', processor='Intel64 Family 6 Model 94 Stepping 3, GenuineIntel')"
      ]
     },
     "execution_count": 1,
     "metadata": {},
     "output_type": "execute_result"
    }
   ],
   "source": [
    "import platform\n",
    "platform.uname()"
   ]
  },
  {
   "cell_type": "markdown",
   "metadata": {},
   "source": [
    "### 2. 解释器和编译器\n",
    "各种编程语言多了，各种解释器和编译器就多了。实现一种编程语言的本质就是开发相应的解释器或编译器，及其配套的标准库这样一组特殊程序。\n",
    "- 解释器用于动态编程语言实时翻译执行，开发方便，如Python\n",
    "- 编译器用于静态编程语言提前翻译，运行方便，如C和C++\n",
    "- 标准库即应用程序与操作系统之间的抽象接口\n",
    "\n",
    "Python解释器（可以由各种语言开发），一般是指官方解释器CPython，由C语言开发。"
   ]
  },
  {
   "cell_type": "markdown",
   "metadata": {},
   "source": [
    "感叹号!用于执行系统命令，通过当前环境变量PATH查找当前可用的Python程序位置："
   ]
  },
  {
   "cell_type": "raw",
   "metadata": {},
   "source": [
    "!which python # For MacOS"
   ]
  },
  {
   "cell_type": "code",
   "execution_count": 2,
   "metadata": {},
   "outputs": [
    {
     "name": "stdout",
     "output_type": "stream",
     "text": [
      "C:\\ProgramData\\Anaconda3-5.3.1\\python.exe\n",
      "C:\\vnstudio\\python.exe\n",
      "C:\\SoftwareAG\\Apama\\third_party\\python\\python.exe\n",
      "C:\\Python35\\python.exe\n",
      "C:\\Python37\\python.exe\n",
      "C:\\ProgramData\\Anaconda3\\python.exe\n",
      "C:\\ProgramData\\Anaconda2\\python.exe\n",
      "C:\\Users\\Administrator\\AppData\\Local\\Microsoft\\WindowsApps\\python.exe\n"
     ]
    }
   ],
   "source": [
    "!where python"
   ]
  },
  {
   "cell_type": "markdown",
   "metadata": {},
   "source": [
    "### 3. 解释器路径（PATH）、包搜索路径（PYTHONPATH）和工作路径\n",
    "- 解释器路径：Python开发和运行时，让操作系统找到Python解释器的文件夹位置，配置在操作系统环境变量PATH中\n",
    "- 包搜索路径：Python开发和运行时，让Python解释器找到第三方包的文件夹位置，配置在操作系统环境变量PYTHONPATH中或Python变量sys.path中\n",
    "- 工作路径：用户存放的文件夹位置"
   ]
  },
  {
   "cell_type": "markdown",
   "metadata": {},
   "source": [
    "两个百分号%%将当前cell在子进程中运行，%%cmd或%%bash执行shell程序读出环境变量PATH："
   ]
  },
  {
   "cell_type": "raw",
   "metadata": {},
   "source": [
    "%%bash # For MacOS\n",
    "echo $PATH "
   ]
  },
  {
   "cell_type": "code",
   "execution_count": 3,
   "metadata": {},
   "outputs": [
    {
     "name": "stdout",
     "output_type": "stream",
     "text": [
      "Microsoft Windows [版本 10.0.18363.959]\n",
      "(c) 2019 Microsoft Corporation。保留所有权利。\n",
      "\n",
      "E:\\Project\\Python\\course-python-programming>PATH\n",
      "PATH=C:\\node12\\;C:\\Oracle\\product\\11.2.0\\client_1\\bin;C:\\ProgramData\\Oracle\\Java\\javapath;C:\\WINDOWS\\system32;C:\\WINDOWS;C:\\WINDOWS\\System32\\Wbem;C:\\WINDOWS\\System32\\WindowsPowerShell\\v1.0\\;C:\\Program Files\\Java\\jdk1.8.0_74\\bin;C:\\Program Files\\Java\\jdk1.8.0_74\\jre\\bin;C:\\Apache\\apache-tomcat-8.5.55\\lib;C:\\Apache\\apache-tomcat-8.5.55\\lib\\servlet-api.jar;C:\\Apache\\apache-tomcat-8.5.55\\lib\\jsp-api.jar;C:\\Apache\\Apache24\\bin;C:\\Program Files\\TortoiseSVN\\bin;D:\\AndroidDeveloperTools\\sdk\\tools;C:\\Program Files (x86)\\AMD\\ATI.ACE\\Core-Static;C:\\Program Files (x86)\\Windows Live\\Shared;C:\\Users\\Administrator\\.dnx\\bin;C:\\Program Files\\Microsoft DNX\\Dnvm\\;C:\\Program Files\\Microsoft SQL Server\\120\\Tools\\Binn\\;C:\\Program Files\\Microsoft SQL Server\\130\\Tools\\Binn\\;C:\\Apache\\apache-maven-3.3.9\\bin;D:\\AndroidDeveloperTools\\sdk\\\\tools;D:\\AndroidDeveloperTools\\sdk\\\\platform-tools;C:\\ProgramData\\Anaconda3-5.3.1;C:\\ProgramData\\Anaconda3-5.3.1\\Scripts;C:\\ProgramData\\Anaconda3-5.3.1\\Library\\bin;C:\\vnstudio\\;C:\\vnstudio\\Scripts;C:\\SoftwareAG\\Apama\\third_party\\python;C:\\SoftwareAG\\Apama\\third_party\\python\\Scripts;C:\\SoftwareAG\\Apama\\third_party\\apache_ant\\bin;C:\\SoftwareAG\\Apama\\bin;C:\\Python35;C:\\Python35\\Scripts;C:\\Python37;C:\\Python37\\Scripts;C:\\ProgramData\\Anaconda3;C:\\ProgramData\\Anaconda3\\Scripts;C:\\ProgramData\\Anaconda3\\Library\\bin;C:\\ProgramData\\Anaconda2;C:\\ProgramData\\Anaconda2\\Scripts;C:\\ProgramData\\Anaconda2\\Library\\bin;C:\\Program Files\\MySQL\\MySQL Utilities 1.6\\;C:\\Program Files\\MySQL\\MySQL Server 5.7\\bin;C:\\ProgramData\\phantomjs-2.1.1-windows\\bin;C:\\Program Files\\MongoDB\\Server\\3.4\\bin;C:\\Program Files\\Git\\cmd;C:\\Apache\\apache-maven-3.3.9/bin;C:\\WINDOWS\\System32\\OpenSSH\\;C:\\Program Files (x86)\\Skype\\Phone\\;C:\\Program Files\\Microsoft VS Code\\bin;C:\\Program Files\\TortoiseGit\\bin;C:\\swigwin-4.0.2;C:\\Program Files (x86)\\Windows Kits\\8.1\\Windows Performance Toolkit\\;C:\\Program Files\\Docker\\Docker\\resources\\bin;C:\\ProgramData\\DockerDesktop\\version-bin;C:\\Program Files (x86)\\Microsoft Visual Studio 14.0\\VC\\bin;C:\\Program Files\\Redis;C:\\Users\\Administrator\\AppData\\Local\\Microsoft\\WindowsApps;C:\\Wind\\Wind.NET.Client\\WindNET\\bin\\;C:\\Program Files\\JetBrains\\PyCharm 2019.2\\bin;C:\\Users\\Administrator\\AppData\\Roaming\\npm;C:\\Users\\Administrator\\AppData\\Local\\Programs\\Fiddler;C:\\Wind\\Wind.NET.Client\\WindNET\\x64\n",
      "\n",
      "E:\\Project\\Python\\course-python-programming>"
     ]
    }
   ],
   "source": [
    "%%cmd\n",
    "PATH"
   ]
  },
  {
   "cell_type": "markdown",
   "metadata": {},
   "source": [
    "读出包搜索路径："
   ]
  },
  {
   "cell_type": "code",
   "execution_count": 4,
   "metadata": {},
   "outputs": [
    {
     "name": "stdout",
     "output_type": "stream",
     "text": [
      "['', 'E:\\\\Project\\\\Python\\\\course-python-programming', 'C:\\\\ProgramData\\\\Anaconda3-5.3.1\\\\python37.zip', 'C:\\\\ProgramData\\\\Anaconda3-5.3.1\\\\DLLs', 'C:\\\\ProgramData\\\\Anaconda3-5.3.1\\\\lib', 'C:\\\\ProgramData\\\\Anaconda3-5.3.1', 'C:\\\\Users\\\\Administrator\\\\AppData\\\\Roaming\\\\Python\\\\Python37\\\\site-packages', 'C:\\\\ProgramData\\\\Anaconda3-5.3.1\\\\lib\\\\site-packages', 'C:\\\\ProgramData\\\\Anaconda3-5.3.1\\\\lib\\\\site-packages\\\\win32', 'C:\\\\ProgramData\\\\Anaconda3-5.3.1\\\\lib\\\\site-packages\\\\win32\\\\lib', 'C:\\\\ProgramData\\\\Anaconda3-5.3.1\\\\lib\\\\site-packages\\\\Pythonwin', 'C:\\\\ProgramData\\\\Anaconda3-5.3.1\\\\lib\\\\site-packages\\\\IPython\\\\extensions', 'C:\\\\Users\\\\Administrator\\\\.ipython']\n"
     ]
    }
   ],
   "source": [
    "import sys\n",
    "print(sys.path)"
   ]
  },
  {
   "cell_type": "markdown",
   "metadata": {},
   "source": [
    "读出当前路径："
   ]
  },
  {
   "cell_type": "code",
   "execution_count": 5,
   "metadata": {},
   "outputs": [
    {
     "data": {
      "text/plain": [
       "'E:\\\\Project\\\\Python\\\\course-python-programming'"
      ]
     },
     "execution_count": 5,
     "metadata": {},
     "output_type": "execute_result"
    }
   ],
   "source": [
    "import os\n",
    "os.getcwd()"
   ]
  },
  {
   "cell_type": "markdown",
   "metadata": {},
   "source": [
    "### 4. Python开发工具\n",
    "Python开发可以使用集成开发环境（IDE），也可以使用简单的文本编辑器，也可以使用jupyter lab这样的交互工具，根据需要而定。一般而言集成开发环境用在大中型项目中，能够提高开发效率。\n",
    "- PyCharm\n",
    "- Jupyter lab / Jupyter notebook(IPython)\n",
    "- Spyder\n",
    "- Eclipse + PyDev\n",
    "- Visual Studio + Python Tools\n",
    "- VSCode\n",
    "- Sublime\n",
    "- Notepad++\n",
    "- Atom\n",
    "\n"
   ]
  },
  {
   "cell_type": "markdown",
   "metadata": {},
   "source": [
    "### 5. Python环境隔离virtualenv和virtualenvwrapper\n",
    "由于Python版本很多，包依赖关系复杂，不同项目依赖不同版本的Python或者第三方包非常常见，为不同项目创建一个隔离的Python就显得非常必要了。\n",
    "virtualenv是一个创建隔离的Python环境的工具。"
   ]
  },
  {
   "cell_type": "raw",
   "metadata": {},
   "source": [
    "#For MacOS\n",
    "pip install virtualenv\n",
    "cd path/to/your/virtualenv_folder\n",
    "source python27/bin/activate\n",
    "deactivate"
   ]
  },
  {
   "cell_type": "raw",
   "metadata": {},
   "source": [
    "#For Windows\n",
    "pip install virtualenv\n",
    "cd path/to/your/virtualenv_folder\n",
    "virtualenv -p /usr/bin/python2.7 python27 #创建隔离环境\n",
    "python27/Scripts/activate.bat #进入隔离环境\n",
    "deactivate.bat #退出隔离环境"
   ]
  },
  {
   "cell_type": "markdown",
   "metadata": {},
   "source": [
    "virtualenvwrapper是对virtualenv的封装，使得操作Python隔离环境更加容易，需要提前配置WORKON_HOME环境变量path/to/your/virtualenv_folder"
   ]
  },
  {
   "cell_type": "raw",
   "metadata": {},
   "source": [
    "#For MacOS\n",
    "pip install virtualenvwrapper"
   ]
  },
  {
   "cell_type": "raw",
   "metadata": {},
   "source": [
    "#For Windows\n",
    "pip install virtualenvwrapper-win\n",
    "mkvirtualenv python27 #创建隔离环境\n",
    "workon python27 #进入隔离环境\n",
    "deactivate #退出隔离环境\n",
    "rmvirtualenv venv #删除隔离环境\n",
    "lsvirtualen #列出所有隔离环境"
   ]
  },
  {
   "cell_type": "markdown",
   "metadata": {},
   "source": [
    "## 二、Jupyter Lab\n",
    "\n",
    "### 1. 安装和启动\n",
    "- 独立安装 pip install jupyterlab，指定工作路径启动 jupyter lab --app-dir=path\\to\\working\\folder\n",
    "- 使用天池线上开发工具 https://tianchi.aliyun.com/"
   ]
  },
  {
   "cell_type": "markdown",
   "metadata": {},
   "source": [
    "### 2. 两种状态\n",
    "在jupyter lab中有两种状态：\n",
    "- 编辑状态 (Editor Mode)。绿色，在编辑状态时右上角会出现铅笔图标，按Esc键切换回命令状态。\n",
    "- 命令状态 (Command Mode)。蓝色，按Enter键（或者双击cell）变为编辑状态"
   ]
  },
  {
   "cell_type": "markdown",
   "metadata": {},
   "source": [
    "### 3. code cell和markdown cell\n",
    "code cell可以编辑和运行代码，但要注意上下文关系，code cell有语法高亮和自动补全功能。默认情况下，code cell默认的语言是Python，但是其它语言，可以使用单元魔术命令来处理。"
   ]
  },
  {
   "cell_type": "code",
   "execution_count": 6,
   "metadata": {},
   "outputs": [
    {
     "name": "stdout",
     "output_type": "stream",
     "text": [
      "0\n",
      "1\n",
      "2\n"
     ]
    }
   ],
   "source": [
    "for i in range(3):\n",
    "    print(i)"
   ]
  },
  {
   "cell_type": "markdown",
   "metadata": {},
   "source": [
    "markdown cell支持LaTaX，使用两个美元符号强制独立一行，使用一个美元符号则嵌入行内$\\int_0^{+\\infty} x^2 dx$\n",
    "$$ P(A \\mid B) = \\frac{P(B \\mid A) P(A)}{P(B)} $$"
   ]
  },
  {
   "cell_type": "markdown",
   "metadata": {},
   "source": [
    "![](http://ipython.org/_static/IPy_header.png)"
   ]
  },
  {
   "cell_type": "markdown",
   "metadata": {},
   "source": [
    "### 4. 快捷键\n",
    "- Shift+Enter：运行单元(run cell) 执行当前的单元，显示输出(如果有的话)，然后跳到下一个单元\n",
    "- Ctrl+Enter：运行单元，并保持位置\n",
    "- Esc和Enter：切换命令模式和编辑模式\n",
    "- 编辑模式下按control+shifmt+ -可拆分cell\n",
    "- 在命令模式下，选中想合并的单元，然后用shift+m合并\n",
    "- 其他查看Help菜单"
   ]
  },
  {
   "cell_type": "markdown",
   "metadata": {},
   "source": [
    "### 5. 魔法命令"
   ]
  },
  {
   "cell_type": "raw",
   "metadata": {},
   "source": [
    "%%bash\n",
    "%matplotlib inline"
   ]
  },
  {
   "cell_type": "markdown",
   "metadata": {},
   "source": [
    "### 6. 在线浏览github上的jupyter lab文档\n",
    "https://nbviewer.jupyter.org/"
   ]
  },
  {
   "cell_type": "markdown",
   "metadata": {},
   "source": [
    "## 三、代码阅读：计算股票交易收益和收益率"
   ]
  },
  {
   "cell_type": "markdown",
   "metadata": {},
   "source": [
    "- 数据说明：\n",
    "    - 行情（/ch02/quotations.csv），参与交易股票的日频行情数据：\n",
    "        - stock_code  标的代码        \n",
    "        - trade_date  交易日期\n",
    "        - open_price  开盘价\n",
    "        - close_price 收盘价\n",
    "    - 委托（/ch02/orders.csv），包含最终成交状态的委托数据：\n",
    "        - order_code  委托代码\n",
    "        - stock_code  标的代码        \n",
    "        - order_date  委托日期\n",
    "        - order_time  委托时间\n",
    "        - operation   操作类型：1买入 2卖出 3融资买入 4融券卖出 5买券还券 6卖券还款\n",
    "        - direction   操作方向：Direction.BUY Direction.SELL\n",
    "        - status      委托状态：2待报 4已报 5废单 6部成 7成交 8部撤 9已撤 10待撤\n",
    "        - volume      委托量\n",
    "        - price       委托价\n",
    "        - deal_volume 成交量\n",
    "        - deal_price  成交价\n",
    "        \n",
    "- 通过股票委托的最终成交状态计算股票收益和收益率：\n",
    "    - 假设初始账户上只有现金，没有持仓\n",
    "    - 每支股票每个委托累积收益 = (当日收盘价 - 委托成本价) x 委托成交量 - 交易成本    \n",
    "    - 当日累积收益为当日及之前所有股票所有委托的累积收益之和\n",
    "    - 当日收益 = 当日累积收益 - 上一个交易日累积收益\n",
    "    - 当日累积收益率 = 当日累积收益 / 初始资金  \n",
    "    - 假设不考虑出入金情况，当日收益率 = 当日收益 / (初始资金 + 上一个交易日累积收益)"
   ]
  },
  {
   "cell_type": "code",
   "execution_count": 7,
   "metadata": {},
   "outputs": [],
   "source": [
    "import sys\n",
    "import os\n",
    "from ch01 import get_stock_cost, Direction\n",
    "import pandas as pd\n",
    "sys.path.append(os.getcwd())"
   ]
  },
  {
   "cell_type": "code",
   "execution_count": 8,
   "metadata": {},
   "outputs": [],
   "source": [
    "quotations = pd.read_csv('data/ch02/quotations.csv').to_dict(orient='records')\n",
    "orders = pd.read_csv('data/ch02/orders.csv').to_dict(orient='records')"
   ]
  },
  {
   "cell_type": "code",
   "execution_count": 9,
   "metadata": {},
   "outputs": [],
   "source": [
    "def get_close_price(stock_code, date):\n",
    "    \"\"\"\n",
    "    获取每日收盘价\n",
    "    :param str stock_code: 股票代码\n",
    "    :param int date: 日期\n",
    "    :return float: 收盘价\n",
    "    \"\"\"\n",
    "    for quotation in quotations:\n",
    "        if quotation['stock_code'] == stock_code and quotation['trade_date'] == date:\n",
    "            return quotation['close_price']\n",
    "    return 0\n",
    "\n",
    "\n",
    "def get_net_profit(order, date):\n",
    "    \"\"\"\n",
    "    计算每个委托收益\n",
    "    :param dict order: 委托\n",
    "    :param int date: 日期\n",
    "    :return float: 委托收益\n",
    "    \"\"\"\n",
    "    if order and order['deal_volume'] > 0:\n",
    "        fee = get_stock_cost(str(order['stock_code']), order['deal_price'], order['deal_volume'], order['direction'])\n",
    "        direction = (-1 if order['direction'] == Direction.SELL else 1)\n",
    "        return direction * (get_close_price(order['stock_code'], date) - order['deal_price']) * order['deal_volume'] - fee\n",
    "    return 0\n",
    "\n",
    "\n",
    "def get_account_accumulated_net_profit(date):\n",
    "    \"\"\"\n",
    "    计算账户累计收益\n",
    "    :param int date: 截止日期\n",
    "    :return float: 账户累计收益\n",
    "    \"\"\"\n",
    "    accumulated_net_profit = 0\n",
    "    for order in orders:\n",
    "        if order['order_date'] <= date:\n",
    "            accumulated_net_profit = accumulated_net_profit + get_net_profit(order, date)\n",
    "\n",
    "    return accumulated_net_profit\n",
    "\n",
    "\n",
    "def run():\n",
    "    \"\"\"\n",
    "    计算账户所有委托累计收益，收益，累计收益率，收益率\n",
    "    :return float: 累计收益，收益，累计收益率，收益率\n",
    "    \"\"\"\n",
    "    init_cash = 500000\n",
    "    results = {}\n",
    "    yesterday_net_profit = 0\n",
    "    for date in (20210104, 20210105):\n",
    "        net_profit = get_account_accumulated_net_profit(date)\n",
    "        today_net_profit = net_profit - yesterday_net_profit\n",
    "        ratio = net_profit / init_cash\n",
    "        today_ratio = today_net_profit / (init_cash + yesterday_net_profit)\n",
    "        results[date] = (net_profit, today_net_profit, ratio, today_ratio)\n",
    "        yesterday_net_profit = net_profit\n",
    "    return results\n",
    "\n",
    "results = run()"
   ]
  },
  {
   "cell_type": "markdown",
   "metadata": {},
   "source": [
    "### 编程实践：尝试检验股票收益和收益率的计算结果"
   ]
  },
  {
   "cell_type": "code",
   "execution_count": 10,
   "metadata": {},
   "outputs": [
    {
     "name": "stdout",
     "output_type": "stream",
     "text": [
      "5338.668680000059\n",
      "5338.668680000059\n",
      "0.010677337360000119\n",
      "0.010677337360000205\n"
     ]
    }
   ],
   "source": [
    "print(results[20210105][0]) # 累积收益\n",
    "print(results[20210104][1] + results[20210105][1]) # 根据每日收益计算累积收益进行检验\n",
    "print(results[20210105][2]) # 累积收益率\n",
    "print((1 + results[20210104][3]) * (1 + results[20210105][3]) - 1) # 根据每日收益率计算累积收益率进行检验"
   ]
  },
  {
   "cell_type": "code",
   "execution_count": null,
   "metadata": {},
   "outputs": [],
   "source": []
  }
 ],
 "metadata": {
  "kernelspec": {
   "display_name": "Python 3",
   "language": "python",
   "name": "python3"
  },
  "language_info": {
   "codemirror_mode": {
    "name": "ipython",
    "version": 3
   },
   "file_extension": ".py",
   "mimetype": "text/x-python",
   "name": "python",
   "nbconvert_exporter": "python",
   "pygments_lexer": "ipython3",
   "version": "3.7.0"
  }
 },
 "nbformat": 4,
 "nbformat_minor": 4
}
