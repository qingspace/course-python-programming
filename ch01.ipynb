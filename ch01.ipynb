{
 "cells": [
  {
   "cell_type": "markdown",
   "metadata": {},
   "source": [
    "# Python课程和Python语言简介\n",
    "## 一、关于我们\n",
    "- 关于计量经济学教育部重点实验室（厦门大学） [微信号](images/bzs.jpg) \n",
    "    - 计算资源 [http://app.soe.xmu.edu.cn/moe/status/](http://app.soe.xmu.edu.cn/moe/status/)\n",
    "    - 数据资源 [http://app.soe.xmu.edu.cn/elib/](http://app.soe.xmu.edu.cn/elib/)\n",
    "- 关于WISERCLUB [微信号](images/wiserclub.png)\n",
    "- 关于选课同学情况调查\n",
    "    - 关于年级专业\n",
    "    - 关于编程基础\n",
    "    - 关于编程兴趣\n",
    "- 微信群[微信群](images/weixin.png)"
   ]
  },
  {
   "cell_type": "markdown",
   "metadata": {},
   "source": [
    "## 二、关于课程"
   ]
  },
  {
   "cell_type": "markdown",
   "metadata": {},
   "source": [
    "### 1. 课程大纲\n",
    "- ch01 Python课程和Python语言简介\n",
    "    - 课程大纲、目标、学习方法和考核要求\n",
    "    - Python语言的发展和应用，Python标准库和第三方库\n",
    "    - 代码阅读：计算国内股票交易成本，了解股票交易业务，了解Python编程基本语法，发现Python变量和函数\n",
    "- ch02 Python开发环境和开发工具\n",
    "    - 初识操作系统\n",
    "    - 构建Python开发环境\n",
    "    - 使用pycharm和jupyter lab等开发工具\n",
    "    - 代码阅读：计算股票交易收益和净值，了解股票交易业务，了解Python编程基本语法，发现复杂的代码逻辑\n",
    "- ch03 Python基本语法、数据类型和控制语句\n",
    "    - 掌握Python基本语法，操作基本数据结构，使用基本控制语句\n",
    "    - 编程实践：猜测股票价格，掌握Python基本语法，掌握随机数，使用控制语句，开发和运行Python代码\n",
    "- ch04 Python特殊语法和字符串\n",
    "    - 认识Python语法糖，初步处理Python字符串\n",
    "    - 代码阅读：通过股票成交推导持仓，了解股票交易业务，了解Python编程基本语法，发现业务和编程的联系\n",
    "- ch05 Python函数和类\n",
    "    - 了解Python的基本封装结构，了解面向对象编程\n",
    "    - 编程实践：封装股票计算相关逻辑，了解股票交易业务，了解Python类的抽象和封装\n",
    "- ch06 Python访问本地和远程文件\n",
    "    - 熟悉Python文件操作和Pandas等第三方库相关功能\n",
    "    - 代码阅读：股票文件扫单交易，了解相关业务，了解Python的操作系统IO访问能力\n",
    "- ch07 Python访问数据库\n",
    "    - 初识网络服务\n",
    "    - 安装Mysql数据库，Python连接和读写数据库    \n",
    "    - 代码阅读：封装数据库操作类\n",
    "- ch08 Python访问网页和HTTP协议\n",
    "    - 初识Web和HTTP协议\n",
    "    - 了解网页的结构，使用requests包\n",
    "    - 代码阅读：读取可转债行情，了解可转债交易业务，初步获取网页数据\n",
    "- ch09 Python访问接口\n",
    "    - 初识应用程序接口和HTTP接口\n",
    "    - 了解面向接口编程，数据实体类的定义和转换，自定函数和类作为接口\n",
    "    - 编程实践：开发通过tushare和easyquotation第三方包获取股票行情\n",
    "- ch10 Python包NumPy和Pandas基础\n",
    "    - 了解NumPy和Pandas的数据结构和基本操作\n",
    "    - 代码阅读：使用Pandas分组计算股票交易成本和收益\n",
    "- ch11 Python数据可视化\n",
    "    - 使用Matplotlib进行数据可视化\n",
    "    - 编程实践: 了解可转债交易业务，分析可转债和正股历史价格，可视化数据\n",
    "- ch12 Python数据处理\n",
    "    - 使用Pandas进行基本数据探索\n",
    "    - 编程实践: 继续了解可转债交易业务，分析可转债及其相关标的历史价格\n",
    "- ch13 Python数据分析\n",
    "    - 了解statsmodel和sklearn包，掌握数据分析基础\n",
    "    - 代码阅读：线性回归预测股票价格\n",
    "- ch14 Python数据分析案例\n",
    "    - 可转债正股对冲套利\n",
    "    - 相关股票对冲分析\n",
    "    - 可转债跨标的对冲套利\n",
    "    - 实施实时风控\n",
    "- ch15 Python编程进阶\n",
    "    - 如何理解面向接口编程和面向对象编程"
   ]
  },
  {
   "cell_type": "markdown",
   "metadata": {},
   "source": [
    "### 2. 课程目标\n",
    "具备利用Python编程进行数据处理和分析的能力，由易到难达到如下三个层次：\n",
    "\n",
    "- **工具**：利用Python开发工具，掌握Python基础编程\n",
    "- **应用**：熟悉Python标准库和第三方包，完成数据处理任务\n",
    "- **项目**：结合业务，团队协作，完成数据分析项目\n",
    "\n",
    "最后的一个层次需要一个长期积累的过程，我们以达到前两个层次为目的，达到最后一个层次为期望"
   ]
  },
  {
   "cell_type": "markdown",
   "metadata": {},
   "source": [
    "### 3. 学习方法\n",
    "![](images/datapie.png)\n",
    "- **树立目标**\n",
    "- **培养兴趣**\n",
    "    - 让事情好玩一点\n",
    "    - 选择刚刚好的挑战\n",
    "- **程序员思维方式**\n",
    "    - 一定程度的完美主义\n",
    "    - 一定程度的抽象：一切都是为了输入输出数据（设计），一切都是在建造能够输入输出数据的功能（编程），一切都是在输入输出数据（运行）\n",
    "    - 一定程度的“偷懒”：模仿（拿来主义），实践（关注业务目标），不重复自己（不做重复的事）\n",
    "- **建立知识网络**\n",
    "    - 以点带面，建立知识网络\n",
    "    - 面对遗忘，不去挑战人性    \n",
    "- **渐进学习过程**\n",
    "    - 了解背景知识\n",
    "    - 提出需要解决的问题\n",
    "    - 学习相关知识\n",
    "    - 尝试解决问题\n",
    "    - 发现更多需要解决的子问题\n",
    "    - 检查子问题是不是脱离父问题太远，太远暂时放弃，不远则解决\n",
    "    - 递归直到大体解决问题\n",
    "    - 重构优化解决方案\n",
    "    - 重复以上流程"
   ]
  },
  {
   "cell_type": "code",
   "execution_count": 1,
   "metadata": {},
   "outputs": [
    {
     "data": {
      "text/plain": [
       "<Figure size 1000x600 with 1 Axes>"
      ]
     },
     "metadata": {},
     "output_type": "display_data"
    }
   ],
   "source": [
    "import numpy as np\n",
    "import matplotlib.pyplot as plt\n",
    "x = np.arange(10)\n",
    "plt.figure(figsize=(10,6))\n",
    "plt.plot(x, x, 'b')\n",
    "y = np.array([n - 2 if n % 2 == 0 else n + 2 for n in x])\n",
    "plt.plot(x, y, 'r')\n",
    "plt.arrow(9, 11, 0.1, 0.5, head_width=0.2, head_length=0.6, fc='r', ec='r',overhang=0.4)\n",
    "plt.show()"
   ]
  },
  {
   "cell_type": "markdown",
   "metadata": {},
   "source": [
    "### 4. 学习资源\n",
    "- 《Python基础教程》\n",
    "- 《Python核心编程》\n",
    "- 《Python Cookbook》\n",
    "- 《利用Python进行数据分析》\n",
    "- <https://www.python.org/doc/>\n",
    "- <https://github.com/>\n",
    "- <http://stackoverflow.com/>\n",
    "- 第三方包官方文档"
   ]
  },
  {
   "cell_type": "markdown",
   "metadata": {},
   "source": [
    "### 5. 考核要求\n",
    "- 平时成绩20分：平时课堂表现和课后小作业情况（课件中所有标识实践的编程题需要重现，要求：格式整洁，结构完整，题量充分）\n",
    "- 期末成绩80分：期末成绩即期末大作业的成绩，包括两个部分各占50%\n",
    "    - 基础分（要求：格式整洁，结构完整，可以执行）\n",
    "    - 提高分（要求：逻辑清晰，结果合理；使用超过课程涉及的库或特性，完成超过要求的额外代码，获得更具意义的结论）"
   ]
  },
  {
   "cell_type": "markdown",
   "metadata": {},
   "source": [
    "## 三、关于Python语言\n",
    "Python是一门编程语言，与任何一门语言一样需要与业务领域结合才能发挥作用。Python的学习不在于编程，在于应用。"
   ]
  },
  {
   "cell_type": "markdown",
   "metadata": {},
   "source": [
    "### 1. 编程语言排名\n",
    "<http://www.tiobe.com/tiobe-index/>\n",
    "\n",
    "- Python和其他许多语言都是很老的语言，上个世纪90年代是语言的爆发期，Java、Python、PHP、Ruby都是那个时代的产物。\n",
    "- Python并不是近年才火，只是在数据时代，大家又发现了Python新的价值。\n",
    "\n",
    "目前排名前10的编程语言：\n",
    "\n",
    "![rank](images/index.png)\n",
    "\n",
    "目前排名前5的编程语言的排名变化：\n",
    "\n",
    "![trend](images/trend.png)"
   ]
  },
  {
   "cell_type": "markdown",
   "metadata": {},
   "source": [
    "###　2. Python的优势\n",
    "- 较容易：Python是排名前10的编程语言中最容易入门的语言\n",
    "- 跨平台：Python可以跨Windows、Linux和MacOS等多个平台\n",
    "- 跨领域：Python涉及数据分析、机器学习、分布式开发、Web开发，嵌入式开发等多个领域\n",
    "- 跨语言：Python原生解释器CPython可以直接调用C和C++库，利用对应语言开发的解释器Jython，IronPython可以调用Java和C#库\n",
    "- 开源语言：Python是开源语言，使用类BSD许可证（几乎可以为所欲为的协议），与GPL许可证兼容\n",
    "- 社区活跃：Python第三方包多，Python某个功能的库可能比Python语言的关键字还多\n",
    "- 数据科学：Python在数据科学领域的地位越来越牢固\n",
    "\n",
    "![](images/data-science.png)"
   ]
  },
  {
   "cell_type": "markdown",
   "metadata": {},
   "source": [
    "### 3. Python是一个家族\n",
    "- CPython：用C编写的Python解释器，是Python的参考实现\n",
    "- Jython：Java平台上实现的Python解释器，Python代码运行在JVM上，可以导入并使用Java类\n",
    "- IronPython：.Net平台上实现的Python解释器，可以导入并使用C#类\n",
    "- MicroPython：支持嵌入式系统\n",
    "- PyPy(JIT)：用RPython实现的解释器，RPython是Python的子集"
   ]
  },
  {
   "cell_type": "markdown",
   "metadata": {},
   "source": [
    "### 4. Python是一种解释型语言\n",
    "- 解释和编译都是为了最终输出CPU可以执行的机器码\n",
    "- 解释是运行时实时翻译机器码，负责翻译的程序叫解释器（Interpreter）；编译是开发时翻译机器码或中间语言，负责编译的程序叫编译器（Compiler）\n",
    "- 解释型语言也称为动态语言，脚本语言"
   ]
  },
  {
   "cell_type": "markdown",
   "metadata": {},
   "source": [
    "### 5. Python版本和anaconda\n",
    "- Python 2和Python 3：Python 2.7作为标准有很长一段时间，Python 3已经取代Python 2（对中文等unicode字符支持更好），本课件使用Python 3.7\n",
    "- x64和x86：与CPU和操作系统相关，有些Python包对该版本有要求，本课件使用64位的Python 3.7\n",
    "- anaconda是一个用于科学计算的Python发行版，支持 Linux, MacOS, Windows系统，提供了包管理与环境管理的功能，可以很方便地解决多版本Python并存、切换以及各种第三方包安装问题。下载地址<https://www.anaconda.com/products/individual>\n",
    "\n",
    "![](images/Python.jpg)"
   ]
  },
  {
   "cell_type": "markdown",
   "metadata": {},
   "source": [
    "### 6. Python标准库和第三方包\n",
    "与其他语言类似，伴随Python解释器一同发布的还有Python的标准库，提供了日常编程问题的标准解决方案。https://docs.python.org/zh-cn/3/library/index.html\n",
    "\n",
    "同时由于活跃的Python社区，带来了数量庞大的Python第三方包：\n",
    "- flask: Flask is a microframework for Python. http://flask.pocoo.org\n",
    "- django: Django is a high-level Python Web framework that encourages rapid development and clean, pragmatic design. https://www.djangoproject.com\n",
    "- requests: Python HTTP Requests for Humans. http://python-requests.org\n",
    "- pyspider: A Powerful Spider(Web Crawler) System in Python. http://docs.pyspider.org\n",
    "- numpy: NumPy is the fundamental package for scientific computing with Python. http://www.numpy.org\n",
    "- scipy: SciPy is open-source software for mathematics, science, and engineering. https://www.scipy.org\n",
    "- pandas: pandas is an open source, BSD-licensed library providing high-performance, easy-to-use data structures and data analysis tools for the Python programming language. http://pandas.pydata.org\n",
    "- matplotlib: Matplotlib is a Python 2D plotting library. http://matplotlib.org\n",
    "- seaborn: Seaborn is a Python visualization library based on matplotlib. It provides a high-level interface for drawing attractive statistical graphics. https://seaborn.pydata.org\n",
    "- statsmodels: statsmodels is a Python module that provides classes and functions for the estimation of many different statistical models, as well as for conducting statistical tests, and statistical data exploration. http://www.statsmodels.org\n",
    "- scikit-learn: Simple and efficient tools for data mining and data analysis. http://scikit-learn.org\n",
    "- theano: Theano is a Python library that allows you to define, optimize, and evaluate mathematical expressions involving multi-dimensional arrays efficiently. http://deeplearning.net/software/theano/\n",
    "- tensorflow: TensorFlow is an open source software library for numerical computation using data flow graphs. https://www.tensorflow.org/\n",
    "- keras: Keras is a high-level neural networks API, written in Python and capable of running on top of either TensorFlow or Theano. https://keras.io/  http://keras-cn.readthedocs.io\n",
    "- pytorch: PyTorch is an optimized tensor library for deep learning using GPUs and CPUs. https://pytorch.org/"
   ]
  },
  {
   "cell_type": "code",
   "execution_count": 2,
   "metadata": {},
   "outputs": [
    {
     "data": {
      "text/plain": [
       "200"
      ]
     },
     "execution_count": 2,
     "metadata": {},
     "output_type": "execute_result"
    }
   ],
   "source": [
    "import requests\n",
    "r = requests.get(\"http://quote.eastmoney.com/concept/sz000932.html\")\n",
    "r.status_code"
   ]
  },
  {
   "cell_type": "markdown",
   "metadata": {},
   "source": [
    "### 7. 天池线上开发工具\n",
    "天池实验室 https://tianchi.aliyun.com/"
   ]
  },
  {
   "cell_type": "markdown",
   "metadata": {},
   "source": [
    "## 四、代码阅读：计算国内股票交易成本"
   ]
  },
  {
   "cell_type": "markdown",
   "metadata": {},
   "source": [
    "国内股票的交易成本主要包括以下几项：\n",
    "- 印花税：卖出股票时收取，为交易市值的0.001\n",
    "- 过户费：上证股票收取，为交易市值的0.00002\n",
    "- 交易佣金：券商买卖双向收取，一般为交易市值0.0002，可能有最低5元限额，不同客户不同。包含交易所规费，叫实收佣金，不包含交易所规费，叫净收佣金\n",
    "- 交易所规费：交易所收取，一般为交易市值0.0000687，包含在交易佣金里"
   ]
  },
  {
   "cell_type": "code",
   "execution_count": 1,
   "metadata": {},
   "outputs": [
    {
     "data": {
      "text/plain": [
       "1.6759600000000003"
      ]
     },
     "execution_count": 1,
     "metadata": {},
     "output_type": "execute_result"
    }
   ],
   "source": [
    "DEFAULT_STOCK_TAX_RATE = 0.001  # 印花税率\n",
    "DEFAULT_SH_TRANSFER_FEE_RATE = 0.00002  # 上证过户费率\n",
    "DEFAULT_SZ_TRANSFER_FEE_RATE = 0  # 深证过户费率\n",
    "DEFAULT_COMMISSION_RATE = 0.0002  # 佣金费率\n",
    "DEFAULT_COMMISSION_MIN = 0  # 佣金下限\n",
    "DEFAULT_EXCHANGE_FEE_RATE = 0  # 交易所规费费率\n",
    "DEFAULT_OTHER_FEE_RATE = 0  # 其他费用费率\n",
    "\n",
    "\n",
    "class Direction:\n",
    "    \"\"\"\n",
    "    买卖方向\n",
    "    \"\"\"\n",
    "    BUY = 'BUY'\n",
    "    SELL = 'SELL'\n",
    "\n",
    "class Exchange:\n",
    "    \"\"\"\n",
    "    交易市场\n",
    "    \"\"\"\n",
    "    SSE = 'SSE'\n",
    "    SZSE = 'SZSE'\n",
    "\n",
    "\n",
    "def get_exchange(stock_code):\n",
    "    \"\"\"\n",
    "    判断股票交易市场\n",
    "    60是上证A股，900是上证B股，68是上证科创板，其中688是股票、689是存托凭证\n",
    "    00是深证A股，200是深证B股，002是深证中小板, 300是创业板\n",
    "    50是上证封闭式基金，51是上证ETF基金\n",
    "    18是深证封闭式基金，16是深证LOF基金，15是深证ETF基金或分级基金\n",
    "    100或110是沪市可转债\n",
    "    125或126是深市可转债\n",
    "    :param str stock_code: 股票代码\n",
    "    :return Exchange: 交易市场\n",
    "    \"\"\"\n",
    "    if not stock_code:\n",
    "        return None\n",
    "    stock_code = stock_code.strip()    \n",
    "    if stock_code.startswith('60') or stock_code.startswith('900') or stock_code.startswith('688') or stock_code.startswith('689'):\n",
    "        return Exchange.SSE    \n",
    "    elif stock_code.startswith('00') or stock_code.startswith('200') or stock_code.startswith('300'):\n",
    "        return Exchange.SZSE    \n",
    "    elif stock_code.startswith('50') or stock_code.startswith('51') or stock_code.startswith('52'):\n",
    "        return Exchange.SSE    \n",
    "    elif stock_code.startswith('18') or stock_code.startswith('16') or stock_code.startswith('15'):\n",
    "        return Exchange.SZSE \n",
    "    elif stock_code.startswith('10') or stock_code.startswith('11'):\n",
    "        return Exchange.SSE    \n",
    "    elif stock_code.startswith('12'):\n",
    "        return Exchange.SZSE\n",
    "    return None\n",
    "\n",
    "def get_stock_cost(stock_code, price, volume, direction, \n",
    "                   tax_rate=DEFAULT_STOCK_TAX_RATE,\n",
    "                   sz_transfer_fee_rate=DEFAULT_SZ_TRANSFER_FEE_RATE,\n",
    "                   sh_transfer_fee_rate=DEFAULT_SH_TRANSFER_FEE_RATE, \n",
    "                   commission_rate=DEFAULT_COMMISSION_RATE,\n",
    "                   commission_min=DEFAULT_COMMISSION_MIN, \n",
    "                   exchange_fee_rate=DEFAULT_EXCHANGE_FEE_RATE,\n",
    "                   other_fee_rate=DEFAULT_OTHER_FEE_RATE):\n",
    "    \"\"\"\n",
    "    计算股票交易成本\n",
    "    :param str stock_code: 股票代码\n",
    "    :param float price: 成交价格\n",
    "    :param int volume: 成交数量\n",
    "    :param str direction: Direction，买入卖出\n",
    "    :param float tax_rate: 印花税率\n",
    "    :param float sh_transfer_fee_rate: 上证过户费费率\n",
    "    :param float sz_transfer_fee_rate: 深圳过户费费率\n",
    "    :param float commission_rate: 佣金费率\n",
    "    :param float commission_min: 佣金下限\n",
    "    :param float exchange_fee_rate: 交易所规费费率\n",
    "    :param float other_fee_rate: 其他费用费率\n",
    "    :return float: 交易成本\n",
    "    \"\"\"\n",
    "    tax, fee, commission, exchange_fee, other_fee = 0, 0, 0, 0, 0\n",
    "    amount = price * volume\n",
    "    if direction == Direction.SELL:\n",
    "        tax = amount * tax_rate\n",
    "    if get_exchange(stock_code) == Exchange.SSE:\n",
    "        fee = amount * sh_transfer_fee_rate\n",
    "    elif get_exchange(stock_code) == Exchange.SZSE:\n",
    "        fee = amount * sz_transfer_fee_rate\n",
    "    if commission_rate:\n",
    "        commission = amount * commission_rate\n",
    "    if 0 < commission < commission_min:\n",
    "        commission = commission_min\n",
    "    if exchange_fee_rate:\n",
    "        exchange_fee = amount * exchange_fee_rate\n",
    "    if other_fee_rate:\n",
    "        other_fee = amount * other_fee_rate\n",
    "    return tax + fee + commission + exchange_fee + other_fee\n",
    "\n",
    "get_stock_cost('600318', 76.18, 100, Direction.BUY)"
   ]
  },
  {
   "cell_type": "markdown",
   "metadata": {},
   "source": [
    "### 编程实践：尝试计算国内多支股票交易成本"
   ]
  },
  {
   "cell_type": "code",
   "execution_count": 2,
   "metadata": {},
   "outputs": [
    {
     "data": {
      "text/plain": [
       "21.573"
      ]
     },
     "execution_count": 2,
     "metadata": {},
     "output_type": "execute_result"
    }
   ],
   "source": [
    "get_stock_cost('000001', 21.15, 1000, Direction.BUY, \n",
    "               tax_rate=0.001,\n",
    "               sz_transfer_fee_rate=0.00002,\n",
    "               sh_transfer_fee_rate=0, \n",
    "               commission_rate=0.001,\n",
    "               commission_min=5, \n",
    "               exchange_fee_rate=0,\n",
    "               other_fee_rate=0)"
   ]
  },
  {
   "cell_type": "code",
   "execution_count": null,
   "metadata": {},
   "outputs": [],
   "source": []
  }
 ],
 "metadata": {
  "kernelspec": {
   "display_name": "Python 3",
   "language": "python",
   "name": "python3"
  },
  "language_info": {
   "codemirror_mode": {
    "name": "ipython",
    "version": 3
   },
   "file_extension": ".py",
   "mimetype": "text/x-python",
   "name": "python",
   "nbconvert_exporter": "python",
   "pygments_lexer": "ipython3",
   "version": "3.7.0"
  },
  "toc-autonumbering": false,
  "toc-showcode": false,
  "toc-showmarkdowntxt": false
 },
 "nbformat": 4,
 "nbformat_minor": 4
}
