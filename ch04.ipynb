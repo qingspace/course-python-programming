{
 "cells": [
  {
   "cell_type": "markdown",
   "metadata": {},
   "source": [
    "# Python特殊语法和字符串\n",
    "## 一、Python特殊语法和语法糖"
   ]
  },
  {
   "cell_type": "markdown",
   "metadata": {},
   "source": [
    "### 1. 使用random产生随机数"
   ]
  },
  {
   "cell_type": "code",
   "execution_count": 1,
   "metadata": {},
   "outputs": [
    {
     "name": "stdout",
     "output_type": "stream",
     "text": [
      "choice(range(10)) = 7\n",
      "randrange(0, 10, 2) = 0\n",
      "random() = 0.007491470058587191\n",
      "uniform(10,20) = 19.10975962449124\n",
      "randomint(10) = 19\n",
      "shuffle([1,2,3,4]) then [2, 4, 3, 1]\n",
      "random.sample(a, 2) = [2, 4]\n"
     ]
    }
   ],
   "source": [
    "import random\n",
    "random.seed(1234) # 设置随机种子每次将产生相同的随机数\n",
    "print('choice(range(10)) =', random.choice(range(10)))\n",
    "print('randrange(0, 10, 2) =', random.randrange(0, 10, 2))\n",
    "print('random() =', random.random())\n",
    "print('uniform(10,20) =', random.uniform(10,20))\n",
    "print('randomint(10) =', random.randint(10, 20))\n",
    "a = [1,2,3,4]\n",
    "random.shuffle(a)\n",
    "print('shuffle([1,2,3,4]) then', a)\n",
    "print('random.sample(a, 2) =', random.sample(a, 2))"
   ]
  },
  {
   "cell_type": "markdown",
   "metadata": {},
   "source": [
    "### 编程实践：创建一个包含10个随机数的列表，选出其中偶数项，再选出偶数项中最大的2项"
   ]
  },
  {
   "cell_type": "code",
   "execution_count": 2,
   "metadata": {
    "collapsed": false,
    "jupyter": {
     "outputs_hidden": false
    }
   },
   "outputs": [
    {
     "data": {
      "text/plain": [
       "[82, 100]"
      ]
     },
     "execution_count": 2,
     "metadata": {},
     "output_type": "execute_result"
    }
   ],
   "source": [
    "import random\n",
    "\n",
    "def get_random_numbers(count):\n",
    "    numbers = []\n",
    "    for _ in range(count):\n",
    "        numbers.append(random.randint(0, 100))\n",
    "    even_numbers= []\n",
    "    for i in numbers:\n",
    "        if i % 2 == 0:\n",
    "            even_numbers.append(i)\n",
    "    even_numbers.sort()\n",
    "    return even_numbers[-2:]\n",
    "\n",
    "get_random_numbers(10)"
   ]
  },
  {
   "cell_type": "code",
   "execution_count": 3,
   "metadata": {
    "collapsed": false,
    "jupyter": {
     "outputs_hidden": false
    }
   },
   "outputs": [
    {
     "data": {
      "text/plain": [
       "[64, 62]"
      ]
     },
     "execution_count": 3,
     "metadata": {},
     "output_type": "execute_result"
    }
   ],
   "source": [
    "def get_random_numbers(count):\n",
    "    numbers = sorted([x for x in [random.randint(0, 100) for _ in range(count)] if x % 2 == 0], reverse = True)\n",
    "    return numbers[:2]\n",
    "get_random_numbers(10)"
   ]
  },
  {
   "cell_type": "markdown",
   "metadata": {},
   "source": [
    "### 2. 列表推导式\n",
    "列表推导式是Python的语法糖，用来快速生成列表"
   ]
  },
  {
   "cell_type": "code",
   "execution_count": 4,
   "metadata": {
    "collapsed": false,
    "jupyter": {
     "outputs_hidden": false
    }
   },
   "outputs": [
    {
     "name": "stdout",
     "output_type": "stream",
     "text": [
      "[0, 1, 2, 3, 4, 5, 6, 7, 8, 9]\n",
      "[0.0, 1.0, 4.0, 9.0, 16.0, 25.0, 36.0, 49.0, 64.0, 81.0]\n",
      "[25.0, 36.0, 49.0, 64.0, 81.0]\n",
      "--------------------\n",
      "[('Beer', 'Water'), ('Beer', 'Soda'), ('Beer', 'Juice'), ('Wine', 'Water'), ('Wine', 'Soda'), ('Wine', 'Juice')]\n",
      "[('Beer', 'Water'), ('Wine', 'Soda')]\n"
     ]
    }
   ],
   "source": [
    "import math\n",
    "series = range(10)\n",
    "print([item for item in series])\n",
    "print([math.pow(item, 2) for item in series])\n",
    "print([math.pow(item, 2) for item in series if item > 4])\n",
    "\n",
    "print('-' * 20)\n",
    "booze = ['Beer', 'Wine']\n",
    "soft_drinks = ['Water', 'Soda', 'Juice']\n",
    "print([(x, y) for x in booze for y in soft_drinks])\n",
    "print([x for x in zip(booze, soft_drinks)])"
   ]
  },
  {
   "cell_type": "markdown",
   "metadata": {},
   "source": [
    "### 编程实践：使用列表推导式把小写字母列表转换为大写字母列表"
   ]
  },
  {
   "cell_type": "code",
   "execution_count": 5,
   "metadata": {
    "tags": []
   },
   "outputs": [
    {
     "data": {
      "text/plain": [
       "['Q', 'E', 'T', 'U', 'O', 'A', 'D', 'G', 'J', 'L', 'X', 'V', 'N']"
      ]
     },
     "execution_count": 5,
     "metadata": {},
     "output_type": "execute_result"
    }
   ],
   "source": [
    "letters = list('qwertyuiopasdfghjklzxcvbnm')\n",
    "def convert_letters(letter_list):\n",
    "    result_list = [x.upper() for x in letters]\n",
    "    return result_list[::2]\n",
    "\n",
    "convert_letters(letters)"
   ]
  },
  {
   "cell_type": "markdown",
   "metadata": {},
   "source": [
    "### 3. 字典推导式和集合推导式"
   ]
  },
  {
   "cell_type": "code",
   "execution_count": 6,
   "metadata": {
    "collapsed": false,
    "jupyter": {
     "outputs_hidden": false
    }
   },
   "outputs": [
    {
     "name": "stdout",
     "output_type": "stream",
     "text": [
      "{'Mike': 'Python', 'Jim': 'Ruby', 'Brad': 'PHP'}\n",
      "{'Python': 'Mike', 'Ruby': 'Jim', 'PHP': 'Brad'}\n",
      "{'Beer': 'Water', 'Wine': 'Soda', 'Scotch': 'Juice'}\n",
      "{'P', 'y'}\n"
     ]
    }
   ],
   "source": [
    "list_of_tuples = [('Mike','Python'), ('Jim','Ruby'), ('Brad','PHP')]\n",
    "\n",
    "d1 = {key: value for key, value in list_of_tuples}\n",
    "print(d1)\n",
    "d2 = {val: key for key, val in d1.items()}\n",
    "print(d2)\n",
    "\n",
    "booze = ['Beer', 'Wine', 'Scotch']\n",
    "soft_drinks = ['Water', 'Soda', 'Juice']\n",
    "d3 = {key: val for key, val in zip(booze, soft_drinks) }\n",
    "print(d3)\n",
    "s1 = {key for key in 'Python' if key not in 'thon'}\n",
    "print(s1)"
   ]
  },
  {
   "cell_type": "markdown",
   "metadata": {},
   "source": [
    "### 编程实践：使用字典推导式改进从价格字典中提取价格大于200的子集"
   ]
  },
  {
   "cell_type": "code",
   "execution_count": 7,
   "metadata": {
    "tags": []
   },
   "outputs": [
    {
     "data": {
      "text/plain": [
       "{'AAPL': 612.78, 'IBM': 205.55}"
      ]
     },
     "execution_count": 7,
     "metadata": {},
     "output_type": "execute_result"
    }
   ],
   "source": [
    "prices = {'ACME': 45.23, 'AAPL': 612.78, 'IBM': 205.55, 'HPQ': 37.20, 'FB': 10.75}\n",
    "def get_prices(price_dict):\n",
    "    return {key: val for key, val in prices.items() if val > 200}\n",
    "\n",
    "get_prices(prices)"
   ]
  },
  {
   "cell_type": "markdown",
   "metadata": {},
   "source": [
    "### 4. 不可变类型和可变类型\n",
    "在Python中数字、字符串、元组是不可变类型，列表、字典是可变类型。不可变类型的对象不能在内存中就地修改，Python也没有提供修改的API，而可变类型的对象在内存中可以被就地修改。"
   ]
  },
  {
   "cell_type": "code",
   "execution_count": 8,
   "metadata": {
    "collapsed": false,
    "jupyter": {
     "outputs_hidden": false
    }
   },
   "outputs": [
    {
     "name": "stdout",
     "output_type": "stream",
     "text": [
      "2 140712937582368\n",
      "3 140712937582400\n"
     ]
    }
   ],
   "source": [
    "i = 2 # 创建int对象，值为2\n",
    "print(i, id(i))\n",
    "i = i + 1 # 创建新的int对象，值为3，i指向新的int对象\n",
    "# 原值2并没有改变，只是没有变量引用\n",
    "print(i, id(i))"
   ]
  },
  {
   "cell_type": "code",
   "execution_count": 9,
   "metadata": {
    "collapsed": false,
    "jupyter": {
     "outputs_hidden": false
    }
   },
   "outputs": [
    {
     "name": "stdout",
     "output_type": "stream",
     "text": [
      "abc 2795243697520\n",
      "abd 2795311710816\n"
     ]
    }
   ],
   "source": [
    "s = 'abc' # 创建str对象，值为abc\n",
    "print(s, id(s))\n",
    "s = s.replace('c', 'd') # replace方法创建新的str对象，值为abd，s指向新的str对象\n",
    "# 原值abc并没有改变，只是没有变量引用\n",
    "print(s, id(s))"
   ]
  },
  {
   "cell_type": "code",
   "execution_count": 10,
   "metadata": {},
   "outputs": [
    {
     "name": "stdout",
     "output_type": "stream",
     "text": [
      "(1, 2, 3) 2795311288536\n",
      "(1, 2, 3, 4) 2795311628840\n"
     ]
    }
   ],
   "source": [
    "t = (1, 2, 3) # 创建tuple对象，值为(1, 2, 3)\n",
    "print(t, id(t))\n",
    "t = t + (4, ) # 创建新的tuple对象，值为(1, 2, 3, 4)，t指向新的tuple对象\n",
    "# 原值(1, 2, 3)并没有改变，只是没有变量引用\n",
    "print(t, id(t))\n",
    "# 无法修改元组内部元素的值"
   ]
  },
  {
   "cell_type": "code",
   "execution_count": 11,
   "metadata": {
    "collapsed": false,
    "jupyter": {
     "outputs_hidden": false
    }
   },
   "outputs": [
    {
     "name": "stdout",
     "output_type": "stream",
     "text": [
      "[1, 2, 3] 2795311485448\n",
      "[1, 2, 3, 4] 2795311485448\n",
      "[1, 2, 3, 4] 140712937582400\n",
      "[1, 2, 10, 4] 140712937582624\n"
     ]
    }
   ],
   "source": [
    "l = [1, 2, 3] # 创建list对象，值为[1, 2, 3]\n",
    "print(l, id(l))\n",
    "l.append(4) # append方法修改对象，值为[1, 2, 3，4]，l的指向没有改变\n",
    "print(l, id(l))\n",
    "\n",
    "print(l, id(l[2])) \n",
    "l[2] = 10 # 修改list中第3个元素值，实际上第3个元素指向了新的对象\n",
    "# 原值3并没有被改变，遵守int类型是不可变的原则，但是修改了第3个元素的指向，实际上修改了list的内容\n",
    "print(l, id(l[2]))"
   ]
  },
  {
   "cell_type": "markdown",
   "metadata": {},
   "source": [
    "但是，对于较小的int类型和较短的str类型，为节省内存空间，具有相同值的变量指向同一个对象，但是该对象依然是不可变的"
   ]
  },
  {
   "cell_type": "code",
   "execution_count": 12,
   "metadata": {
    "collapsed": false,
    "jupyter": {
     "outputs_hidden": false
    }
   },
   "outputs": [
    {
     "name": "stdout",
     "output_type": "stream",
     "text": [
      "2 140712937582368\n",
      "2 140712937582368\n",
      "2000 2795311308432\n",
      "2000 2795311306928\n"
     ]
    }
   ],
   "source": [
    "i1 = 2\n",
    "print(i1, id(i1))\n",
    "i2 = 2\n",
    "print(i2, id(i2))\n",
    "i1 = 2000\n",
    "print(i1, id(i1))\n",
    "i2 = 2000\n",
    "print(i2, id(i2))"
   ]
  },
  {
   "cell_type": "markdown",
   "metadata": {},
   "source": [
    "## 二. 字符串和正则表达式"
   ]
  },
  {
   "cell_type": "markdown",
   "metadata": {},
   "source": [
    "### 1. 字符串"
   ]
  },
  {
   "cell_type": "code",
   "execution_count": 13,
   "metadata": {},
   "outputs": [
    {
     "name": "stdout",
     "output_type": "stream",
     "text": [
      "It's time It's time It's time\n",
      "It's \n",
      "time\n",
      "It's time\n",
      "It\\'s time\n",
      "[\\ \n",
      " ' \t \"]\n",
      "中文\n"
     ]
    }
   ],
   "source": [
    "a = 'It\\'s time' #转义字符\n",
    "b = \"It's time\"\n",
    "c = '''It's time''' \n",
    "d = \"\"\"It's \n",
    "time\"\"\" #支持多行文本\n",
    "e = \"It's \"\\\n",
    "\"time\" \n",
    "f = r'It\\'s time'\n",
    "g = \"\"\"[\\\\ \\n \\' \\t \\\"]\"\"\" #常用转义字符\n",
    "h = \"中文\"\n",
    "print(a, b, c)\n",
    "print(d)\n",
    "print(e)\n",
    "print(f)\n",
    "print(g)\n",
    "print(h)"
   ]
  },
  {
   "cell_type": "markdown",
   "metadata": {},
   "source": [
    "### 2. 字符编码\n",
    "任何数据类型都是对底层二进制数据的抽象，计算机只能处理数字，如果要处理文本，就必须先把文本转换为数字才行\n",
    "\n",
    "计算机在设计时采用8个比特（bit）作为一个字节（byte），一个字节能表示的最大的整数范围是0-255（二进制00000000-11111111），如果要表示更大的整数，就必须用更多的字节。比如两个字节可以表示的最大整数是65535，4个字节可以表示的最大整数是4294967295\n",
    "\n",
    "计算机处理文本的方式，就是使用一个整数代表一个文本字符\n",
    "\n",
    "ASCII编码只有127个字符，使用1个字节，包括大小写英文字母、数字和一些符号。比如大写字母A的编码是65（二进制01000001），小写字母z的编码是122（二进制1111010）\n",
    "\n",
    "使用非英文字符的国家，ASCII编码难以满足要求，中国制定了GB2312编码，使用2个字节，对汉字进行编码\n",
    "\n",
    "但是不同国家不同标准，在多语言混合的文本中，就会出现乱码。Unicode编码把所有语言都统一到一套编码里，Unicode定义了字符与整数的对应关系，一般使用2个以上字节\n",
    "\n",
    "为节省空间，UTF-8编码把Unicode字符根据不同的数字大小编码成1-6个字节，英文字母被编码成1个字节，汉字一般是3个字节，生僻的字符被编码成4-6个字节"
   ]
  },
  {
   "cell_type": "markdown",
   "metadata": {},
   "source": [
    "### 3. Python 3中的字符编码\n",
    "Python 3的重要改进是解决了Python 2中的字符编码问题：\n",
    "- Python 3默认编码是UTF-8编码，Python 2是ASCII编码\n",
    "- Python 3中字符串都是str类型，都是Unicode编码，Python 2中字符串有unicode和str是两种类型，分别是Unicode编码和ASCII编码"
   ]
  },
  {
   "cell_type": "code",
   "execution_count": 14,
   "metadata": {
    "collapsed": false,
    "jupyter": {
     "outputs_hidden": false
    }
   },
   "outputs": [
    {
     "name": "stdout",
     "output_type": "stream",
     "text": [
      "65 0b1000001 <class 'str'> b'A' 1\n",
      "27721 0b110110001001001 <class 'str'> b'\\xe6\\xb1\\x89' 3\n"
     ]
    }
   ],
   "source": [
    "a = 'A'\n",
    "b = '汉'\n",
    "print(ord(a), bin(ord(a)), type(a), a.encode('utf-8'), len(a.encode('utf-8')))\n",
    "print(ord(b), bin(ord(b)), type(b), b.encode('utf-8'), len(b.encode('utf-8')))"
   ]
  },
  {
   "cell_type": "markdown",
   "metadata": {},
   "source": [
    "在python代码文件中使用以下声明告知解释器使用utf-8的方式解码python代码文本\n",
    "\n",
    "#-\\*- coding: utf-8 -\\*-"
   ]
  },
  {
   "cell_type": "markdown",
   "metadata": {},
   "source": [
    "![](images/python3encode.jpg)"
   ]
  },
  {
   "cell_type": "code",
   "execution_count": 15,
   "metadata": {
    "collapsed": false,
    "jupyter": {
     "outputs_hidden": false
    }
   },
   "outputs": [
    {
     "data": {
      "text/plain": [
       "'utf-8'"
      ]
     },
     "execution_count": 15,
     "metadata": {},
     "output_type": "execute_result"
    }
   ],
   "source": [
    "import sys\n",
    "sys.getdefaultencoding()"
   ]
  },
  {
   "cell_type": "markdown",
   "metadata": {},
   "source": [
    "### 4. 使用标准库中的字符串函数"
   ]
  },
  {
   "cell_type": "code",
   "execution_count": 16,
   "metadata": {},
   "outputs": [
    {
     "name": "stdout",
     "output_type": "stream",
     "text": [
      "str1 = 'it is a beautifull day.'\n",
      "str1.split() then ['it', 'is', 'a', 'beautifull', 'day.']\n",
      "str1.capitalize() = It is a beautifull day.\n",
      "str1.find(\"a\") = 6\n",
      "str1.index(\"a\") = 6\n",
      "str1.endswith(\"ay\") = False\n",
      "str1.startswith(\"it\") = True\n",
      "str1.title() = It Is A Beautifull Day.\n",
      "str1.upper() = IT IS A BEAUTIFULL DAY.\n",
      "str1.lower() = it is a beautifull day.\n",
      "str1.lstrip() = it is a beautifull day.\n",
      "str1.rstrip('.') = it is a beautifull day\n",
      "str1.strip() = it is a beautifull day.\n",
      "str1.replace(\"beautifull\",\"bad\") = it is a bad day.\n",
      "\",\".join(str1.split()) = it,is,a,beautifull,day.\n",
      "len(str1) = 23\n"
     ]
    }
   ],
   "source": [
    "str1 = 'it is a beautifull day.'\n",
    "\n",
    "print('str1 =', repr(str1))\n",
    "print('str1.split() then', str1.split())\n",
    "print('str1.capitalize() =', str1.capitalize())\n",
    "print('str1.find(\"a\") =', str1.find(\"a\")) # 找不到返回-1\n",
    "print('str1.index(\"a\") =', str1.index(\"a\")) # 找不到抛出异常\n",
    "print('str1.endswith(\"ay\") =', str1.endswith(\"ay\"))\n",
    "print('str1.startswith(\"it\") =', str1.startswith(\"it\"))\n",
    "print('str1.title() =', str1.title())\n",
    "print('str1.upper() =', str1.upper())\n",
    "print('str1.lower() =', str1.lower())\n",
    "print('str1.lstrip() =', str1.lstrip())\n",
    "print(\"str1.rstrip('.') =\", str1.rstrip('.'))\n",
    "print('str1.strip() =', str1.strip())\n",
    "print('str1.replace(\"beautifull\",\"bad\") =', str1.replace(\"beautifull\", \"bad\"))\n",
    "print('\",\".join(str1.split()) =', \",\".join(str1.split()))\n",
    "print('len(str1) =' ,len(str1))"
   ]
  },
  {
   "cell_type": "code",
   "execution_count": 17,
   "metadata": {
    "tags": []
   },
   "outputs": [
    {
     "data": {
      "text/plain": [
       "\u001b[1;31mSignature:\u001b[0m \u001b[0mstr1\u001b[0m\u001b[1;33m.\u001b[0m\u001b[0mcapitalize\u001b[0m\u001b[1;33m(\u001b[0m\u001b[1;33m)\u001b[0m\u001b[1;33m\u001b[0m\u001b[0m\n",
       "\u001b[1;31mDocstring:\u001b[0m\n",
       "Return a capitalized version of the string.\n",
       "\n",
       "More specifically, make the first character have upper case and the rest lower\n",
       "case.\n",
       "\u001b[1;31mType:\u001b[0m      builtin_function_or_method\n"
      ]
     },
     "metadata": {},
     "output_type": "display_data"
    }
   ],
   "source": [
    "?str1.capitalize"
   ]
  },
  {
   "cell_type": "markdown",
   "metadata": {},
   "source": [
    "### 5. 字符串格式化"
   ]
  },
  {
   "cell_type": "code",
   "execution_count": 18,
   "metadata": {
    "collapsed": false,
    "jupyter": {
     "outputs_hidden": false
    }
   },
   "outputs": [
    {
     "name": "stdout",
     "output_type": "stream",
     "text": [
      "it is a beautifull day.\n",
      "Julia. Your age is 18\n",
      "Hello, Julia\n",
      "It's a bad day.\n",
      "Let's go home.\n",
      "      Name       Age\n",
      "--------------------\n",
      "     Julia      1.23\n"
     ]
    }
   ],
   "source": [
    "print('it is a %s day.' % 'beautifull')\n",
    "print('%s. Your age is %d' % ('Julia', 18))\n",
    "print('''Hello, %s\n",
    "It's a %s day.\n",
    "Let's go %s.''' % ('Julia', 'bad', 'home'))\n",
    "\n",
    "print('%10s%10s' % ('Name', 'Age'))\n",
    "print('-' * 20)\n",
    "print('%10s%10.2f' % ('Julia', 1.23456))"
   ]
  },
  {
   "cell_type": "markdown",
   "metadata": {},
   "source": [
    "### 6. 使用正则表达式\n",
    "正则表达式(regular expression)描述了一种字符串匹配的模式（pattern），可以用来检查一个串是否含有某种子串、将匹配的子串替换或者从某个串中取出符合某个条件的子串等"
   ]
  },
  {
   "cell_type": "markdown",
   "metadata": {},
   "source": [
    "|表示法|描述|正则表达式示例|可匹配字符串|不可匹配字符串|\n",
    "|---|---|---|---|---|\n",
    "|.|匹配任意一个字符|a.a|aaa或aba|aab|\n",
    "|^|匹配字符串开始位置|^aa|aaa|baa|\n",
    "|\\$|匹配字符串结束位置|aa\\$|aaa|aab|\n",
    "|\\*|匹配0次或多次前面出现的正则表达式|a\\*b|b或ab或aab|cb|\n",
    "|+|匹配1次或多次前面出现的正则表达式|a+b|ab或aab|b|\n",
    "|?|匹配0次或1次前面出现的正则表达式|a?b|b或ab|aab|\n",
    "|{N}|匹配N次前面出现的正则表达式|a{2}b|aab|ab|\n",
    "|{N,M}|匹配N至M次前面出现的正则表达式|a{1,2}b|ab或aab|aaab|\n",
    "|\\d|匹配一个数字|data\\d|data0或data1|dataa|\n",
    "|\\w|匹配一个字母或数字|data\\w|data0或dataa|data-\n",
    "|\\s|匹配一个空格|data\\sdata|data data|datadata|"
   ]
  },
  {
   "cell_type": "code",
   "execution_count": 19,
   "metadata": {},
   "outputs": [
    {
     "name": "stdout",
     "output_type": "stream",
     "text": [
      "wi\n",
      "163\n",
      "['wise@163.com;', 'soe@qq.com']\n",
      "['wise@163.com', 'soe@qq.com']\n"
     ]
    }
   ],
   "source": [
    "import re\n",
    "s = 'wise@163.com; soe@qq.com'\n",
    "m1 = re.match('\\w{2}', s) # 从字符串开始位置进行匹配\n",
    "if m1 is not None:\n",
    "    print(m1.group())\n",
    "    \n",
    "m2 = re.search('\\d+', s) # 从字符串任意位置进行匹配\n",
    "if m2 is not None:\n",
    "    print(m2.group()) \n",
    "\n",
    "g1 = s.split()\n",
    "print(g1)\n",
    "    \n",
    "g2 = re.split('[\\s;]+', s)\n",
    "\n",
    "print(g2)"
   ]
  },
  {
   "cell_type": "code",
   "execution_count": 20,
   "metadata": {
    "collapsed": false,
    "jupyter": {
     "outputs_hidden": false
    }
   },
   "outputs": [
    {
     "name": "stdout",
     "output_type": "stream",
     "text": [
      "('wise', '163', 'com')\n"
     ]
    }
   ],
   "source": [
    "m3 = re.search('(\\w+)@(\\d+)\\.(\\w+)', s)\n",
    "if m3 is not None:\n",
    "    print(m3.groups())"
   ]
  },
  {
   "cell_type": "code",
   "execution_count": 21,
   "metadata": {
    "collapsed": false,
    "jupyter": {
     "outputs_hidden": false
    }
   },
   "outputs": [
    {
     "name": "stdout",
     "output_type": "stream",
     "text": [
      "('wise', '163', 'com')\n"
     ]
    }
   ],
   "source": [
    "m3 = re.search('(\\w+)@(.+?)\\.(\\w+)', s) # * + ?等默认采用贪婪匹配，后面加上？采用非贪婪匹配\n",
    "if m3 is not None:\n",
    "    print(m3.groups())"
   ]
  },
  {
   "cell_type": "code",
   "execution_count": 22,
   "metadata": {
    "collapsed": false,
    "jupyter": {
     "outputs_hidden": false
    }
   },
   "outputs": [
    {
     "name": "stdout",
     "output_type": "stream",
     "text": [
      "[('wise', '163', 'com'), ('soe', 'qq', 'com')]\n"
     ]
    }
   ],
   "source": [
    "g3 = re.findall('(\\w+)@(.+?)\\.(\\w+)', s) # * + ?等默认采用贪婪匹配，后面加上？采用非贪婪匹配\n",
    "print(g3)"
   ]
  },
  {
   "cell_type": "code",
   "execution_count": 23,
   "metadata": {
    "collapsed": false,
    "jupyter": {
     "outputs_hidden": false
    }
   },
   "outputs": [
    {
     "data": {
      "text/plain": [
       "'python@163.com; python@qq.com'"
      ]
     },
     "execution_count": 23,
     "metadata": {},
     "output_type": "execute_result"
    }
   ],
   "source": [
    "re.sub('(wise|soe)', 'python', s)"
   ]
  },
  {
   "cell_type": "code",
   "execution_count": 24,
   "metadata": {},
   "outputs": [
    {
     "name": "stdout",
     "output_type": "stream",
     "text": [
      "('wise', '163', 'com')\n",
      "('soe', 'qq', 'com')\n"
     ]
    }
   ],
   "source": [
    "r = re.compile('(\\w+)@(\\w+)\\.(\\w+)')\n",
    "for g in g2:\n",
    "    m = r.search(g)\n",
    "    if m is not None:\n",
    "        print(m.groups()) "
   ]
  },
  {
   "cell_type": "markdown",
   "metadata": {},
   "source": [
    "### 编程实践：从字符串中去掉不需要的字符"
   ]
  },
  {
   "cell_type": "code",
   "execution_count": 25,
   "metadata": {
    "collapsed": false,
    "jupyter": {
     "outputs_hidden": false
    }
   },
   "outputs": [
    {
     "name": "stdout",
     "output_type": "stream",
     "text": [
      "--- Hello   world \n",
      "!===\n"
     ]
    }
   ],
   "source": [
    "s = '--- Hello   world \\n!==='\n",
    "print(s)"
   ]
  },
  {
   "cell_type": "code",
   "execution_count": 26,
   "metadata": {
    "collapsed": false,
    "jupyter": {
     "outputs_hidden": false
    }
   },
   "outputs": [
    {
     "data": {
      "text/plain": [
       "'Hello world !'"
      ]
     },
     "execution_count": 26,
     "metadata": {},
     "output_type": "execute_result"
    }
   ],
   "source": [
    "re.sub('[\\s\\n]+', ' ', s.lstrip('-').rstrip('=').strip())"
   ]
  },
  {
   "cell_type": "markdown",
   "metadata": {},
   "source": [
    "## 三、代码阅读：通过股票成交推导持仓"
   ]
  },
  {
   "cell_type": "markdown",
   "metadata": {},
   "source": [
    "- 数据说明：\n",
    "    - 委托（/ch04/orders.csv），包含最终成交状态的委托数据：\n",
    "        - order_code  委托代码\n",
    "        - stock_code  标的代码        \n",
    "        - order_date  委托日期\n",
    "        - order_time  委托时间\n",
    "        - operation   操作类型：1买入 2卖出 3融资买入 4融券卖出 5买券还券 6卖券还款\n",
    "        - direction   操作方向：Direction.BUY Direction.SELL\n",
    "        - status      委托状态：2待报 4已报 5废单 6部成 7成交 8部撤 9已撤 10待撤\n",
    "        - volume      委托量\n",
    "        - price       委托价\n",
    "        - deal_volume 成交量\n",
    "        - deal_price  成交价\n",
    "- 通过股票委托的最终成交状态推导持仓：\n",
    "    - 持仓：\n",
    "        - stock_code  标的代码        \n",
    "        - position_date  持仓日期\n",
    "        - direction   操作方向：Direction.BUY Direction.SELL\n",
    "        - volume      持仓量\n",
    "        - price       持仓价\n",
    "     - 根据委托成交顺序，将每个委托成交结果合并进当前持仓\n",
    "     - 根据每个委托的买卖状态更新增减持仓量和持仓价，假设盈利和亏损不影响持仓价格"
   ]
  },
  {
   "cell_type": "code",
   "execution_count": 2,
   "metadata": {},
   "outputs": [],
   "source": [
    "import sys\n",
    "import os\n",
    "import pandas as pd\n",
    "import logging\n",
    "sys.path.append(os.getcwd())\n",
    "from ch01 import get_stock_cost, Direction\n",
    "logging.basicConfig(level=logging.DEBUG, format='%(asctime)s %(thread)d %(levelname)s %(module)s - %(message)s')\n",
    "logger = logging.getLogger(__name__)"
   ]
  },
  {
   "cell_type": "code",
   "execution_count": 3,
   "metadata": {},
   "outputs": [],
   "source": [
    "orders = pd.read_csv('data/ch04/orders.csv').to_dict(orient='records')"
   ]
  },
  {
   "cell_type": "code",
   "execution_count": 5,
   "metadata": {},
   "outputs": [
    {
     "name": "stderr",
     "output_type": "stream",
     "text": [
      "2021-07-06 17:24:20,678 3064 DEBUG <ipython-input-5-75508e881401> - {'stock_code': 600864, 'position_date': 20210105, 'direction': 'BUY', 'volume': 10000, 'price': 8.451858999999999}\n",
      "2021-07-06 17:24:20,679 3064 DEBUG <ipython-input-5-75508e881401> - {'stock_code': 600864, 'position_date': 20210105, 'direction': 'BUY', 'volume': 20000, 'price': 8.446857899999998}\n",
      "2021-07-06 17:24:20,680 3064 DEBUG <ipython-input-5-75508e881401> - {'stock_code': 600584, 'position_date': 20210105, 'direction': 'BUY', 'volume': 2700, 'price': 42.669385199999994}\n",
      "2021-07-06 17:24:20,681 3064 DEBUG <ipython-input-5-75508e881401> - {'stock_code': 600864, 'position_date': 20210105, 'direction': 'BUY', 'volume': 12400, 'price': 8.43900740645161}\n",
      "2021-07-06 17:24:20,681 3064 DEBUG <ipython-input-5-75508e881401> - {'stock_code': 600584, 'position_date': 20210105, 'direction': 'SELL', 'volume': 900, 'price': 42.663370800000024}\n",
      "2021-07-06 17:24:20,682 3064 DEBUG <ipython-input-5-75508e881401> - {'stock_code': 600584, 'position_date': 20210105, 'direction': 'SELL', 'volume': 3600, 'price': 42.6817356}\n",
      "2021-07-06 17:24:20,683 3064 DEBUG <ipython-input-5-75508e881401> - {'stock_code': 600864, 'position_date': 20210105, 'direction': 'BUY', 'volume': 9300, 'price': 8.432121008602147}\n",
      "2021-07-06 17:24:20,684 3064 DEBUG <ipython-input-5-75508e881401> - {'stock_code': 600584, 'position_date': 20210105, 'direction': '', 'volume': 0, 'price': 0}\n",
      "2021-07-06 17:24:20,685 3064 DEBUG <ipython-input-5-75508e881401> - {'stock_code': 600864, 'position_date': 20210105, 'direction': 'SELL', 'volume': 700, 'price': 8.825629457142915}\n",
      "2021-07-06 17:24:20,686 3064 DEBUG <ipython-input-5-75508e881401> - {'stock_code': 600864, 'position_date': 20210105, 'direction': '', 'volume': 0, 'price': 0}\n",
      "2021-07-06 17:24:20,687 3064 DEBUG <ipython-input-5-75508e881401> - {'stock_code': 600584, 'position_date': 20210105, 'direction': 'SELL', 'volume': 5000, 'price': 42.8676376}\n",
      "2021-07-06 17:24:20,688 3064 DEBUG <ipython-input-5-75508e881401> - {'stock_code': 600864, 'position_date': 20210105, 'direction': 'BUY', 'volume': 10000, 'price': 8.7319206}\n",
      "2021-07-06 17:24:20,689 3064 DEBUG <ipython-input-5-75508e881401> - {'stock_code': 600864, 'position_date': 20210105, 'direction': '', 'volume': 0, 'price': 0}\n",
      "2021-07-06 17:24:20,689 3064 DEBUG <ipython-input-5-75508e881401> - {'stock_code': 600584, 'position_date': 20210105, 'direction': 'SELL', 'volume': 10000, 'price': 42.8826193}\n",
      "2021-07-06 17:24:20,690 3064 DEBUG <ipython-input-5-75508e881401> - {'stock_code': 600864, 'position_date': 20210105, 'direction': 'SELL', 'volume': 10000, 'price': 8.9091176}\n",
      "2021-07-06 17:24:20,691 3064 DEBUG <ipython-input-5-75508e881401> - {'stock_code': 600584, 'position_date': 20210105, 'direction': 'SELL', 'volume': 5000, 'price': 42.895809400000005}\n",
      "2021-07-06 17:24:20,691 3064 DEBUG <ipython-input-5-75508e881401> - {'stock_code': 600584, 'position_date': 20210105, 'direction': '', 'volume': 0, 'price': 0}\n",
      "2021-07-06 17:24:20,692 3064 DEBUG <ipython-input-5-75508e881401> - {'stock_code': 600864, 'position_date': 20210105, 'direction': '', 'volume': 0, 'price': 0}\n",
      "2021-07-06 17:24:20,693 3064 DEBUG <ipython-input-5-75508e881401> - {'stock_code': 600864, 'position_date': 20210105, 'direction': 'SELL', 'volume': 10000, 'price': 8.7493128}\n",
      "2021-07-06 17:24:20,694 3064 DEBUG <ipython-input-5-75508e881401> - {'stock_code': 600864, 'position_date': 20210105, 'direction': '', 'volume': 0, 'price': 0}\n"
     ]
    },
    {
     "data": {
      "text/plain": [
       "[{'stock_code': 600864,\n",
       "  'position_date': 20210105,\n",
       "  'direction': '',\n",
       "  'volume': 0,\n",
       "  'price': 0},\n",
       " {'stock_code': 600584,\n",
       "  'position_date': 20210105,\n",
       "  'direction': '',\n",
       "  'volume': 0,\n",
       "  'price': 0}]"
      ]
     },
     "execution_count": 5,
     "metadata": {},
     "output_type": "execute_result"
    }
   ],
   "source": [
    "def get_positions(date):\n",
    "    \"\"\"\n",
    "    通过股票委托的最终成交状态推导持仓\n",
    "    :param int date: 截止日期\n",
    "    :return list: 持仓列表\n",
    "    \"\"\"\n",
    "    positions = []\n",
    "    for order in orders:\n",
    "        if order['order_date'] > date or order['deal_volume'] == 0:\n",
    "            continue\n",
    "        arr = [p for p in positions if p['stock_code'] == order['stock_code'] and p['position_date'] == date]\n",
    "        o_direction = -1 if order['direction'] == Direction.SELL else 1\n",
    "        fee = get_stock_cost(str(order['stock_code']), order['deal_price'], order['deal_volume'], order['direction'])\n",
    "        # 已经有持仓\n",
    "        if arr:\n",
    "            position = arr[0]\n",
    "            p_direction = -1 if position['direction'] == Direction.SELL else 1\n",
    "            volume = p_direction * position['volume'] + o_direction * order['deal_volume']\n",
    "            if volume == 0:\n",
    "                position['volume'] = 0\n",
    "                position['price'] = 0\n",
    "                position['direction'] = ''\n",
    "            else:\n",
    "                position['direction'] = Direction.SELL if volume < 0 else Direction.BUY                \n",
    "                position['price'] = (p_direction * position['volume'] * position['price'] +\n",
    "                                     o_direction * order['deal_volume'] * order['deal_price'] +\n",
    "                                     fee) / volume\n",
    "                position['volume'] = -1 * volume if volume < 0 else volume\n",
    "            logger.debug(position)\n",
    "        else:\n",
    "            position = {'stock_code': order['stock_code'],\n",
    "                        'position_date': date,\n",
    "                        'direction': order['direction'],\n",
    "                        'volume': order['deal_volume'],\n",
    "                        'price': (o_direction * order['deal_price'] * order['deal_volume'] + fee) / (o_direction * order['deal_volume'])\n",
    "                        }\n",
    "            logger.debug(position)\n",
    "            positions.append(position)\n",
    "    return positions\n",
    "\n",
    "get_positions(20210105)"
   ]
  },
  {
   "cell_type": "code",
   "execution_count": null,
   "metadata": {},
   "outputs": [],
   "source": []
  },
  {
   "cell_type": "code",
   "execution_count": null,
   "metadata": {},
   "outputs": [],
   "source": []
  }
 ],
 "metadata": {
  "kernelspec": {
   "display_name": "Python 3",
   "language": "python",
   "name": "python3"
  },
  "language_info": {
   "codemirror_mode": {
    "name": "ipython",
    "version": 3
   },
   "file_extension": ".py",
   "mimetype": "text/x-python",
   "name": "python",
   "nbconvert_exporter": "python",
   "pygments_lexer": "ipython3",
   "version": "3.7.0"
  }
 },
 "nbformat": 4,
 "nbformat_minor": 4
}
