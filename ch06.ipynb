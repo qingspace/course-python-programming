{
 "cells": [
  {
   "cell_type": "markdown",
   "metadata": {},
   "source": [
    "# Python访问本地和远程文件\n",
    "## 一、访问文件和数据\n",
    "进行数据处理和分析的前提，是获取数据，其中隐含对数据进行必要迁移、清洗和规范（ETL, Extract-Transform-Load），甚至还隐含对数据生产和存储的规划。\n",
    "\n",
    "为进一步对数据分析和处理做好准备。一般情况下数据的来源有：\n",
    "- 本地和远程存储：访问本地各种格式的文件或者通过使用FTP或SFTP协议访问远程文件。Python的标准库和第三方包中有大量的API用于读写这些文件，主要的格式有文本文件，Excel文件和二进制文件等；\n",
    "- 数据库：所有编程语言都具有访问数据库的能力，Python的标准库和第三方包中有大量的API用于访问目前主流的数据，这些数据库包括关系型数据库Sqlite，Mysql和非关系型数据库Mongodb等。\n",
    "- 网络服务：从网络获取数据，利用编程模拟浏览器等客户端行为获取网络中的公开数据。理论上通过网络爬虫可以获取网络中允许访问的任何数据，包括文本（Html，Xml, Json等），二进制的文件、音频和视频等。\n",
    "\n",
    "提高Python获取数据能力，不仅仅需要提高Python编程能力，还包括逐步掌握和扩展各领域知识。例如爬虫需要了解Web领域中的Http协议的规则，访问关系型数据需要了解SQL等。接下来我们分别针对以上数据来源进行学习和实践。"
   ]
  },
  {
   "cell_type": "markdown",
   "metadata": {},
   "source": [
    "## 二、Python异常处理\n",
    "- 程序中通过异常来表示超过程序正常执行流程的那些情况，一般情况下是人为的可预见的事件。\n",
    "- 抛出异常将改变正常的程序执行流程，未处理的异常将可能造成程序奔溃。\n",
    "- 异常处理机制，允许用户程序自行处理这些异常，避免程序奔溃，有机会清理未关闭的资源。\n",
    "    - 处理异常\n",
    "    - 重新抛出异常\n",
    "    - 把该异常转换成另一种异常\n",
    "    - 不要捕获异常\n",
    "    \n",
    "### 1. Python标准异常和异常处理\n",
    "- BaseException 所有异常的基类\n",
    "- KeyboardInterrupt 用户中断执行（通常是输入^C）\n",
    "- Exception 常规错误的基类\n",
    "- StopIteration 迭代器没有更多的值"
   ]
  },
  {
   "cell_type": "code",
   "execution_count": 1,
   "metadata": {},
   "outputs": [
    {
     "name": "stdout",
     "output_type": "stream",
     "text": [
      "Price is 33.333333\n"
     ]
    }
   ],
   "source": [
    "class NeedPositiveNumberException(Exception):\n",
    "    def __init__(self):\n",
    "        super().__init__('Number must be greater than 0')\n",
    "\n",
    "def get_price(amount, volume):  \n",
    "    if amount > 0:\n",
    "        price = amount / volume\n",
    "        print('Price is %f' % price)\n",
    "        return price\n",
    "    else:\n",
    "        raise NeedPositiveNumberException()\n",
    "\n",
    "price = get_price(100, 3)"
   ]
  },
  {
   "cell_type": "code",
   "execution_count": 2,
   "metadata": {},
   "outputs": [],
   "source": [
    "# get_price(0, 1)"
   ]
  },
  {
   "cell_type": "code",
   "execution_count": 3,
   "metadata": {},
   "outputs": [],
   "source": [
    "# get_price(1, 0)"
   ]
  },
  {
   "cell_type": "code",
   "execution_count": 4,
   "metadata": {},
   "outputs": [
    {
     "name": "stdout",
     "output_type": "stream",
     "text": [
      "Price is 33.333333\n",
      "Twice the price is 66.666667\n",
      "End\n"
     ]
    }
   ],
   "source": [
    "def get_twice_price(amount, volume):\n",
    "    try:\n",
    "        p = get_price(amount, volume)\n",
    "    except NeedPositiveNumberException as e:\n",
    "        print(e)\n",
    "    except ZeroDivisionError as e:\n",
    "        print('Handle ZeroDivisionError')\n",
    "        raise NeedPositiveNumberException()\n",
    "    else:\n",
    "        tp = p * 2\n",
    "        print('Twice the price is %f' % (tp))\n",
    "        return tp\n",
    "    finally:\n",
    "        print(\"End\")\n",
    "\n",
    "twice_price = get_twice_price(100, 3)"
   ]
  },
  {
   "cell_type": "code",
   "execution_count": 5,
   "metadata": {},
   "outputs": [
    {
     "name": "stdout",
     "output_type": "stream",
     "text": [
      "Handle ZeroDivisionError\n",
      "End\n",
      "Number must be greater than 0\n"
     ]
    }
   ],
   "source": [
    "try:\n",
    "    get_twice_price(1, 0)\n",
    "except Exception as e:\n",
    "    print(e)"
   ]
  },
  {
   "cell_type": "code",
   "execution_count": null,
   "metadata": {},
   "outputs": [],
   "source": []
  },
  {
   "cell_type": "markdown",
   "metadata": {},
   "source": [
    "## 三、读写本地文件"
   ]
  },
  {
   "cell_type": "markdown",
   "metadata": {},
   "source": [
    "### 1. 使用Python标准库"
   ]
  },
  {
   "cell_type": "markdown",
   "metadata": {},
   "source": [
    "#### 读写文本文件"
   ]
  },
  {
   "cell_type": "code",
   "execution_count": 6,
   "metadata": {
    "collapsed": false,
    "jupyter": {
     "outputs_hidden": false
    }
   },
   "outputs": [
    {
     "data": {
      "text/plain": [
       "'utf-8'"
      ]
     },
     "execution_count": 6,
     "metadata": {},
     "output_type": "execute_result"
    }
   ],
   "source": [
    "import sys\n",
    "sys.getdefaultencoding()"
   ]
  },
  {
   "cell_type": "code",
   "execution_count": 7,
   "metadata": {},
   "outputs": [
    {
     "name": "stdout",
     "output_type": "stream",
     "text": [
      "stock_code,trade_date,open_price,close_price\n",
      "600864,20210104,8.59,8.34\n",
      "600584,20210104,42.5,42.53\n",
      "600864,20210105,8.4,8.51\n",
      "600584,20210105,42.25,42.29\n",
      "\n"
     ]
    }
   ],
   "source": [
    "f = open('data/ch06/quotations.csv', 'r', encoding='utf-8')\n",
    "print(f.read())"
   ]
  },
  {
   "cell_type": "markdown",
   "metadata": {},
   "source": [
    "Python标准库中的open函数可以创建一个文件对象，通过文件对象可以对文件进行各种操作。第2个参数是文件打开模式，\n",
    "- r\t只读\n",
    "- rb 二进制格式只读\n",
    "- r+ 读写\n",
    "- rb+ 二进制格式读写\n",
    "- w\t写，文件已存在则覆盖，文件不存在则创建\n",
    "- wb 二进制格式写，文件已存在则覆盖，文件不存在则创建\n",
    "- w+ 读写，文件已存在则覆盖，文件不存在则创建\n",
    "- wb+ 二进制读写，文件已存在则覆盖，文件不存在则创建\n",
    "- a 追加\n",
    "- ab 二进制格式追加\n",
    "- a+ 读写追加\n",
    "- ab+ 二进制格式读写追加\n",
    "\n",
    "文件对象是一个可迭代对象，可以一行行读出也可以循环读出"
   ]
  },
  {
   "cell_type": "code",
   "execution_count": 8,
   "metadata": {
    "collapsed": false,
    "jupyter": {
     "outputs_hidden": false
    }
   },
   "outputs": [
    {
     "name": "stdout",
     "output_type": "stream",
     "text": [
      "stock_code,trade_date,open_price,close_price\n",
      "600864,20210104,8.59,8.34\n"
     ]
    }
   ],
   "source": [
    "f.seek(0) # 回到内容开始位置\n",
    "print(f.readline().strip())\n",
    "print(f.readline().strip())"
   ]
  },
  {
   "cell_type": "code",
   "execution_count": 9,
   "metadata": {},
   "outputs": [
    {
     "name": "stdout",
     "output_type": "stream",
     "text": [
      "stock_code,trade_date,open_price,close_price\n",
      "600864,20210104,8.59,8.34\n",
      "600584,20210104,42.5,42.53\n",
      "600864,20210105,8.4,8.51\n",
      "600584,20210105,42.25,42.29\n"
     ]
    }
   ],
   "source": [
    "f.seek(0)\n",
    "for line in f:\n",
    "    print(line.strip())"
   ]
  },
  {
   "cell_type": "markdown",
   "metadata": {},
   "source": [
    "完成对文件的操作后，调用close方法关闭文件对象，释放系统资源，特别是读取大文件，占用大量内存。程序复杂时，关闭前注意检查文件对象是否已经被回收，Python提供with语句自动调用close方法"
   ]
  },
  {
   "cell_type": "code",
   "execution_count": 10,
   "metadata": {
    "collapsed": false,
    "jupyter": {
     "outputs_hidden": false
    }
   },
   "outputs": [],
   "source": [
    "f.close()"
   ]
  },
  {
   "cell_type": "code",
   "execution_count": 11,
   "metadata": {
    "collapsed": false,
    "jupyter": {
     "outputs_hidden": false
    }
   },
   "outputs": [
    {
     "name": "stdout",
     "output_type": "stream",
     "text": [
      "stock_code,trade_date,open_price,close_price\n",
      "600864,20210104,8.59,8.34\n",
      "600584,20210104,42.5,42.53\n",
      "600864,20210105,8.4,8.51\n",
      "600584,20210105,42.25,42.29\n",
      "\n"
     ]
    }
   ],
   "source": [
    "try:\n",
    "    f = open('data/ch06/quotations.csv', 'r', encoding='utf-8')\n",
    "    print(f.read())\n",
    "finally:\n",
    "    if f:\n",
    "        f.close()"
   ]
  },
  {
   "cell_type": "code",
   "execution_count": 12,
   "metadata": {
    "collapsed": false,
    "jupyter": {
     "outputs_hidden": false
    }
   },
   "outputs": [
    {
     "name": "stdout",
     "output_type": "stream",
     "text": [
      "stock_code,trade_date,open_price,close_price\n",
      "600864,20210104,8.59,8.34\n",
      "600584,20210104,42.5,42.53\n",
      "600864,20210105,8.4,8.51\n",
      "600584,20210105,42.25,42.29\n",
      "\n"
     ]
    }
   ],
   "source": [
    "with open('data/ch06/quotations.csv', 'r', encoding='utf-8') as f:\n",
    "    print(f.read())"
   ]
  },
  {
   "cell_type": "markdown",
   "metadata": {},
   "source": [
    "也可以写入文件"
   ]
  },
  {
   "cell_type": "code",
   "execution_count": 13,
   "metadata": {
    "collapsed": false,
    "jupyter": {
     "outputs_hidden": false
    }
   },
   "outputs": [
    {
     "name": "stdout",
     "output_type": "stream",
     "text": [
      "stock_code,trade_date,open_price,close_price\n",
      "600864,20210104,8.59,8.34\n",
      "600584,20210104,42.5,42.53\n",
      "600864,20210105,8.4,8.51\n",
      "600584,20210105,42.25,42.29\n",
      "stock_code,trade_date,open_price,close_price\n",
      "600864,20210104,8.59,8.34\n",
      "600584,20210104,42.5,42.53\n",
      "600864,20210105,8.4,8.51\n",
      "600584,20210105,42.25,42.29\n",
      "This is just a copy.\n",
      "\n"
     ]
    }
   ],
   "source": [
    "with open('data/ch06/quotations.csv', 'r', encoding='utf-8') as f:\n",
    "    lines = f.readlines()\n",
    "    with open('data/ch06/copy.txt', 'a', encoding='utf-8') as f2:\n",
    "        f2.writelines(lines)\n",
    "        f2.write('This is just a copy.\\n')\n",
    "\n",
    "with open('data/ch06/copy.txt', 'r', encoding='utf-8') as f3:\n",
    "    print(f3.read())"
   ]
  },
  {
   "cell_type": "markdown",
   "metadata": {},
   "source": [
    "#### 编程实践：将\"Python\"重复10次写入文本文件，并读出"
   ]
  },
  {
   "cell_type": "code",
   "execution_count": 14,
   "metadata": {
    "collapsed": false,
    "jupyter": {
     "outputs_hidden": false
    }
   },
   "outputs": [
    {
     "name": "stdout",
     "output_type": "stream",
     "text": [
      "Python\n",
      "Python\n",
      "Python\n",
      "Python\n",
      "Python\n",
      "Python\n",
      "Python\n",
      "Python\n",
      "Python\n",
      "Python\n",
      "\n"
     ]
    }
   ],
   "source": [
    "with open('data/ch06/python.txt', 'w', encoding='utf-8') as f4:        \n",
    "    f4.write('Python\\n' * 10)\n",
    "\n",
    "with open('data/ch06/python.txt', 'r', encoding='utf-8') as f5:\n",
    "    print(f5.read())"
   ]
  },
  {
   "cell_type": "markdown",
   "metadata": {},
   "source": [
    "#### 处理JSON数据"
   ]
  },
  {
   "cell_type": "code",
   "execution_count": 15,
   "metadata": {
    "tags": []
   },
   "outputs": [],
   "source": [
    "obj = \"\"\"\n",
    "{\"name\": \"Wes\",\n",
    " \"places_lived\": [\"United States\", \"Spain\", \"Germany\"],\n",
    " \"pet\": null,\n",
    " \"siblings\": [{\"name\": \"Scott\", \"age\": 25, \"pet\": \"Zuko\"},\n",
    "              {\"name\": \"Katie\", \"age\": 33, \"pet\": \"Cisco\"}]\n",
    "}\n",
    "\"\"\""
   ]
  },
  {
   "cell_type": "code",
   "execution_count": 16,
   "metadata": {
    "collapsed": false,
    "jupyter": {
     "outputs_hidden": false
    }
   },
   "outputs": [
    {
     "data": {
      "text/plain": [
       "{'name': 'Wes',\n",
       " 'places_lived': ['United States', 'Spain', 'Germany'],\n",
       " 'pet': None,\n",
       " 'siblings': [{'name': 'Scott', 'age': 25, 'pet': 'Zuko'},\n",
       "  {'name': 'Katie', 'age': 33, 'pet': 'Cisco'}]}"
      ]
     },
     "execution_count": 16,
     "metadata": {},
     "output_type": "execute_result"
    }
   ],
   "source": [
    "import json\n",
    "result = json.loads(obj)\n",
    "result"
   ]
  },
  {
   "cell_type": "code",
   "execution_count": 17,
   "metadata": {
    "collapsed": false,
    "jupyter": {
     "outputs_hidden": false
    }
   },
   "outputs": [
    {
     "data": {
      "text/plain": [
       "'{\"name\": \"Wes\", \"places_lived\": [\"United States\", \"Spain\", \"Germany\"], \"pet\": null, \"siblings\": [{\"name\": \"Scott\", \"age\": 25, \"pet\": \"Zuko\"}, {\"name\": \"Katie\", \"age\": 33, \"pet\": \"Cisco\"}]}'"
      ]
     },
     "execution_count": 17,
     "metadata": {},
     "output_type": "execute_result"
    }
   ],
   "source": [
    "asjson = json.dumps(result)\n",
    "asjson"
   ]
  },
  {
   "cell_type": "markdown",
   "metadata": {},
   "source": [
    "如果要处理的是文件而不是字符串，可以使用 json.dump() 和 json.load() 来编码和解码JSON数据"
   ]
  },
  {
   "cell_type": "code",
   "execution_count": 18,
   "metadata": {
    "collapsed": false,
    "jupyter": {
     "outputs_hidden": false
    }
   },
   "outputs": [
    {
     "data": {
      "text/plain": [
       "{'name': 'Wes',\n",
       " 'places_lived': ['United States', 'Spain', 'Germany'],\n",
       " 'pet': None,\n",
       " 'siblings': [{'name': 'Scott', 'age': 25, 'pet': 'Zuko'},\n",
       "  {'name': 'Katie', 'age': 33, 'pet': 'Cisco'}]}"
      ]
     },
     "execution_count": 18,
     "metadata": {},
     "output_type": "execute_result"
    }
   ],
   "source": [
    "with open('data/ch06/data.json', 'w', encoding='utf-8') as f:\n",
    "    json.dump(result, f)\n",
    "\n",
    "with open('data/ch06/data.json', 'r', encoding='utf-8') as f:\n",
    "    result_ret = json.load(f)\n",
    "\n",
    "result_ret"
   ]
  },
  {
   "cell_type": "code",
   "execution_count": null,
   "metadata": {},
   "outputs": [],
   "source": []
  },
  {
   "cell_type": "markdown",
   "metadata": {},
   "source": [
    "#### 保存Python对象\n",
    "还可以使用shelve模拟一个key-value数据库。shelve可以将Python对象直接保存到文件中，取出时还是一个Python对象，不需要像传统数据库一样，先取出数据，然后重构对象"
   ]
  },
  {
   "cell_type": "code",
   "execution_count": 19,
   "metadata": {
    "collapsed": false,
    "jupyter": {
     "outputs_hidden": false
    }
   },
   "outputs": [
    {
     "name": "stdin",
     "output_type": "stream",
     "text": [
      "Enter command: quit\n"
     ]
    },
    {
     "name": "stdout",
     "output_type": "stream",
     "text": [
      "Close\n"
     ]
    }
   ],
   "source": [
    "import sys, shelve\n",
    "class ShelveHelper:\n",
    "    \n",
    "    def __init__(self):\n",
    "        self.db = shelve.open('data/ch06/store')\n",
    "\n",
    "    def store(self):\n",
    "        id = input('Id:')\n",
    "        person = {}\n",
    "        person['name'] = input('Name:')\n",
    "        person['age'] = input('Age:')\n",
    "        person['mobile'] = input('Mobile:')\n",
    "        self.db[id] = person\n",
    "\n",
    "    def find(self):\n",
    "        id = input('Find by id:')        \n",
    "        print(self.db[id])\n",
    "    \n",
    "    def clear(self):               \n",
    "        self.db.clear()\n",
    "\n",
    "    @staticmethod\n",
    "    def command():\n",
    "        cmd = input('Enter command:')\n",
    "        cmd = cmd.strip().lower()\n",
    "        return cmd\n",
    "\n",
    "    def run(self):\n",
    "        try:\n",
    "            while True:\n",
    "                cmd = self.command()\n",
    "                if cmd == 'store':\n",
    "                    self.store()\n",
    "                elif cmd == 'find':\n",
    "                    self.find()\n",
    "                elif cmd == 'clear':\n",
    "                    self.clear()\n",
    "                elif cmd == \"quit\":\n",
    "                    return\n",
    "        finally:\n",
    "            print('Close')\n",
    "            self.db.close()\n",
    "\n",
    "helper = ShelveHelper()\n",
    "helper.run()"
   ]
  },
  {
   "cell_type": "markdown",
   "metadata": {},
   "source": [
    "#### 操作文件系统\n",
    "Python标准库中还提供了对文件系统的操作，主要在os模块中"
   ]
  },
  {
   "cell_type": "code",
   "execution_count": 20,
   "metadata": {
    "collapsed": false,
    "jupyter": {
     "outputs_hidden": false
    }
   },
   "outputs": [
    {
     "name": "stdout",
     "output_type": "stream",
     "text": [
      "/Users/qingspace/Work/Project/Python/course-python-programming\n",
      "/Users/qingspace/Work/Project/Python/course-python-programming/files\n",
      "('/Users/qingspace/Work/Project/Python/course-python-programming', 'file.txt')\n",
      "('/Users/qingspace/Work/Project/Python/course-python-programming/file', '.txt')\n",
      "['ch03.ipynb', 'ch01.ipynb', 'ch05.ipynb', 'ch07.ipynb', 'ch02.ipynb', 'ch06.ipynb', 'ch04.ipynb']\n"
     ]
    }
   ],
   "source": [
    "import os\n",
    "\n",
    "path = os.path.abspath('.')\n",
    "# path = os.path.getcwd()\n",
    "print(path)\n",
    "path2 = os.path.join(path, 'files')\n",
    "print(path2)\n",
    "\n",
    "os.mkdir(path2)\n",
    "os.rmdir(path2)\n",
    "\n",
    "path3 = os.path.join(path, 'file.txt')\n",
    "print(os.path.split(path3))\n",
    "print(os.path.splitext(path3))\n",
    "\n",
    "print([x for x in os.listdir('.') if os.path.isfile(x) and os.path.splitext(x)[1]=='.ipynb'])"
   ]
  },
  {
   "cell_type": "markdown",
   "metadata": {},
   "source": [
    "#### 编程实践：复制文件内容函数"
   ]
  },
  {
   "cell_type": "code",
   "execution_count": 21,
   "metadata": {},
   "outputs": [
    {
     "name": "stdout",
     "output_type": "stream",
     "text": [
      "The file exists. Override\n",
      "Copy from data/ch06/quotations.csv to data/ch06/copy.txt\n",
      "The file size is 151\n",
      "Done\n"
     ]
    }
   ],
   "source": [
    "import sys\n",
    "import os\n",
    "\n",
    "def copy_file(from_filename, to_filename):\n",
    "    if os.path.exists(to_filename):\n",
    "        print('The file exists. Override')        \n",
    "    print('Copy from %s to %s' % (from_filename, to_filename))\n",
    "    from_file = open(from_filename, 'r', encoding='utf-8')\n",
    "    data = from_file.read()\n",
    "    print('The file size is %d' % len(data))\n",
    "    from_file.close\n",
    "    to_file = open(to_filename, 'w', encoding='utf-8')\n",
    "    to_file.write(data)\n",
    "    to_file.close\n",
    "    print('Done')\n",
    "    \n",
    "copy_file('data/ch06/quotations.csv', 'data/ch06/copy.txt')"
   ]
  },
  {
   "cell_type": "markdown",
   "metadata": {},
   "source": [
    "### 2. 使用NumPy和Pandas\n",
    "NumPy能够读写磁盘上的文本数据和二进制数据，Pandas可以读取文本和Excel数据。\n",
    "#### 读写NumPy数组至二进制文件"
   ]
  },
  {
   "cell_type": "code",
   "execution_count": 22,
   "metadata": {
    "tags": []
   },
   "outputs": [],
   "source": [
    "import numpy as np\n",
    "arr = np.arange(10)\n",
    "np.save('data/ch06/array', arr) # 以.npy为扩展名，未压缩保存数组为二进制文件"
   ]
  },
  {
   "cell_type": "code",
   "execution_count": 23,
   "metadata": {
    "collapsed": false,
    "jupyter": {
     "outputs_hidden": false
    }
   },
   "outputs": [
    {
     "data": {
      "text/plain": [
       "array([0, 1, 2, 3, 4, 5, 6, 7, 8, 9])"
      ]
     },
     "execution_count": 23,
     "metadata": {},
     "output_type": "execute_result"
    }
   ],
   "source": [
    "np.load('data/ch06/array.npy')"
   ]
  },
  {
   "cell_type": "code",
   "execution_count": 24,
   "metadata": {
    "tags": []
   },
   "outputs": [],
   "source": [
    "np.savez('data/ch06/array_archive.npz', a=arr, b=arr) # 以.npz为扩展名，压缩保存多个数组"
   ]
  },
  {
   "cell_type": "code",
   "execution_count": 25,
   "metadata": {
    "collapsed": false,
    "jupyter": {
     "outputs_hidden": false
    }
   },
   "outputs": [
    {
     "data": {
      "text/plain": [
       "array([0, 1, 2, 3, 4, 5, 6, 7, 8, 9])"
      ]
     },
     "execution_count": 25,
     "metadata": {},
     "output_type": "execute_result"
    }
   ],
   "source": [
    "arch = np.load('data/ch06/array_archive.npz')\n",
    "arch['b']"
   ]
  },
  {
   "cell_type": "markdown",
   "metadata": {},
   "source": [
    "#### 读写NumPy数组至文本文件"
   ]
  },
  {
   "cell_type": "code",
   "execution_count": 26,
   "metadata": {},
   "outputs": [],
   "source": [
    "arr = np.random.randn(3, 4)\n",
    "np.savetxt('data/ch06/array_numpy.txt', arr, delimiter=',')"
   ]
  },
  {
   "cell_type": "code",
   "execution_count": 27,
   "metadata": {},
   "outputs": [
    {
     "data": {
      "text/plain": [
       "array([[ 1.55576026, -1.3478403 ,  0.62434145, -1.18098047],\n",
       "       [-2.64297376, -0.57428386,  1.44698845,  0.37972749],\n",
       "       [-0.74952256,  0.341097  ,  2.03920731, -0.46255336]])"
      ]
     },
     "execution_count": 27,
     "metadata": {},
     "output_type": "execute_result"
    }
   ],
   "source": [
    "arr = np.loadtxt('data/ch06/array_numpy.txt', delimiter=',')\n",
    "arr"
   ]
  },
  {
   "cell_type": "markdown",
   "metadata": {},
   "source": [
    "#### Pandas读写文本文件"
   ]
  },
  {
   "cell_type": "code",
   "execution_count": 28,
   "metadata": {
    "tags": []
   },
   "outputs": [],
   "source": [
    "import pandas as pd"
   ]
  },
  {
   "cell_type": "markdown",
   "metadata": {},
   "source": [
    "Pandas在读取文本文件时会对数据进行一些处理，这包括建立索引，推断数据类型并转换，解析日期，对大文件迭代，跳过一些行，页脚和注释等"
   ]
  },
  {
   "cell_type": "code",
   "execution_count": 29,
   "metadata": {
    "collapsed": false,
    "jupyter": {
     "outputs_hidden": false
    }
   },
   "outputs": [
    {
     "data": {
      "text/html": [
       "<div>\n",
       "<style scoped>\n",
       "    .dataframe tbody tr th:only-of-type {\n",
       "        vertical-align: middle;\n",
       "    }\n",
       "\n",
       "    .dataframe tbody tr th {\n",
       "        vertical-align: top;\n",
       "    }\n",
       "\n",
       "    .dataframe thead th {\n",
       "        text-align: right;\n",
       "    }\n",
       "</style>\n",
       "<table border=\"1\" class=\"dataframe\">\n",
       "  <thead>\n",
       "    <tr style=\"text-align: right;\">\n",
       "      <th></th>\n",
       "      <th>stock_code</th>\n",
       "      <th>trade_date</th>\n",
       "      <th>open_price</th>\n",
       "      <th>close_price</th>\n",
       "    </tr>\n",
       "  </thead>\n",
       "  <tbody>\n",
       "    <tr>\n",
       "      <th>0</th>\n",
       "      <td>600864</td>\n",
       "      <td>20210104</td>\n",
       "      <td>8.59</td>\n",
       "      <td>8.34</td>\n",
       "    </tr>\n",
       "    <tr>\n",
       "      <th>1</th>\n",
       "      <td>600584</td>\n",
       "      <td>20210104</td>\n",
       "      <td>42.50</td>\n",
       "      <td>42.53</td>\n",
       "    </tr>\n",
       "    <tr>\n",
       "      <th>2</th>\n",
       "      <td>600864</td>\n",
       "      <td>20210105</td>\n",
       "      <td>8.40</td>\n",
       "      <td>8.51</td>\n",
       "    </tr>\n",
       "    <tr>\n",
       "      <th>3</th>\n",
       "      <td>600584</td>\n",
       "      <td>20210105</td>\n",
       "      <td>42.25</td>\n",
       "      <td>42.29</td>\n",
       "    </tr>\n",
       "  </tbody>\n",
       "</table>\n",
       "</div>"
      ],
      "text/plain": [
       "   stock_code  trade_date  open_price  close_price\n",
       "0      600864    20210104        8.59         8.34\n",
       "1      600584    20210104       42.50        42.53\n",
       "2      600864    20210105        8.40         8.51\n",
       "3      600584    20210105       42.25        42.29"
      ]
     },
     "execution_count": 29,
     "metadata": {},
     "output_type": "execute_result"
    }
   ],
   "source": [
    "pd.read_csv('data/ch06/quotations.csv')"
   ]
  },
  {
   "cell_type": "code",
   "execution_count": 30,
   "metadata": {},
   "outputs": [
    {
     "data": {
      "text/html": [
       "<div>\n",
       "<style scoped>\n",
       "    .dataframe tbody tr th:only-of-type {\n",
       "        vertical-align: middle;\n",
       "    }\n",
       "\n",
       "    .dataframe tbody tr th {\n",
       "        vertical-align: top;\n",
       "    }\n",
       "\n",
       "    .dataframe thead th {\n",
       "        text-align: right;\n",
       "    }\n",
       "</style>\n",
       "<table border=\"1\" class=\"dataframe\">\n",
       "  <thead>\n",
       "    <tr style=\"text-align: right;\">\n",
       "      <th></th>\n",
       "      <th>stock_code</th>\n",
       "      <th>trade_date</th>\n",
       "      <th>open_price</th>\n",
       "      <th>close_price</th>\n",
       "    </tr>\n",
       "  </thead>\n",
       "  <tbody>\n",
       "    <tr>\n",
       "      <th>0</th>\n",
       "      <td>600864</td>\n",
       "      <td>20210104</td>\n",
       "      <td>8.59</td>\n",
       "      <td>8.34</td>\n",
       "    </tr>\n",
       "    <tr>\n",
       "      <th>1</th>\n",
       "      <td>600584</td>\n",
       "      <td>20210104</td>\n",
       "      <td>42.50</td>\n",
       "      <td>42.53</td>\n",
       "    </tr>\n",
       "    <tr>\n",
       "      <th>2</th>\n",
       "      <td>600864</td>\n",
       "      <td>20210105</td>\n",
       "      <td>8.40</td>\n",
       "      <td>8.51</td>\n",
       "    </tr>\n",
       "    <tr>\n",
       "      <th>3</th>\n",
       "      <td>600584</td>\n",
       "      <td>20210105</td>\n",
       "      <td>42.25</td>\n",
       "      <td>42.29</td>\n",
       "    </tr>\n",
       "  </tbody>\n",
       "</table>\n",
       "</div>"
      ],
      "text/plain": [
       "   stock_code  trade_date  open_price  close_price\n",
       "0      600864    20210104        8.59         8.34\n",
       "1      600584    20210104       42.50        42.53\n",
       "2      600864    20210105        8.40         8.51\n",
       "3      600584    20210105       42.25        42.29"
      ]
     },
     "execution_count": 30,
     "metadata": {},
     "output_type": "execute_result"
    }
   ],
   "source": [
    "pd.read_table('data/ch06/quotations.csv', sep=',') # 指定分隔符"
   ]
  },
  {
   "cell_type": "code",
   "execution_count": 31,
   "metadata": {
    "tags": []
   },
   "outputs": [],
   "source": [
    "df = pd.read_csv('data/ch06/quotations.csv')\n",
    "df.to_csv('data/ch06/quotations_copy.csv') # 写入文件"
   ]
  },
  {
   "cell_type": "code",
   "execution_count": 32,
   "metadata": {
    "tags": []
   },
   "outputs": [],
   "source": [
    "df = pd.DataFrame(np.random.randn(40).reshape(10, 4), columns=list('abcd'))\n",
    "df.loc[df.a > 0, :] = 1\n",
    "df.loc[df.a <= 0, :] = 0\n",
    "df.to_csv('data/ch06/data_random.csv', index=False)"
   ]
  },
  {
   "cell_type": "markdown",
   "metadata": {},
   "source": [
    "#### Pandas读写Excel文件"
   ]
  },
  {
   "cell_type": "code",
   "execution_count": 33,
   "metadata": {},
   "outputs": [
    {
     "data": {
      "text/html": [
       "<div>\n",
       "<style scoped>\n",
       "    .dataframe tbody tr th:only-of-type {\n",
       "        vertical-align: middle;\n",
       "    }\n",
       "\n",
       "    .dataframe tbody tr th {\n",
       "        vertical-align: top;\n",
       "    }\n",
       "\n",
       "    .dataframe thead th {\n",
       "        text-align: right;\n",
       "    }\n",
       "</style>\n",
       "<table border=\"1\" class=\"dataframe\">\n",
       "  <thead>\n",
       "    <tr style=\"text-align: right;\">\n",
       "      <th></th>\n",
       "      <th>stock_code</th>\n",
       "      <th>trade_date</th>\n",
       "      <th>open_price</th>\n",
       "      <th>close_price</th>\n",
       "    </tr>\n",
       "  </thead>\n",
       "  <tbody>\n",
       "    <tr>\n",
       "      <th>0</th>\n",
       "      <td>600864</td>\n",
       "      <td>20210104</td>\n",
       "      <td>8.59</td>\n",
       "      <td>8.34</td>\n",
       "    </tr>\n",
       "    <tr>\n",
       "      <th>1</th>\n",
       "      <td>600584</td>\n",
       "      <td>20210104</td>\n",
       "      <td>42.50</td>\n",
       "      <td>42.53</td>\n",
       "    </tr>\n",
       "    <tr>\n",
       "      <th>2</th>\n",
       "      <td>600864</td>\n",
       "      <td>20210105</td>\n",
       "      <td>8.40</td>\n",
       "      <td>8.51</td>\n",
       "    </tr>\n",
       "    <tr>\n",
       "      <th>3</th>\n",
       "      <td>600584</td>\n",
       "      <td>20210105</td>\n",
       "      <td>42.25</td>\n",
       "      <td>42.29</td>\n",
       "    </tr>\n",
       "  </tbody>\n",
       "</table>\n",
       "</div>"
      ],
      "text/plain": [
       "   stock_code  trade_date  open_price  close_price\n",
       "0      600864    20210104        8.59         8.34\n",
       "1      600584    20210104       42.50        42.53\n",
       "2      600864    20210105        8.40         8.51\n",
       "3      600584    20210105       42.25        42.29"
      ]
     },
     "execution_count": 33,
     "metadata": {},
     "output_type": "execute_result"
    }
   ],
   "source": [
    "xls = pd.ExcelFile('data/ch06/quotations.xlsx')\n",
    "table = xls.parse('quotations')\n",
    "table"
   ]
  },
  {
   "cell_type": "code",
   "execution_count": 34,
   "metadata": {
    "collapsed": false,
    "jupyter": {
     "outputs_hidden": false
    }
   },
   "outputs": [
    {
     "data": {
      "text/html": [
       "<div>\n",
       "<style scoped>\n",
       "    .dataframe tbody tr th:only-of-type {\n",
       "        vertical-align: middle;\n",
       "    }\n",
       "\n",
       "    .dataframe tbody tr th {\n",
       "        vertical-align: top;\n",
       "    }\n",
       "\n",
       "    .dataframe thead th {\n",
       "        text-align: right;\n",
       "    }\n",
       "</style>\n",
       "<table border=\"1\" class=\"dataframe\">\n",
       "  <thead>\n",
       "    <tr style=\"text-align: right;\">\n",
       "      <th></th>\n",
       "      <th>stock_code</th>\n",
       "      <th>trade_date</th>\n",
       "      <th>open_price</th>\n",
       "      <th>close_price</th>\n",
       "    </tr>\n",
       "  </thead>\n",
       "  <tbody>\n",
       "    <tr>\n",
       "      <th>0</th>\n",
       "      <td>600864</td>\n",
       "      <td>20210104</td>\n",
       "      <td>8.59</td>\n",
       "      <td>100.00</td>\n",
       "    </tr>\n",
       "    <tr>\n",
       "      <th>1</th>\n",
       "      <td>600584</td>\n",
       "      <td>20210104</td>\n",
       "      <td>42.50</td>\n",
       "      <td>42.53</td>\n",
       "    </tr>\n",
       "    <tr>\n",
       "      <th>2</th>\n",
       "      <td>600864</td>\n",
       "      <td>20210105</td>\n",
       "      <td>8.40</td>\n",
       "      <td>8.51</td>\n",
       "    </tr>\n",
       "    <tr>\n",
       "      <th>3</th>\n",
       "      <td>600584</td>\n",
       "      <td>20210105</td>\n",
       "      <td>42.25</td>\n",
       "      <td>42.29</td>\n",
       "    </tr>\n",
       "  </tbody>\n",
       "</table>\n",
       "</div>"
      ],
      "text/plain": [
       "   stock_code  trade_date  open_price  close_price\n",
       "0      600864    20210104        8.59       100.00\n",
       "1      600584    20210104       42.50        42.53\n",
       "2      600864    20210105        8.40         8.51\n",
       "3      600584    20210105       42.25        42.29"
      ]
     },
     "execution_count": 34,
     "metadata": {},
     "output_type": "execute_result"
    }
   ],
   "source": [
    "table.loc[0, 'close_price'] = 100\n",
    "table.to_excel('data/ch06/quotations_copy.xlsx', index=False)\n",
    "table"
   ]
  },
  {
   "cell_type": "markdown",
   "metadata": {},
   "source": [
    "#### Pandas读数据时的处理"
   ]
  },
  {
   "cell_type": "code",
   "execution_count": 35,
   "metadata": {
    "collapsed": false,
    "jupyter": {
     "outputs_hidden": false
    }
   },
   "outputs": [
    {
     "data": {
      "text/html": [
       "<div>\n",
       "<style scoped>\n",
       "    .dataframe tbody tr th:only-of-type {\n",
       "        vertical-align: middle;\n",
       "    }\n",
       "\n",
       "    .dataframe tbody tr th {\n",
       "        vertical-align: top;\n",
       "    }\n",
       "\n",
       "    .dataframe thead th {\n",
       "        text-align: right;\n",
       "    }\n",
       "</style>\n",
       "<table border=\"1\" class=\"dataframe\">\n",
       "  <thead>\n",
       "    <tr style=\"text-align: right;\">\n",
       "      <th></th>\n",
       "      <th>0</th>\n",
       "      <th>1</th>\n",
       "      <th>2</th>\n",
       "      <th>3</th>\n",
       "    </tr>\n",
       "  </thead>\n",
       "  <tbody>\n",
       "    <tr>\n",
       "      <th>0</th>\n",
       "      <td>600864</td>\n",
       "      <td>20210104</td>\n",
       "      <td>8.59</td>\n",
       "      <td>8.34</td>\n",
       "    </tr>\n",
       "    <tr>\n",
       "      <th>1</th>\n",
       "      <td>600584</td>\n",
       "      <td>20210104</td>\n",
       "      <td>42.50</td>\n",
       "      <td>42.53</td>\n",
       "    </tr>\n",
       "    <tr>\n",
       "      <th>2</th>\n",
       "      <td>600864</td>\n",
       "      <td>20210105</td>\n",
       "      <td>8.40</td>\n",
       "      <td>8.51</td>\n",
       "    </tr>\n",
       "    <tr>\n",
       "      <th>3</th>\n",
       "      <td>600584</td>\n",
       "      <td>20210105</td>\n",
       "      <td>42.25</td>\n",
       "      <td>42.29</td>\n",
       "    </tr>\n",
       "  </tbody>\n",
       "</table>\n",
       "</div>"
      ],
      "text/plain": [
       "        0         1      2      3\n",
       "0  600864  20210104   8.59   8.34\n",
       "1  600584  20210104  42.50  42.53\n",
       "2  600864  20210105   8.40   8.51\n",
       "3  600584  20210105  42.25  42.29"
      ]
     },
     "execution_count": 35,
     "metadata": {},
     "output_type": "execute_result"
    }
   ],
   "source": [
    "pd.read_csv('data/ch06/quotations_without_header.csv', header=None) # 没有列名"
   ]
  },
  {
   "cell_type": "code",
   "execution_count": 36,
   "metadata": {},
   "outputs": [
    {
     "data": {
      "text/html": [
       "<div>\n",
       "<style scoped>\n",
       "    .dataframe tbody tr th:only-of-type {\n",
       "        vertical-align: middle;\n",
       "    }\n",
       "\n",
       "    .dataframe tbody tr th {\n",
       "        vertical-align: top;\n",
       "    }\n",
       "\n",
       "    .dataframe thead th {\n",
       "        text-align: right;\n",
       "    }\n",
       "</style>\n",
       "<table border=\"1\" class=\"dataframe\">\n",
       "  <thead>\n",
       "    <tr style=\"text-align: right;\">\n",
       "      <th></th>\n",
       "      <th>stock_code</th>\n",
       "      <th>open_price</th>\n",
       "      <th>close_price</th>\n",
       "    </tr>\n",
       "    <tr>\n",
       "      <th>trade_date</th>\n",
       "      <th></th>\n",
       "      <th></th>\n",
       "      <th></th>\n",
       "    </tr>\n",
       "  </thead>\n",
       "  <tbody>\n",
       "    <tr>\n",
       "      <th>20210104</th>\n",
       "      <td>600864</td>\n",
       "      <td>8.59</td>\n",
       "      <td>8.34</td>\n",
       "    </tr>\n",
       "    <tr>\n",
       "      <th>20210104</th>\n",
       "      <td>600584</td>\n",
       "      <td>42.50</td>\n",
       "      <td>42.53</td>\n",
       "    </tr>\n",
       "    <tr>\n",
       "      <th>20210105</th>\n",
       "      <td>600864</td>\n",
       "      <td>8.40</td>\n",
       "      <td>8.51</td>\n",
       "    </tr>\n",
       "    <tr>\n",
       "      <th>20210105</th>\n",
       "      <td>600584</td>\n",
       "      <td>42.25</td>\n",
       "      <td>42.29</td>\n",
       "    </tr>\n",
       "  </tbody>\n",
       "</table>\n",
       "</div>"
      ],
      "text/plain": [
       "            stock_code  open_price  close_price\n",
       "trade_date                                     \n",
       "20210104        600864        8.59         8.34\n",
       "20210104        600584       42.50        42.53\n",
       "20210105        600864        8.40         8.51\n",
       "20210105        600584       42.25        42.29"
      ]
     },
     "execution_count": 36,
     "metadata": {},
     "output_type": "execute_result"
    }
   ],
   "source": [
    "names = ['stock_code', 'trade_date', 'open_price', 'close_price']\n",
    "pd.read_csv('data/ch06/quotations_without_header.csv', names=names, index_col='trade_date') #指定列名和索引列"
   ]
  },
  {
   "cell_type": "code",
   "execution_count": 37,
   "metadata": {},
   "outputs": [
    {
     "data": {
      "text/plain": [
       "['          A         B         C\\n',\n",
       " 'a -0.264438 -1.026059 -0.619500\\n',\n",
       " 'b  0.927272  0.302904 -0.032399\\n',\n",
       " 'c -0.264273 -0.386314 -0.217601\\n',\n",
       " 'd -0.871858 -0.348382  1.100491']"
      ]
     },
     "execution_count": 37,
     "metadata": {},
     "output_type": "execute_result"
    }
   ],
   "source": [
    "list(open('data/ch06/data_abnormal.csv', encoding='utf-8'))"
   ]
  },
  {
   "cell_type": "code",
   "execution_count": 38,
   "metadata": {
    "collapsed": false,
    "jupyter": {
     "outputs_hidden": false
    }
   },
   "outputs": [
    {
     "data": {
      "text/html": [
       "<div>\n",
       "<style scoped>\n",
       "    .dataframe tbody tr th:only-of-type {\n",
       "        vertical-align: middle;\n",
       "    }\n",
       "\n",
       "    .dataframe tbody tr th {\n",
       "        vertical-align: top;\n",
       "    }\n",
       "\n",
       "    .dataframe thead th {\n",
       "        text-align: right;\n",
       "    }\n",
       "</style>\n",
       "<table border=\"1\" class=\"dataframe\">\n",
       "  <thead>\n",
       "    <tr style=\"text-align: right;\">\n",
       "      <th></th>\n",
       "      <th>A</th>\n",
       "      <th>B</th>\n",
       "      <th>C</th>\n",
       "    </tr>\n",
       "  </thead>\n",
       "  <tbody>\n",
       "    <tr>\n",
       "      <th>a</th>\n",
       "      <td>-0.264438</td>\n",
       "      <td>-1.026059</td>\n",
       "      <td>-0.619500</td>\n",
       "    </tr>\n",
       "    <tr>\n",
       "      <th>b</th>\n",
       "      <td>0.927272</td>\n",
       "      <td>0.302904</td>\n",
       "      <td>-0.032399</td>\n",
       "    </tr>\n",
       "    <tr>\n",
       "      <th>c</th>\n",
       "      <td>-0.264273</td>\n",
       "      <td>-0.386314</td>\n",
       "      <td>-0.217601</td>\n",
       "    </tr>\n",
       "    <tr>\n",
       "      <th>d</th>\n",
       "      <td>-0.871858</td>\n",
       "      <td>-0.348382</td>\n",
       "      <td>1.100491</td>\n",
       "    </tr>\n",
       "  </tbody>\n",
       "</table>\n",
       "</div>"
      ],
      "text/plain": [
       "          A         B         C\n",
       "a -0.264438 -1.026059 -0.619500\n",
       "b  0.927272  0.302904 -0.032399\n",
       "c -0.264273 -0.386314 -0.217601\n",
       "d -0.871858 -0.348382  1.100491"
      ]
     },
     "execution_count": 38,
     "metadata": {},
     "output_type": "execute_result"
    }
   ],
   "source": [
    "pd.read_table('data/ch06/data_abnormal.csv', sep='\\s+') # 分隔符支持正则表达式，列名比数据行中的数量少，第一列被推断为索引"
   ]
  },
  {
   "cell_type": "code",
   "execution_count": 39,
   "metadata": {},
   "outputs": [
    {
     "data": {
      "text/html": [
       "<div>\n",
       "<style scoped>\n",
       "    .dataframe tbody tr th:only-of-type {\n",
       "        vertical-align: middle;\n",
       "    }\n",
       "\n",
       "    .dataframe tbody tr th {\n",
       "        vertical-align: top;\n",
       "    }\n",
       "\n",
       "    .dataframe thead th {\n",
       "        text-align: right;\n",
       "    }\n",
       "</style>\n",
       "<table border=\"1\" class=\"dataframe\">\n",
       "  <thead>\n",
       "    <tr style=\"text-align: right;\">\n",
       "      <th></th>\n",
       "      <th>A</th>\n",
       "      <th>B</th>\n",
       "      <th>C</th>\n",
       "    </tr>\n",
       "  </thead>\n",
       "  <tbody>\n",
       "    <tr>\n",
       "      <th>b</th>\n",
       "      <td>0.927272</td>\n",
       "      <td>0.302904</td>\n",
       "      <td>-0.032399</td>\n",
       "    </tr>\n",
       "    <tr>\n",
       "      <th>d</th>\n",
       "      <td>-0.871858</td>\n",
       "      <td>-0.348382</td>\n",
       "      <td>1.100491</td>\n",
       "    </tr>\n",
       "  </tbody>\n",
       "</table>\n",
       "</div>"
      ],
      "text/plain": [
       "          A         B         C\n",
       "b  0.927272  0.302904 -0.032399\n",
       "d -0.871858 -0.348382  1.100491"
      ]
     },
     "execution_count": 39,
     "metadata": {},
     "output_type": "execute_result"
    }
   ],
   "source": [
    "pd.read_table('data/ch06/data_abnormal.csv', sep='\\s+', skiprows=[1, 3]) # 跳过一些数据行"
   ]
  },
  {
   "cell_type": "code",
   "execution_count": 40,
   "metadata": {},
   "outputs": [
    {
     "data": {
      "text/plain": [
       "['index,a,b,c,d,message\\n',\n",
       " 'one,1,2,3,4,NA\\n',\n",
       " 'two,5,6,,8,world\\n',\n",
       " 'three,9,10,11,12,']"
      ]
     },
     "execution_count": 40,
     "metadata": {},
     "output_type": "execute_result"
    }
   ],
   "source": [
    "list(open('data/ch06/data_lost.csv'))"
   ]
  },
  {
   "cell_type": "code",
   "execution_count": 41,
   "metadata": {
    "collapsed": false,
    "jupyter": {
     "outputs_hidden": false
    }
   },
   "outputs": [
    {
     "data": {
      "text/html": [
       "<div>\n",
       "<style scoped>\n",
       "    .dataframe tbody tr th:only-of-type {\n",
       "        vertical-align: middle;\n",
       "    }\n",
       "\n",
       "    .dataframe tbody tr th {\n",
       "        vertical-align: top;\n",
       "    }\n",
       "\n",
       "    .dataframe thead th {\n",
       "        text-align: right;\n",
       "    }\n",
       "</style>\n",
       "<table border=\"1\" class=\"dataframe\">\n",
       "  <thead>\n",
       "    <tr style=\"text-align: right;\">\n",
       "      <th></th>\n",
       "      <th>index</th>\n",
       "      <th>a</th>\n",
       "      <th>b</th>\n",
       "      <th>c</th>\n",
       "      <th>d</th>\n",
       "      <th>message</th>\n",
       "    </tr>\n",
       "  </thead>\n",
       "  <tbody>\n",
       "    <tr>\n",
       "      <th>0</th>\n",
       "      <td>one</td>\n",
       "      <td>1</td>\n",
       "      <td>2</td>\n",
       "      <td>3.0</td>\n",
       "      <td>4</td>\n",
       "      <td>NaN</td>\n",
       "    </tr>\n",
       "    <tr>\n",
       "      <th>1</th>\n",
       "      <td>two</td>\n",
       "      <td>5</td>\n",
       "      <td>6</td>\n",
       "      <td>NaN</td>\n",
       "      <td>8</td>\n",
       "      <td>world</td>\n",
       "    </tr>\n",
       "    <tr>\n",
       "      <th>2</th>\n",
       "      <td>three</td>\n",
       "      <td>9</td>\n",
       "      <td>10</td>\n",
       "      <td>11.0</td>\n",
       "      <td>12</td>\n",
       "      <td>NaN</td>\n",
       "    </tr>\n",
       "  </tbody>\n",
       "</table>\n",
       "</div>"
      ],
      "text/plain": [
       "   index  a   b     c   d message\n",
       "0    one  1   2   3.0   4     NaN\n",
       "1    two  5   6   NaN   8   world\n",
       "2  three  9  10  11.0  12     NaN"
      ]
     },
     "execution_count": 41,
     "metadata": {},
     "output_type": "execute_result"
    }
   ],
   "source": [
    "pd.read_csv('data/ch06/data_lost.csv') # 推断NA、null和空缺"
   ]
  },
  {
   "cell_type": "code",
   "execution_count": 42,
   "metadata": {
    "collapsed": false,
    "jupyter": {
     "outputs_hidden": false
    }
   },
   "outputs": [
    {
     "data": {
      "text/html": [
       "<div>\n",
       "<style scoped>\n",
       "    .dataframe tbody tr th:only-of-type {\n",
       "        vertical-align: middle;\n",
       "    }\n",
       "\n",
       "    .dataframe tbody tr th {\n",
       "        vertical-align: top;\n",
       "    }\n",
       "\n",
       "    .dataframe thead th {\n",
       "        text-align: right;\n",
       "    }\n",
       "</style>\n",
       "<table border=\"1\" class=\"dataframe\">\n",
       "  <thead>\n",
       "    <tr style=\"text-align: right;\">\n",
       "      <th></th>\n",
       "      <th>index</th>\n",
       "      <th>a</th>\n",
       "      <th>b</th>\n",
       "      <th>c</th>\n",
       "      <th>d</th>\n",
       "      <th>message</th>\n",
       "    </tr>\n",
       "  </thead>\n",
       "  <tbody>\n",
       "    <tr>\n",
       "      <th>0</th>\n",
       "      <td>one</td>\n",
       "      <td>1</td>\n",
       "      <td>2</td>\n",
       "      <td>3.0</td>\n",
       "      <td>4</td>\n",
       "      <td>NaN</td>\n",
       "    </tr>\n",
       "    <tr>\n",
       "      <th>1</th>\n",
       "      <td>two</td>\n",
       "      <td>5</td>\n",
       "      <td>6</td>\n",
       "      <td>NaN</td>\n",
       "      <td>8</td>\n",
       "      <td>NaN</td>\n",
       "    </tr>\n",
       "    <tr>\n",
       "      <th>2</th>\n",
       "      <td>three</td>\n",
       "      <td>9</td>\n",
       "      <td>10</td>\n",
       "      <td>11.0</td>\n",
       "      <td>12</td>\n",
       "      <td>NaN</td>\n",
       "    </tr>\n",
       "  </tbody>\n",
       "</table>\n",
       "</div>"
      ],
      "text/plain": [
       "   index  a   b     c   d  message\n",
       "0    one  1   2   3.0   4      NaN\n",
       "1    two  5   6   NaN   8      NaN\n",
       "2  three  9  10  11.0  12      NaN"
      ]
     },
     "execution_count": 42,
     "metadata": {},
     "output_type": "execute_result"
    }
   ],
   "source": [
    "pd.read_csv('data/ch06/data_lost.csv', na_values=['world']) # 指定表示空缺的字符串"
   ]
  },
  {
   "cell_type": "code",
   "execution_count": 43,
   "metadata": {
    "collapsed": false,
    "jupyter": {
     "outputs_hidden": false
    }
   },
   "outputs": [
    {
     "data": {
      "text/html": [
       "<div>\n",
       "<style scoped>\n",
       "    .dataframe tbody tr th:only-of-type {\n",
       "        vertical-align: middle;\n",
       "    }\n",
       "\n",
       "    .dataframe tbody tr th {\n",
       "        vertical-align: top;\n",
       "    }\n",
       "\n",
       "    .dataframe thead th {\n",
       "        text-align: right;\n",
       "    }\n",
       "</style>\n",
       "<table border=\"1\" class=\"dataframe\">\n",
       "  <thead>\n",
       "    <tr style=\"text-align: right;\">\n",
       "      <th></th>\n",
       "      <th>index</th>\n",
       "      <th>a</th>\n",
       "      <th>b</th>\n",
       "      <th>c</th>\n",
       "      <th>d</th>\n",
       "      <th>message</th>\n",
       "    </tr>\n",
       "  </thead>\n",
       "  <tbody>\n",
       "    <tr>\n",
       "      <th>0</th>\n",
       "      <td>one</td>\n",
       "      <td>1</td>\n",
       "      <td>2</td>\n",
       "      <td>3.0</td>\n",
       "      <td>4</td>\n",
       "      <td>NaN</td>\n",
       "    </tr>\n",
       "    <tr>\n",
       "      <th>1</th>\n",
       "      <td>NaN</td>\n",
       "      <td>5</td>\n",
       "      <td>6</td>\n",
       "      <td>NaN</td>\n",
       "      <td>8</td>\n",
       "      <td>NaN</td>\n",
       "    </tr>\n",
       "    <tr>\n",
       "      <th>2</th>\n",
       "      <td>three</td>\n",
       "      <td>9</td>\n",
       "      <td>10</td>\n",
       "      <td>11.0</td>\n",
       "      <td>12</td>\n",
       "      <td>NaN</td>\n",
       "    </tr>\n",
       "  </tbody>\n",
       "</table>\n",
       "</div>"
      ],
      "text/plain": [
       "   index  a   b     c   d  message\n",
       "0    one  1   2   3.0   4      NaN\n",
       "1    NaN  5   6   NaN   8      NaN\n",
       "2  three  9  10  11.0  12      NaN"
      ]
     },
     "execution_count": 43,
     "metadata": {},
     "output_type": "execute_result"
    }
   ],
   "source": [
    "pd.read_csv('data/ch06/data_lost.csv', na_values={'message': ['world'], 'index': ['two']}) # 为不同列指定表示空缺的字符串"
   ]
  },
  {
   "cell_type": "markdown",
   "metadata": {},
   "source": [
    "#### Pandas分块读取文本文件\n",
    "只想读取文件的一小部分或希望对文件进行迭代时"
   ]
  },
  {
   "cell_type": "code",
   "execution_count": 44,
   "metadata": {},
   "outputs": [
    {
     "data": {
      "text/html": [
       "<div>\n",
       "<style scoped>\n",
       "    .dataframe tbody tr th:only-of-type {\n",
       "        vertical-align: middle;\n",
       "    }\n",
       "\n",
       "    .dataframe tbody tr th {\n",
       "        vertical-align: top;\n",
       "    }\n",
       "\n",
       "    .dataframe thead th {\n",
       "        text-align: right;\n",
       "    }\n",
       "</style>\n",
       "<table border=\"1\" class=\"dataframe\">\n",
       "  <thead>\n",
       "    <tr style=\"text-align: right;\">\n",
       "      <th></th>\n",
       "      <th>one</th>\n",
       "      <th>two</th>\n",
       "      <th>three</th>\n",
       "      <th>four</th>\n",
       "      <th>key</th>\n",
       "    </tr>\n",
       "  </thead>\n",
       "  <tbody>\n",
       "    <tr>\n",
       "      <th>0</th>\n",
       "      <td>0.467976</td>\n",
       "      <td>-0.038649</td>\n",
       "      <td>-0.295344</td>\n",
       "      <td>-1.824726</td>\n",
       "      <td>L</td>\n",
       "    </tr>\n",
       "    <tr>\n",
       "      <th>1</th>\n",
       "      <td>-0.358893</td>\n",
       "      <td>1.404453</td>\n",
       "      <td>0.704965</td>\n",
       "      <td>-0.200638</td>\n",
       "      <td>B</td>\n",
       "    </tr>\n",
       "    <tr>\n",
       "      <th>2</th>\n",
       "      <td>-0.501840</td>\n",
       "      <td>0.659254</td>\n",
       "      <td>-0.421691</td>\n",
       "      <td>-0.057688</td>\n",
       "      <td>G</td>\n",
       "    </tr>\n",
       "    <tr>\n",
       "      <th>3</th>\n",
       "      <td>0.204886</td>\n",
       "      <td>1.074134</td>\n",
       "      <td>1.388361</td>\n",
       "      <td>-0.982404</td>\n",
       "      <td>R</td>\n",
       "    </tr>\n",
       "    <tr>\n",
       "      <th>4</th>\n",
       "      <td>0.354628</td>\n",
       "      <td>-0.133116</td>\n",
       "      <td>0.283763</td>\n",
       "      <td>-0.837063</td>\n",
       "      <td>Q</td>\n",
       "    </tr>\n",
       "  </tbody>\n",
       "</table>\n",
       "</div>"
      ],
      "text/plain": [
       "        one       two     three      four key\n",
       "0  0.467976 -0.038649 -0.295344 -1.824726   L\n",
       "1 -0.358893  1.404453  0.704965 -0.200638   B\n",
       "2 -0.501840  0.659254 -0.421691 -0.057688   G\n",
       "3  0.204886  1.074134  1.388361 -0.982404   R\n",
       "4  0.354628 -0.133116  0.283763 -0.837063   Q"
      ]
     },
     "execution_count": 44,
     "metadata": {},
     "output_type": "execute_result"
    }
   ],
   "source": [
    "pd.read_csv('data/ch06/data_large.csv', nrows=5) # 只读取前五行"
   ]
  },
  {
   "cell_type": "code",
   "execution_count": 45,
   "metadata": {},
   "outputs": [
    {
     "data": {
      "text/plain": [
       "E    368.0\n",
       "X    364.0\n",
       "L    346.0\n",
       "O    343.0\n",
       "Q    340.0\n",
       "dtype: float64"
      ]
     },
     "execution_count": 45,
     "metadata": {},
     "output_type": "execute_result"
    }
   ],
   "source": [
    "reader = pd.read_csv('data/ch06/data_large.csv', chunksize=1000) # 设置分块大小，返回TextFileReader可迭代对象\n",
    "total = pd.Series([], dtype='float64')\n",
    "for data in reader:\n",
    "    data_count = data['key'].value_counts()\n",
    "    total = total.add(data_count, fill_value=0)  # 根据key列分组计数\n",
    "\n",
    "total = total.sort_values(ascending=False)\n",
    "total[:5]"
   ]
  },
  {
   "cell_type": "markdown",
   "metadata": {},
   "source": [
    "## 四、代码阅读：实现股票文件扫单交易"
   ]
  },
  {
   "cell_type": "code",
   "execution_count": 46,
   "metadata": {},
   "outputs": [],
   "source": [
    "from paramiko import SFTPClient, SFTPFile, Transport\n",
    "from threading import Timer\n",
    "from datetime import datetime\n",
    "from typing import Dict\n",
    "from pytz import timezone\n",
    "import os\n",
    "import logging\n",
    "import time\n",
    "\n",
    "logging.basicConfig(level=logging.INFO, format='%(asctime)s %(thread)d %(levelname)s %(module)s - %(message)s')\n",
    "logger = logging.getLogger(__name__)\n",
    "\n",
    "\n",
    "class LoopTimer(Timer):\n",
    "    \"\"\"\n",
    "    循环定时器\n",
    "    \"\"\"\n",
    "\n",
    "    def __init__(self, interval, func, args=None, kwargs=None):\n",
    "        Timer.__init__(self, interval, func, args=args, kwargs=kwargs)\n",
    "\n",
    "    def run(self):\n",
    "        while True:\n",
    "            self.function(*self.args, **self.kwargs)\n",
    "            self.finished.wait(self.interval)\n",
    "            if self.finished.is_set():\n",
    "                self.finished.set()\n",
    "                break\n",
    "\n",
    "\n",
    "class LocalFileHandler:\n",
    "    \"\"\"\n",
    "    本地文件处理类\n",
    "    \"\"\"\n",
    "\n",
    "    def __init__(self):\n",
    "        self.files = {}\n",
    "\n",
    "    def is_file_closed(self, file_path):\n",
    "        return file_path not in self.files or self.files[file_path].closed\n",
    "\n",
    "    def open_file(self, file_path, mode='r'):\n",
    "        \"\"\"\n",
    "        为每个文件缓存file对象\n",
    "        \"\"\"\n",
    "        if self.is_file_closed(file_path):\n",
    "            self.files[file_path] = open(file_path, mode=mode)\n",
    "        return self.files[file_path]\n",
    "\n",
    "    def close_file(self, file_path):\n",
    "        if file_path in self.files:\n",
    "            if self.files[file_path]:\n",
    "                self.files[file_path].close()\n",
    "            del self.files[file_path]\n",
    "\n",
    "    @staticmethod\n",
    "    def stat(file_path):\n",
    "        \"\"\"\n",
    "        获取文件状态，文件修改时间和大小，文件不存在为None\n",
    "        \"\"\"\n",
    "        try:\n",
    "            stat = os.stat(file_path)\n",
    "            return stat.st_mtime, stat.st_size\n",
    "        except IOError:\n",
    "            logger.error('No such file or IO error')\n",
    "            return None\n",
    "\n",
    "    def read(self, file_path, callback):\n",
    "        \"\"\"\n",
    "        读取文件\n",
    "        \"\"\"\n",
    "        if self.stat(file_path):\n",
    "            with self.open_file(file_path, mode='r') as f:\n",
    "                content = f.read()\n",
    "                if callback:\n",
    "                    callback(content.strip())\n",
    "                return content\n",
    "\n",
    "    def read_lines(self, file_path, callback):\n",
    "        \"\"\"\n",
    "        读取文件，直到空行\n",
    "        \"\"\"\n",
    "        if self.stat(file_path):\n",
    "            with self.open_file(file_path, mode='r') as f:\n",
    "                li = []\n",
    "                for line in f.readlines():\n",
    "                    if callback:\n",
    "                        callback(line.strip())\n",
    "                    li.append(line)\n",
    "                return li\n",
    "\n",
    "    def read_stream(self, file_path, callback):\n",
    "        \"\"\"\n",
    "        读取文件流，注意关闭文件\n",
    "        \"\"\"\n",
    "        if self.stat(file_path) and self.is_file_closed(file_path):\n",
    "            try:\n",
    "                f = self.open_file(file_path, mode='r')\n",
    "                while True:\n",
    "                    line = f.readline()\n",
    "                    if line:\n",
    "                        callback(line.strip())\n",
    "                    else:\n",
    "                        time.sleep(0.1)\n",
    "            except Exception:\n",
    "                logger.error('Read stream error', exc_info=True)\n",
    "            finally:\n",
    "                self.close_file(file_path)\n",
    "\n",
    "    def write(self, file_path, content):\n",
    "        \"\"\"\n",
    "        覆盖写入文件\n",
    "        \"\"\"\n",
    "        with self.open_file(file_path, 'w') as f:\n",
    "            f.write(content)\n",
    "\n",
    "    def write_lines(self, file_path, lines):\n",
    "        \"\"\"\n",
    "        覆盖写入文件\n",
    "        \"\"\"\n",
    "        with self.open_file(file_path, 'w') as f:\n",
    "            li = []\n",
    "            i = 0\n",
    "            for line in lines:\n",
    "                li.append((os.linesep + line) if i else line)\n",
    "                i += 1\n",
    "            f.writelines(li)\n",
    "\n",
    "    def write_append(self, file_path, lines):\n",
    "        \"\"\"\n",
    "        追加写入文件\n",
    "        \"\"\"\n",
    "        with self.open_file(file_path, 'a') as f:\n",
    "            li = []\n",
    "            i = 0\n",
    "            pos = f.tell()\n",
    "            for line in lines:\n",
    "                li.append((os.linesep + line) if i + pos else line)\n",
    "                i += 1\n",
    "            f.writelines(li)\n",
    "\n",
    "    def write_stream(self, file_path, lines):\n",
    "        \"\"\"\n",
    "        追加写入文件流，注意关闭文件 self.close_file(file_path)\n",
    "        \"\"\"\n",
    "        try:\n",
    "            f = self.open_file(file_path, mode='r')\n",
    "            li = []\n",
    "            i = 0\n",
    "            pos = f.tell()\n",
    "            for line in lines:\n",
    "                li.append((os.linesep + line) if i + pos else line)\n",
    "                i += 1\n",
    "            f.writelines(li)\n",
    "        except Exception:\n",
    "            logger.error('Write stream error', exc_info=True)\n",
    "        finally:\n",
    "            self.close_file(file_path)\n",
    "\n",
    "    def dispose(self):\n",
    "        for file_path in self.files:\n",
    "            self.close_file(file_path)\n",
    "        self.files.clear()\n",
    "\n",
    "\n",
    "class SFTPFileHandler(LocalFileHandler):\n",
    "    \"\"\"\n",
    "    远程文件处理类，SFTP协议\n",
    "    \"\"\"\n",
    "\n",
    "    def __init__(self, host='127.0.0.1', port=22, username=None, password=None):\n",
    "        super().__init__()\n",
    "        self.host = host\n",
    "        self.port = port\n",
    "        self.username = username\n",
    "        self.password = password\n",
    "        self.transport = None\n",
    "        self.clients = {}\n",
    "\n",
    "    def is_connected(self):\n",
    "        \"\"\"\n",
    "        SFTP是否连接\n",
    "        \"\"\"\n",
    "        if self.transport:\n",
    "            return self.transport.is_active()\n",
    "        return False\n",
    "\n",
    "    def connect(self):\n",
    "        \"\"\"\n",
    "        连接SFTP\n",
    "        \"\"\"\n",
    "        self.transport = Transport((self.host, self.port))\n",
    "        self.transport.connect(username=self.username, password=self.password)\n",
    "\n",
    "    def disconnect(self):\n",
    "        \"\"\"\n",
    "        断开SFTP\n",
    "        \"\"\"\n",
    "        for key, file in self.files.items():\n",
    "            if file:\n",
    "                file.close()\n",
    "        for key, client in self.clients.items():\n",
    "            if client:\n",
    "                client.close()\n",
    "        if self.transport:\n",
    "            self.transport.close()\n",
    "\n",
    "    def get_client(self, file_path):\n",
    "        \"\"\"\n",
    "        为每个文件缓存channel对象\n",
    "        \"\"\"\n",
    "        if file_path not in self.clients:\n",
    "            self.clients[file_path] = SFTPClient.from_transport(self.transport)\n",
    "        return self.clients[file_path]\n",
    "\n",
    "    def open_file(self, file_path, mode='r'):\n",
    "        \"\"\"\n",
    "        为每个文件缓存file对象\n",
    "        \"\"\"\n",
    "        if self.is_file_closed(file_path):\n",
    "            self.files[file_path] = self.get_client(file_path).open(file_path, mode=mode)\n",
    "        return self.files[file_path]\n",
    "\n",
    "    def stat(self, file_path):\n",
    "        \"\"\"\n",
    "        获取文件状态，文件不存在为None\n",
    "        \"\"\"\n",
    "        if not self.is_connected():\n",
    "            self.connect()\n",
    "        try:\n",
    "            stat = self.get_client(file_path).stat(file_path)\n",
    "            return stat.st_mtime, stat.st_size\n",
    "        except IOError:\n",
    "            logger.error('No such file or IO error')\n",
    "            return None\n",
    "\n",
    "    def read(self, file_path, callback):\n",
    "        \"\"\"\n",
    "        读取文件\n",
    "        \"\"\"\n",
    "        if not self.is_connected():\n",
    "            self.connect()\n",
    "        super().read(file_path, callback)\n",
    "\n",
    "    def read_lines(self, file_path, callback):\n",
    "        \"\"\"\n",
    "        读取文件，直到空行\n",
    "        \"\"\"\n",
    "        if not self.is_connected():\n",
    "            self.connect()\n",
    "        super().read_lines(file_path, callback)\n",
    "\n",
    "    def read_stream(self, file_path, callback):\n",
    "        \"\"\"\n",
    "        读取文件流，注意关闭文件\n",
    "        \"\"\"\n",
    "        if not self.is_connected():\n",
    "            self.connect()\n",
    "        super().read_stream(file_path, callback)\n",
    "\n",
    "    def write(self, file_path, content):\n",
    "        \"\"\"\n",
    "        覆盖写入文件\n",
    "        \"\"\"\n",
    "        if not self.is_connected():\n",
    "            self.connect()\n",
    "        super().write(file_path, content)\n",
    "\n",
    "    def write_lines(self, file_path, lines):\n",
    "        \"\"\"\n",
    "        覆盖写入文件\n",
    "        \"\"\"\n",
    "        if not self.is_connected():\n",
    "            self.connect()\n",
    "        super().write_lines(file_path, lines)\n",
    "\n",
    "    def write_append(self, file_path, lines):\n",
    "        \"\"\"\n",
    "        追加写入文件\n",
    "        \"\"\"\n",
    "        if not self.is_connected():\n",
    "            self.connect()\n",
    "        super().write_append(file_path, lines)\n",
    "\n",
    "    def write_stream(self, file_path, lines):\n",
    "        \"\"\"\n",
    "        追加写入文件流，注意关闭文件\n",
    "        \"\"\"\n",
    "        if not self.is_connected():\n",
    "            self.connect()\n",
    "        super().write_stream(file_path, lines)\n",
    "\n",
    "    def dispose(self):\n",
    "        self.disconnect()\n",
    "        self.files.clear()\n",
    "        self.clients.clear()\n",
    "\n",
    "\n",
    "class TradeClient:\n",
    "\n",
    "    def __init__(self, path):\n",
    "        self._tz = timezone('Asia/Shanghai')\n",
    "        self.today = datetime.now(tz=self._tz).strftime(\"%Y%m%d\")\n",
    "        self.handler = LocalFileHandler()\n",
    "        self.path = path\n",
    "        self._hb = 'Ping'\n",
    "        self._hb_file = '%s/ping%s.dat' % (self.path, self.today)\n",
    "        self._hb_timer = None\n",
    "        self._hb_interval = 2\n",
    "        self._hb_started = False\n",
    "        self._watch_hb = 'Pong'\n",
    "        self._watch_files = [('%s/pong%s.dat' % (self.path, self.today), self.handle_heartbeat, False)]\n",
    "        self._watch_timers = {}\n",
    "        self._watch_stats = {}\n",
    "        self._watch_interval = 0.3\n",
    "        self._watch_started = False\n",
    "\n",
    "    def _watch_file(self, file_path, line_handle, stream_mode):\n",
    "        \"\"\"\n",
    "        判断文件变化，如果发生变化则读取文件\n",
    "        \"\"\"\n",
    "        new_stat = self.handler.stat(file_path)\n",
    "        if new_stat and (\n",
    "                file_path not in self._watch_stats or (\n",
    "                self._watch_stats[file_path][0] < new_stat[0] or\n",
    "                self._watch_stats[file_path][1] != new_stat[1])):\n",
    "            prev_stat = self._watch_stats[file_path] if file_path in self._watch_stats else (0, 0)\n",
    "            self._watch_stats[file_path] = new_stat\n",
    "            logger.debug('File [%s] has been changed: [%d, %d] > [%d, %d]', file_path, *prev_stat, *new_stat)\n",
    "            self._read_file(file_path, line_handle, stream_mode)\n",
    "\n",
    "    def _read_file(self, file_path, line_handle, stream_mode):\n",
    "        \"\"\"\n",
    "        读取文件并处理\n",
    "        \"\"\"\n",
    "        if stream_mode:\n",
    "            self.handler.read_stream(file_path, line_handle)\n",
    "        else:\n",
    "            self.handler.read_lines(file_path, line_handle)\n",
    "\n",
    "    def start_watch(self, file_names=None):\n",
    "        \"\"\"\n",
    "        启动监控文件任务\n",
    "        :param file_names: 需要监控的文件列表，为None则全部都监控\n",
    "        \"\"\"\n",
    "        for file_path, line_handle, stream_mode in self._watch_files:\n",
    "            if not file_names or any([file_name in file_path for file_name in file_names]):\n",
    "                _timer = LoopTimer(self._watch_interval, self._watch_file, (file_path, line_handle, stream_mode))\n",
    "                self._watch_timers[file_path] = _timer\n",
    "                _timer.start()\n",
    "                logger.info('Watch [%s] start', file_path)\n",
    "        self._watch_started = True\n",
    "\n",
    "    def stop_watch(self):\n",
    "        \"\"\"\n",
    "        停止监控文件任务\n",
    "        \"\"\"\n",
    "        for file_path, timer in self._watch_timers:\n",
    "            if self._watch_timers[file_path]:\n",
    "                self._watch_timers[file_path].cancel()\n",
    "            logger.info('Watch [%s] stop', file_path)\n",
    "        self._watch_timers.clear()\n",
    "        self._watch_stats.clear()\n",
    "\n",
    "    def _do_heartbeat(self):\n",
    "        \"\"\"\n",
    "        心跳\n",
    "        \"\"\"\n",
    "        t = datetime.now(tz=self._tz).strftime(\"%H%M%S%f\")\n",
    "        self.handler.write_lines(self._hb_file, [t])\n",
    "        logger.info('%s: %s', self._hb, t)\n",
    "\n",
    "    def start_heartbeat(self):\n",
    "        \"\"\"\n",
    "        启动心跳任务\n",
    "        :return:\n",
    "        \"\"\"\n",
    "        self._hb_timer = LoopTimer(self._hb_interval, self._do_heartbeat)\n",
    "        self._hb_timer.start()\n",
    "        self._hb_started = True\n",
    "        logger.info('%s start', self._hb)\n",
    "\n",
    "    def stop_heartbeat(self):\n",
    "        \"\"\"\n",
    "        停止心跳任务\n",
    "        \"\"\"\n",
    "        if self._hb_timer:\n",
    "            self._hb_timer.cancle()\n",
    "        logger.info('%s stop', self._hb)\n",
    "\n",
    "    def handle_heartbeat(self, line):\n",
    "        \"\"\"\n",
    "        用户继承或重写，心跳回调\n",
    "        \"\"\"\n",
    "        logger.info('%s: %s', self._watch_hb, line)\n",
    "\n",
    "    def dispose(self):\n",
    "        self.handler.dispose()\n",
    "        if self._watch_started:\n",
    "            self.stop_watch()\n",
    "        if self._hb_started:\n",
    "            self.stop_heartbeat()\n",
    "\n",
    "\n",
    "class TradeServer(TradeClient):\n",
    "\n",
    "    def __init__(self, path, host='127.0.0.1', port=22, username=None, password=None):\n",
    "        super().__init__(path)\n",
    "        self.handler = SFTPFileHandler(host=host, port=port, username=username, password=password)\n",
    "        self.path = path\n",
    "        self._hb = 'Pong'\n",
    "        self._hb_file = '%s/pong%s.dat' % (self.path, self.today)\n",
    "        self._watch_hb = 'Ping'\n",
    "        self._watch_files = [('%s/ping%s.dat' % (self.path, self.today), self.handle_heartbeat, False)]\n",
    "\n",
    "    def handle_heartbeat(self, line):\n",
    "        \"\"\"\n",
    "        用户继承或重写，心跳回调\n",
    "        \"\"\"\n",
    "        logger.info('%s: %s', self._watch_hb, line)\n",
    "        self._do_heartbeat()"
   ]
  },
  {
   "cell_type": "raw",
   "metadata": {},
   "source": [
    "import time\n",
    "p = os.path.join(os.getcwd(), 'data/ch06')\n",
    "pwd = input()\n",
    "server = TradeServer(p, username='qingspace', password=pwd)\n",
    "server.start_watch()\n",
    "\n",
    "client = TradeClient(p)\n",
    "client.start_watch()\n",
    "client.start_heartbeat()\n",
    "while True:\n",
    "    time.sleep(10)"
   ]
  },
  {
   "cell_type": "code",
   "execution_count": null,
   "metadata": {},
   "outputs": [],
   "source": []
  }
 ],
 "metadata": {
  "kernelspec": {
   "display_name": "Python 3",
   "language": "python",
   "name": "python3"
  },
  "language_info": {
   "codemirror_mode": {
    "name": "ipython",
    "version": 3
   },
   "file_extension": ".py",
   "mimetype": "text/x-python",
   "name": "python",
   "nbconvert_exporter": "python",
   "pygments_lexer": "ipython3",
   "version": "3.7.0"
  }
 },
 "nbformat": 4,
 "nbformat_minor": 4
}
