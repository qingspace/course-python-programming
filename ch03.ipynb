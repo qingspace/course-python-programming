{
 "cells": [
  {
   "cell_type": "markdown",
   "metadata": {},
   "source": [
    "# Python基本语法、数据类型和控制语句\n",
    "![](images/python.jpg)\n",
    "## 一、Python基本语法"
   ]
  },
  {
   "cell_type": "markdown",
   "metadata": {},
   "source": [
    "### 1. 标准输出和输入\n",
    "标准输出，默认情况下向屏幕设备输出，也可以向文件和网络设备输出"
   ]
  },
  {
   "cell_type": "code",
   "execution_count": 1,
   "metadata": {
    "collapsed": false,
    "jupyter": {
     "outputs_hidden": false
    }
   },
   "outputs": [
    {
     "name": "stdout",
     "output_type": "stream",
     "text": [
      "Hello world!\n",
      "Hello world !\n"
     ]
    }
   ],
   "source": [
    "print('Hello world!')\n",
    "print('Hello', 'world', '!') #自动添加空格"
   ]
  },
  {
   "cell_type": "code",
   "execution_count": 2,
   "metadata": {},
   "outputs": [
    {
     "name": "stdin",
     "output_type": "stream",
     "text": [
      "Please input:  Hello\n"
     ]
    },
    {
     "data": {
      "text/plain": [
       "'Hello'"
      ]
     },
     "execution_count": 2,
     "metadata": {},
     "output_type": "execute_result"
    }
   ],
   "source": [
    "#words = raw_input('Please input: ') #python 2中使用raw_input函数返回字符串，input返回数字.通过命令行执行\n",
    "#words = raw_input('请输入：'.decode('utf-8').encode('GB2312')) #执行python代码文件时，这里的中文会出现乱码，python 2需要特别注意乱码的问题\n",
    "words = input('Please input: ')\n",
    "words"
   ]
  },
  {
   "cell_type": "markdown",
   "metadata": {},
   "source": [
    "日志输出"
   ]
  },
  {
   "cell_type": "code",
   "execution_count": 3,
   "metadata": {},
   "outputs": [
    {
     "name": "stderr",
     "output_type": "stream",
     "text": [
      "2021-05-06 23:44:34,682 74924 INFO <ipython-input-3-aeb523a56bf2> - Info: Number 1\n",
      "2021-05-06 23:44:34,683 74924 DEBUG <ipython-input-3-aeb523a56bf2> - Debug: Number 2\n",
      "2021-05-06 23:44:34,684 74924 ERROR <ipython-input-3-aeb523a56bf2> - Error: Number 3\n"
     ]
    }
   ],
   "source": [
    "import logging\n",
    "logging.basicConfig(level=logging.DEBUG, format='%(asctime)s %(thread)d %(levelname)s %(module)s - %(message)s')\n",
    "logger = logging.getLogger('ch03')\n",
    "logger.info('Info: %s %d' % ('Number', 1))\n",
    "logger.debug('Debug: %s %d' % ('Number', 2))\n",
    "logger.error('Error: %s %d' % ('Number', 3))"
   ]
  },
  {
   "cell_type": "markdown",
   "metadata": {},
   "source": [
    "### 2. 空行、冒号和缩进"
   ]
  },
  {
   "cell_type": "code",
   "execution_count": 4,
   "metadata": {},
   "outputs": [],
   "source": [
    "def _func():\n",
    "    pass\n",
    "\n",
    "if True:\n",
    "    pass\n",
    "elif False:\n",
    "    pass\n",
    "else:\n",
    "    pass"
   ]
  },
  {
   "cell_type": "markdown",
   "metadata": {},
   "source": [
    "### 3. 变量、方法名和类名命名规则\n",
    "- 命名由字母、数字、下划线组成，不能以数字开头\n",
    "- 命名区分大小写\n",
    "- 以单下划线开头 \\_func 的代表不能直接访问的类属性；以双下划线开头 \\_\\_func 代表类的私有成员；以双下划线开头和结尾的代表Python专用标识：如 \\_\\_init\\_\\_ 类的构造函数名；\\_\\_name\\_\\_区分python文件是被运行还是被调用"
   ]
  },
  {
   "cell_type": "code",
   "execution_count": 5,
   "metadata": {},
   "outputs": [],
   "source": [
    "if __name__ == '__main__':\n",
    "    pass"
   ]
  },
  {
   "cell_type": "markdown",
   "metadata": {},
   "source": [
    "### 4. 变量赋值"
   ]
  },
  {
   "cell_type": "code",
   "execution_count": 6,
   "metadata": {
    "collapsed": false,
    "jupyter": {
     "outputs_hidden": false
    }
   },
   "outputs": [
    {
     "name": "stdout",
     "output_type": "stream",
     "text": [
      "1 2 3\n",
      "2 1 3\n",
      "4 5 6\n",
      "1 2 [3, 4]\n"
     ]
    }
   ],
   "source": [
    "a, b, c = 1, 2, 3\n",
    "print(a, b, c)\n",
    "\n",
    "a, b = b, a\n",
    "print(a, b, c)\n",
    "\n",
    "x = 4, 5, 6 # 自动打包\n",
    "a, b, c = x # 自动解包\n",
    "print(a, b, c)\n",
    "\n",
    "a, b, *c = 1, 2, 3, 4\n",
    "print(a, b, c)"
   ]
  },
  {
   "cell_type": "markdown",
   "metadata": {},
   "source": [
    "### 5. 运算符\n",
    "- 算术：+  -  \\*  /  %  \\*\\*  //\n",
    "- 比较：==  !=   <>  >  <  >=  <=\n",
    "- 赋值：=  +=  -=  \\*=  /=  %=  \\*\\*=  //=\n",
    "- 逻辑：and   or   not\n",
    "- 位：&  |  ^  ~  <<  >>\n",
    "- 其他：in  not in  is  is not"
   ]
  },
  {
   "cell_type": "code",
   "execution_count": 7,
   "metadata": {
    "collapsed": false,
    "jupyter": {
     "outputs_hidden": false
    }
   },
   "outputs": [
    {
     "name": "stdout",
     "output_type": "stream",
     "text": [
      "a + b = 7\n",
      "a - b = 3\n",
      "a * b = 10\n",
      "a / b = 2.5\n",
      "a % b = 1\n",
      "a ** b = 25\n",
      "a // b = 2\n",
      "--------------------\n",
      "a > b = True\n",
      "a < b = False\n",
      "a != b = True\n",
      "a >= b = True\n",
      "a <= b = False\n"
     ]
    }
   ],
   "source": [
    "a = 5\n",
    "b = 2\n",
    "print(\"a + b =\", a + b)\n",
    "print(\"a - b =\", a - b)\n",
    "print(\"a * b =\", a * b)\n",
    "print(\"a / b =\", a / b)\n",
    "print(\"a % b =\", a % b)\n",
    "print(\"a ** b =\", a ** b)\n",
    "print(\"a // b =\", a // b)\n",
    "\n",
    "print(\"-\" * 20)\n",
    "print(\"a > b =\", a > b) \n",
    "print(\"a < b =\", a < b)\n",
    "print(\"a != b =\", a != b)\n",
    "print(\"a >= b =\", a >= b) \n",
    "print(\"a <= b =\", a <= b)"
   ]
  },
  {
   "cell_type": "code",
   "execution_count": 8,
   "metadata": {},
   "outputs": [
    {
     "name": "stdout",
     "output_type": "stream",
     "text": [
      "a += b then a = 7\n",
      "a -= b then a = 5\n",
      "a *= b then a = 10\n",
      "a /= b then a = 5.0\n",
      "a %= b then a = 1.0\n",
      "a **= b then a = 1.0\n",
      "a //= b then a = 0.0\n"
     ]
    }
   ],
   "source": [
    "a += b\n",
    "print(\"a += b then a =\", a)\n",
    "a -= b\n",
    "print(\"a -= b then a =\", a)\n",
    "a *= b\n",
    "print(\"a *= b then a =\", a)\n",
    "a /= b\n",
    "print(\"a /= b then a =\", a)\n",
    "a %= b\n",
    "print(\"a %= b then a =\", a)\n",
    "a **= b\n",
    "print(\"a **= b then a =\", a)\n",
    "a //= b\n",
    "print(\"a //= b then a =\", a)"
   ]
  },
  {
   "cell_type": "code",
   "execution_count": 9,
   "metadata": {},
   "outputs": [
    {
     "name": "stdout",
     "output_type": "stream",
     "text": [
      "a & b = 0\n",
      "a | b = 7\n",
      "a ^ b = 7\n",
      "~a = -6\n",
      "a << 2 = 20\n",
      "a >> 2 = 1\n"
     ]
    }
   ],
   "source": [
    "a = 5  # 00000101\n",
    "b = 2  # 00000010\n",
    "print(\"a & b =\", a & b)\n",
    "print(\"a | b =\", a | b) \n",
    "print(\"a ^ b =\", a ^ b) \n",
    "c = ~a\n",
    "print(\"~a =\", c)\n",
    "c = a << 2\n",
    "print(\"a << 2 =\", c) # 00010100\n",
    "c = a >> 2\n",
    "print(\"a >> 2 =\", c) # 00000001"
   ]
  },
  {
   "cell_type": "markdown",
   "metadata": {},
   "source": [
    "### 编程实践：实现冒泡排序算法"
   ]
  },
  {
   "cell_type": "code",
   "execution_count": 10,
   "metadata": {
    "collapsed": false,
    "jupyter": {
     "outputs_hidden": false
    }
   },
   "outputs": [
    {
     "data": {
      "text/plain": [
       "[99, 56, 14, 0, 11, 74, 4, 85, 88, 10, 12, 98, 45, 30, 2, 3, 100, 2, 44, 82]"
      ]
     },
     "execution_count": 10,
     "metadata": {},
     "output_type": "execute_result"
    }
   ],
   "source": [
    "import random\n",
    "random.seed(1234)\n",
    "numbers = [random.randint(0, 100) for _ in range(20)]\n",
    "numbers"
   ]
  },
  {
   "cell_type": "code",
   "execution_count": 11,
   "metadata": {
    "collapsed": false,
    "jupyter": {
     "outputs_hidden": false
    }
   },
   "outputs": [
    {
     "data": {
      "text/plain": [
       "[0, 2, 2, 3, 4, 10, 11, 12, 14, 30, 44, 45, 56, 74, 82, 85, 88, 98, 99, 100]"
      ]
     },
     "execution_count": 11,
     "metadata": {},
     "output_type": "execute_result"
    }
   ],
   "source": [
    "def bubble_sort(number_list):\n",
    "    n = len(number_list)\n",
    "    for j in range(n):\n",
    "        for i in range(n - 1 - j):        \n",
    "            if number_list[i] > number_list[i + 1]:\n",
    "                number_list[i], number_list[i + 1] = number_list[i + 1], number_list[i]\n",
    "    return number_list\n",
    "\n",
    "bubble_sort(numbers)"
   ]
  },
  {
   "cell_type": "markdown",
   "metadata": {},
   "source": [
    "![](images/bubble_sort.gif)"
   ]
  },
  {
   "cell_type": "markdown",
   "metadata": {},
   "source": [
    "## 二、Python数据类型\n",
    "计算机底层使用的是二进制数据，为方便编程，各类语言都对二进制数据进行各种抽象，进而提供基本数据类型和用户自定义类型\n",
    "- 数字类型：整数（int），浮点数（float），复数（complex）\n",
    "- 字符串（str）\n",
    "- 布尔值（bool）\n",
    "- 元组（tuple）\n",
    "- 集合（set）\n",
    "- 列表（list）\n",
    "- 字典（dict）"
   ]
  },
  {
   "cell_type": "markdown",
   "metadata": {},
   "source": [
    "### 1. 数字\n",
    "#### 整数（int）"
   ]
  },
  {
   "cell_type": "code",
   "execution_count": 12,
   "metadata": {
    "collapsed": false,
    "jupyter": {
     "outputs_hidden": false
    }
   },
   "outputs": [
    {
     "name": "stdout",
     "output_type": "stream",
     "text": [
      "2 8 16\n",
      "0b1010 0o12 0xa\n"
     ]
    }
   ],
   "source": [
    "a = 10\n",
    "b = 0b10 #二进制\n",
    "c = 0o10 #八进制\n",
    "d = 0x10 #十六进制\n",
    "print(b, c, d)\n",
    "print(bin(10), oct(10), hex(10))"
   ]
  },
  {
   "cell_type": "markdown",
   "metadata": {},
   "source": [
    "#### 浮点数（float）"
   ]
  },
  {
   "cell_type": "code",
   "execution_count": 13,
   "metadata": {
    "collapsed": false,
    "jupyter": {
     "outputs_hidden": false
    }
   },
   "outputs": [
    {
     "name": "stdout",
     "output_type": "stream",
     "text": [
      "1.2 0.012 120.0\n"
     ]
    }
   ],
   "source": [
    "a = 1.2\n",
    "b = 1.2e-2\n",
    "c = 1.2e2\n",
    "print(a, b, c)"
   ]
  },
  {
   "cell_type": "markdown",
   "metadata": {},
   "source": [
    "#### 复数（complex）"
   ]
  },
  {
   "cell_type": "code",
   "execution_count": 14,
   "metadata": {
    "collapsed": false,
    "jupyter": {
     "outputs_hidden": false
    }
   },
   "outputs": [
    {
     "name": "stdout",
     "output_type": "stream",
     "text": [
      "(1+2j) (3+4j) (4+6j)\n"
     ]
    }
   ],
   "source": [
    "a = complex(1, 2)\n",
    "b = 3 + 4j\n",
    "c = a + b\n",
    "print(a, b, c)"
   ]
  },
  {
   "cell_type": "markdown",
   "metadata": {},
   "source": [
    "#### 数字函数\n",
    "使用标准库中的数学函数"
   ]
  },
  {
   "cell_type": "code",
   "execution_count": 15,
   "metadata": {
    "collapsed": false,
    "jupyter": {
     "outputs_hidden": false
    }
   },
   "outputs": [
    {
     "name": "stdout",
     "output_type": "stream",
     "text": [
      "int(\"10\") = 10\n",
      "float(10) = 10.0\n",
      "complex(1,10) = (1+10j)\n",
      "str(10) = 10\n",
      "chr(97) = a\n",
      "ord(\"a\") = 97\n",
      "bin(10) = 0b1010\n",
      "oct(10) = 0o12\n",
      "hex(10) = 0xa\n",
      "--------------------\n",
      "abs(-1) = 1\n",
      "ceil(1.1) = 2\n",
      "floor(1.9) = 1\n",
      "max(1,2,3,4) = 4\n",
      "min(1,2,3,4) = 1\n",
      "modf(math.pi) = (0.14159265358979312, 3.0)\n",
      "pow(2,3) = 8.0\n",
      "round(1.4) = 1\n",
      "round(1.5) = 2\n",
      "sqrt(3) = 1.7320508075688772\n",
      "operator.eq(1,2) = False\n"
     ]
    }
   ],
   "source": [
    "import math\n",
    "import operator\n",
    "print('int(\"10\") =', int(\"10\"))\n",
    "print('float(10) =', float(10))\n",
    "print('complex(1,10) =', complex(1,10))\n",
    "print('str(10) =', str(10))\n",
    "print('chr(97) =', chr(97))\n",
    "print('ord(\"a\") =', ord(\"a\"))\n",
    "print('bin(10) =', bin(10))\n",
    "print('oct(10) =', oct(10))\n",
    "print('hex(10) =', hex(10))\n",
    "print('-' * 20)\n",
    "print('abs(-1) =', abs(-1))\n",
    "print('ceil(1.1) =', math.ceil(1.1))\n",
    "print('floor(1.9) =', math.floor(1.9))\n",
    "print('max(1,2,3,4) =', max(1,2,3,4))\n",
    "print('min(1,2,3,4) =', min(1,2,3,4))\n",
    "print('modf(math.pi) =', math.modf(math.pi))\n",
    "print('pow(2,3) =', math.pow(2,3))\n",
    "print('round(1.4) =', round(1.4))\n",
    "print('round(1.5) =', round(1.5))\n",
    "print('sqrt(3) =', math.sqrt(3))\n",
    "print('operator.eq(1,2) =',operator.eq(1,2))"
   ]
  },
  {
   "cell_type": "code",
   "execution_count": 16,
   "metadata": {},
   "outputs": [
    {
     "data": {
      "text/plain": [
       "\u001b[1;31mSignature:\u001b[0m \u001b[0mmath\u001b[0m\u001b[1;33m.\u001b[0m\u001b[0mceil\u001b[0m\u001b[1;33m(\u001b[0m\u001b[0mx\u001b[0m\u001b[1;33m,\u001b[0m \u001b[1;33m/\u001b[0m\u001b[1;33m)\u001b[0m\u001b[1;33m\u001b[0m\u001b[0m\n",
       "\u001b[1;31mDocstring:\u001b[0m\n",
       "Return the ceiling of x as an Integral.\n",
       "\n",
       "This is the smallest integer >= x.\n",
       "\u001b[1;31mType:\u001b[0m      builtin_function_or_method\n"
      ]
     },
     "metadata": {},
     "output_type": "display_data"
    }
   ],
   "source": [
    "?math.ceil # 查看帮助"
   ]
  },
  {
   "cell_type": "markdown",
   "metadata": {},
   "source": [
    "### 2. 字符串（str）"
   ]
  },
  {
   "cell_type": "code",
   "execution_count": 17,
   "metadata": {
    "collapsed": false,
    "jupyter": {
     "outputs_hidden": false
    }
   },
   "outputs": [
    {
     "name": "stdout",
     "output_type": "stream",
     "text": [
      "It's time It\"s time It's time\n",
      "It's \n",
      "time\n",
      "It\\'s time\n"
     ]
    }
   ],
   "source": [
    "a = 'It\\'s time' # 字符转义\n",
    "b = 'It\"s time'\n",
    "c = '''It's time''' \n",
    "d = \"\"\"It's \n",
    "time\"\"\" # 支持多行文本\n",
    "e = r'It\\'s time'\n",
    "print(a, b, c)\n",
    "print(d)\n",
    "print(e)"
   ]
  },
  {
   "cell_type": "markdown",
   "metadata": {},
   "source": [
    "### 3. 布尔值（bool）"
   ]
  },
  {
   "cell_type": "code",
   "execution_count": 18,
   "metadata": {
    "collapsed": false,
    "jupyter": {
     "outputs_hidden": false
    }
   },
   "outputs": [
    {
     "name": "stdout",
     "output_type": "stream",
     "text": [
      "False True False True\n"
     ]
    }
   ],
   "source": [
    "a = True and False\n",
    "b = True or False\n",
    "c = not True\n",
    "d = 2 < 3\n",
    "print(a, b, c, d)"
   ]
  },
  {
   "cell_type": "markdown",
   "metadata": {},
   "source": [
    "### 编程实践：实现猜价格游戏\n",
    "输入价格判断其是否符合预期，然后给出提示"
   ]
  },
  {
   "cell_type": "code",
   "execution_count": 19,
   "metadata": {},
   "outputs": [
    {
     "name": "stdin",
     "output_type": "stream",
     "text": [
      "Type in a price: 120.1\n"
     ]
    },
    {
     "name": "stdout",
     "output_type": "stream",
     "text": [
      "You are right.\n"
     ]
    }
   ],
   "source": [
    "def guess_price(init_price):\n",
    "    n = input('Type in a price:')\n",
    "    n = float(n)\n",
    "    if n < init_price:\n",
    "        print('It is too low.')\n",
    "    elif n > init_price:\n",
    "        print('It is too high.')\n",
    "    else:\n",
    "        print('You are right.')\n",
    "\n",
    "guess_price(120.1)"
   ]
  },
  {
   "cell_type": "markdown",
   "metadata": {},
   "source": [
    "### 4. 元组和列表"
   ]
  },
  {
   "cell_type": "markdown",
   "metadata": {},
   "source": [
    "先提前掌握下面的for循环语句"
   ]
  },
  {
   "cell_type": "code",
   "execution_count": 20,
   "metadata": {
    "collapsed": false,
    "jupyter": {
     "outputs_hidden": false
    }
   },
   "outputs": [],
   "source": [
    "for i in range(3):\n",
    "    pass"
   ]
  },
  {
   "cell_type": "markdown",
   "metadata": {},
   "source": [
    "#### 元组\n",
    "元组是一种序列，并且经过初始化就不能被修改，是不可变类型，另外不可变类型还包括字符串和数字"
   ]
  },
  {
   "cell_type": "code",
   "execution_count": 21,
   "metadata": {},
   "outputs": [
    {
     "name": "stdout",
     "output_type": "stream",
     "text": [
      "t1 = (1, 2)\n",
      "t2 = (3,)\n",
      "t3 = ()\n",
      "t4 = (1, 2, 3)\n",
      "t5 = (1, 2, 1, 2)\n",
      "t4[2] = 3\n",
      "3 in t4 = True\n",
      "1\n",
      "2\n",
      "3\n"
     ]
    }
   ],
   "source": [
    "t1 = (1, 2)\n",
    "print('t1 =',  t1)\n",
    "t2 = (3,) #如果只有一个元素，那么,是必须的，否则结果是数字3，而不是元组\n",
    "print('t2 =',  t2)\n",
    "t3 = ()\n",
    "print('t3 =',  t3)\n",
    "\n",
    "t4 = t1 + t2 + t3\n",
    "print('t4 =', t4)\n",
    "t5 = t1 * 2\n",
    "print('t5 =',  t5)\n",
    "print('t4[2] =', t4[2])\n",
    "print('3 in t4 =' ,3 in t4)\n",
    "\n",
    "for i in t4:\n",
    "    print(i)"
   ]
  },
  {
   "cell_type": "markdown",
   "metadata": {},
   "source": [
    "#### 列表\n",
    "列表是另一种序列，其元素可以被修改\n",
    "![](images/list.png)"
   ]
  },
  {
   "cell_type": "code",
   "execution_count": 22,
   "metadata": {
    "collapsed": false,
    "jupyter": {
     "outputs_hidden": false
    }
   },
   "outputs": [
    {
     "name": "stdout",
     "output_type": "stream",
     "text": [
      "l1 = ['Mike', 'Jim', 'Brad']\n",
      "l2 = ['Julia']\n",
      "l3 = []\n",
      "l4 = ['Mike', 'Jim', 'Brad', 'Julia']\n",
      "l5 = ['Mike', 'Jim', 'Brad', 'Mike', 'Jim', 'Brad']\n",
      "l4.append('Hellen') then l4 = ['Mike', 'Jim', 'Brad', 'Julia', 'Hellen']\n",
      "l4.insert(0, 'Bob') then l4 = ['Bob', 'Mike', 'Jim', 'Brad', 'Julia', 'Hellen']\n",
      "Hellen\n",
      "l4.pop() then l4 = ['Bob', 'Mike', 'Jim', 'Brad', 'Julia']\n",
      "l4.sort() then l4 = ['Bob', 'Brad', 'Jim', 'Julia', 'Mike']\n",
      "l4.reverse() then l4 = ['Mike', 'Julia', 'Jim', 'Brad', 'Bob']\n",
      "l4.extend(l2) then l4 = ['Mike', 'Julia', 'Jim', 'Brad', 'Bob', 'Julia']\n",
      "l4.remove('Julia') then l4 = ['Mike', 'Jim', 'Brad', 'Bob', 'Julia']\n",
      "del l4[0] then l4 = ['Jim', 'Brad', 'Bob', 'Julia']\n",
      "['Mike', 'Jim', 'Brad', ['Java', 'Python'], 100, 200]\n",
      "Python\n",
      "Mike\n",
      "Jim\n",
      "Brad\n",
      "['Java', 'Python']\n",
      "100\n",
      "200\n"
     ]
    }
   ],
   "source": [
    "l1 = ['Mike', 'Jim', 'Brad']\n",
    "\n",
    "print('l1 =', l1)\n",
    "l2 = ['Julia',]\n",
    "print('l2 =', l2)\n",
    "l3 = []\n",
    "print('l3 =', l3)\n",
    "\n",
    "l4 = l1 + l2 + l3\n",
    "print('l4 =', l4)\n",
    "\n",
    "l5 = l1 * 2\n",
    "print('l5 =', l5)\n",
    "\n",
    "l4.append('Hellen')\n",
    "print(\"l4.append('Hellen') then l4 =\", l4)\n",
    "l4.insert(0, 'Bob')\n",
    "print(\"l4.insert(0, 'Bob') then l4 =\", l4)\n",
    "print(l4.pop())\n",
    "print(\"l4.pop() then l4 =\",l4)\n",
    "l4.sort()\n",
    "print(\"l4.sort() then l4 =\",l4)\n",
    "l4.reverse()\n",
    "print(\"l4.reverse() then l4 =\",l4)\n",
    "l4.extend(l2)\n",
    "print(\"l4.extend(l2) then l4 =\",l4)\n",
    "l4.remove('Julia')\n",
    "print(\"l4.remove('Julia') then l4 =\",l4)\n",
    "del l4[0]\n",
    "print(\"del l4[0] then l4 =\",l4)\n",
    "\n",
    "\n",
    "l6 = ['Mike', 'Jim', 'Brad', ['Java', 'Python'], 100, 200]\n",
    "print(l6)\n",
    "print(l6[-3][1])\n",
    "\n",
    "\n",
    "for i in l6:\n",
    "    print(i)"
   ]
  },
  {
   "cell_type": "markdown",
   "metadata": {},
   "source": [
    "#### 分片\n",
    "所有序列都可以分片，包括元组、列表、字典和集合"
   ]
  },
  {
   "cell_type": "code",
   "execution_count": 23,
   "metadata": {},
   "outputs": [
    {
     "name": "stdout",
     "output_type": "stream",
     "text": [
      "[0, 1, 2, 3, 4, 5, 6, 7, 8, 9, 10, 11, 12, 13, 14, 15, 16, 17, 18, 19]\n",
      "[0, 2, 4, 6, 8]\n",
      "[10, 11, 12, 13, 14, 15, 16, 17, 18]\n",
      "[19, 18, 17, 16, 15, 14, 13, 12, 11, 10, 9, 8, 7, 6, 5, 4, 3, 2, 1, 0]\n",
      "[0, 1, 2, 3, 4, 5, 6, 7, 8, 9]\n",
      "[0, 1, 2, 3, 4, 5, 6, 7, 8, 9, 100, 200, 10, 11, 12, 13, 14, 15, 16, 17, 18, 19]\n",
      "[0, 1, 2, 3, 4, 5, 6, 7, 8, 9, 10, 11, 12, 13, 14, 15, 16, 17, 18, 19]\n"
     ]
    }
   ],
   "source": [
    "li = list(range(20))\n",
    "\n",
    "print(li)\n",
    "print(li[0:10:2])\n",
    "print(li[-10:-1])\n",
    "print(li[-1::-1])\n",
    "print(li[:10])\n",
    "\n",
    "li[10:10] = [100,200]\n",
    "print(li)\n",
    "del li[10:12]\n",
    "print(li)"
   ]
  },
  {
   "cell_type": "markdown",
   "metadata": {},
   "source": [
    "### 编程实践：转换小写字母列表为大写字母列表后，间隔一个字母选取子集"
   ]
  },
  {
   "cell_type": "code",
   "execution_count": 24,
   "metadata": {
    "collapsed": false,
    "jupyter": {
     "outputs_hidden": false
    }
   },
   "outputs": [
    {
     "data": {
      "text/plain": [
       "['Q', 'E', 'T', 'U', 'O', 'A', 'D', 'G', 'J', 'L', 'X', 'V', 'N']"
      ]
     },
     "execution_count": 24,
     "metadata": {},
     "output_type": "execute_result"
    }
   ],
   "source": [
    "letters = list('qwertyuiopasdfghjklzxcvbnm')\n",
    "\n",
    "def convert_letters(letter_list):\n",
    "    result_list = []\n",
    "    for i in letter_list:\n",
    "        result_list.append(i.upper())\n",
    "\n",
    "    return result_list[::2]\n",
    "\n",
    "convert_letters(letters)"
   ]
  },
  {
   "cell_type": "markdown",
   "metadata": {},
   "source": [
    "### 5. 字典和集合\n",
    "![](images/dict.png)"
   ]
  },
  {
   "cell_type": "markdown",
   "metadata": {},
   "source": [
    "#### 字典\n",
    "字典是键值方式（key-value）存储的序列，在一个字典中key是唯一的，必须是不可变数据类型"
   ]
  },
  {
   "cell_type": "code",
   "execution_count": 25,
   "metadata": {
    "collapsed": false,
    "jupyter": {
     "outputs_hidden": false
    }
   },
   "outputs": [
    {
     "name": "stdout",
     "output_type": "stream",
     "text": [
      "d1 = {'Mike': 100, 'Jim': 99, 'Brad': 98}\n",
      "d1[\"Mike\"] = 100\n",
      "d1[\"Mike\"] = 0 then d1[\"Mike\"] = 0\n",
      "d1.get(\"Hellen\") = None\n",
      "d1.items() = dict_items([('Mike', 0), ('Jim', 99), ('Brad', 98)])\n",
      "d1.keys() = dict_keys(['Mike', 'Jim', 'Brad'])\n",
      "\"Hellen\" in d1 = False\n",
      "d1.pop(\"Mike\") and d1.popitem() then d1 = {'Jim': 99}\n",
      "d1[\"Hellen\"] = [99, 100] then d1 = {'Jim': 99, 'Hellen': [99, 100]}\n",
      "d2 = d1.copy() then d2 = {'Jim': 99, 'Hellen': [99, 100]}\n",
      "d2[\"Hellen\"].append(101) then d1 = {'Jim': 99, 'Hellen': [99, 100, 101]}\n",
      "d3 = copy.deepcopy(d1) then d3 = {'Jim': 99, 'Hellen': [99, 100, 101]}\n",
      "d3[\"Hellen\"].append(102) then d1 = {'Jim': 99, 'Hellen': [99, 100, 101]}\n",
      "d3 = {'Jim': 99, 'Hellen': [99, 100, 101, 102]}\n",
      "99\n",
      "[99, 100, 101]\n",
      "del d1[\"Jim\"] then d1 = {'Hellen': [99, 100, 101]}\n",
      "dl.clear() then d1 = {}\n"
     ]
    }
   ],
   "source": [
    "import copy\n",
    "\n",
    "d1 = {'Mike': 100, 'Jim': 99, 'Brad': 98}\n",
    "print('d1 =', d1)\n",
    "print('d1[\"Mike\"] =', d1['Mike'])\n",
    "d1['Mike'] = 0\n",
    "\n",
    "print('d1[\"Mike\"] = 0 then d1[\"Mike\"] =', d1['Mike'])\n",
    "print('d1.get(\"Hellen\") =', d1.get('Hellen'))  #如果索引取值时，key不存在会抛出异常，但是用get方法会返回None\n",
    "\n",
    "print('d1.items() =', d1.items())\n",
    "print('d1.keys() =', d1.keys())\n",
    "print('\"Hellen\" in d1 =', \"Hellen\" in d1)\n",
    "d1.pop(\"Mike\")\n",
    "d1.popitem()\n",
    "print('d1.pop(\"Mike\") and d1.popitem() then d1 =', d1)\n",
    "\n",
    "d1['Hellen'] = [99, 100]\n",
    "\n",
    "print('d1[\"Hellen\"] = [99, 100] then d1 =', d1)\n",
    "d2 = d1.copy()\n",
    "print('d2 = d1.copy() then d2 =',d2)\n",
    "d2['Hellen'].append(101)\n",
    "\n",
    "print('d2[\"Hellen\"].append(101) then d1 =' , d1)\n",
    "\n",
    "d3 = copy.deepcopy(d1)\n",
    "print('d3 = copy.deepcopy(d1) then d3 =', d3)\n",
    "d3['Hellen'].append(102)\n",
    "print('d3[\"Hellen\"].append(102) then d1 =', d1)\n",
    "print('d3 =', d3)\n",
    "\n",
    "for i in d1:\n",
    "    print(d1[i])\n",
    "\n",
    "del d1[\"Jim\"]\n",
    "print('del d1[\"Jim\"] then d1 =', d1)\n",
    "d1.clear()\n",
    "\n",
    "print('dl.clear() then d1 =', d1)"
   ]
  },
  {
   "cell_type": "markdown",
   "metadata": {},
   "source": [
    "#### 集合\n",
    "集合可以看作是只有key而没有value的字典，因而集合中的元素是唯一的"
   ]
  },
  {
   "cell_type": "code",
   "execution_count": 26,
   "metadata": {
    "collapsed": false,
    "jupyter": {
     "outputs_hidden": false
    }
   },
   "outputs": [
    {
     "name": "stdout",
     "output_type": "stream",
     "text": [
      "{'Brad', 'Jim', 'Mike'}\n",
      "{1, 2, 3}\n",
      "{1, 2, 3}\n",
      "{2, 3}\n"
     ]
    }
   ],
   "source": [
    "s1 = {'Mike', 'Jim', 'Brad'}\n",
    "print(s1)\n",
    "s2 = set([1, 2, 3, 1, 2])\n",
    "print(s2)\n",
    "s2.add(1)\n",
    "print(s2)\n",
    "s2.remove(1)\n",
    "print(s2)"
   ]
  },
  {
   "cell_type": "markdown",
   "metadata": {},
   "source": [
    "### 编程实践：从价格字典中提取价格大于200的子集"
   ]
  },
  {
   "cell_type": "code",
   "execution_count": 27,
   "metadata": {
    "tags": []
   },
   "outputs": [],
   "source": [
    "prices = {'ACME': 45.23, 'AAPL': 612.78, 'IBM': 205.55, 'HPQ': 37.20, 'FB': 10.75}"
   ]
  },
  {
   "cell_type": "code",
   "execution_count": 28,
   "metadata": {
    "collapsed": false,
    "jupyter": {
     "outputs_hidden": false
    }
   },
   "outputs": [
    {
     "data": {
      "text/plain": [
       "{'AAPL': 612.78, 'IBM': 205.55}"
      ]
     },
     "execution_count": 28,
     "metadata": {},
     "output_type": "execute_result"
    }
   ],
   "source": [
    "def get_prices(price_dict):\n",
    "    result_dict = {}\n",
    "    for key, val in price_dict.items():\n",
    "        if val > 200:\n",
    "            result_dict[key] = val\n",
    "    return result_dict\n",
    "\n",
    "get_prices(prices)"
   ]
  },
  {
   "cell_type": "markdown",
   "metadata": {},
   "source": [
    "## 三、控制语句"
   ]
  },
  {
   "cell_type": "code",
   "execution_count": 29,
   "metadata": {
    "collapsed": false,
    "jupyter": {
     "outputs_hidden": false
    }
   },
   "outputs": [
    {
     "name": "stdout",
     "output_type": "stream",
     "text": [
      "1 Donn\n",
      "2 Shirley\n",
      "3 Ben\n"
     ]
    }
   ],
   "source": [
    "names = ['Donn', 'Shirley', 'Ben']\n",
    "for i, name in enumerate(names): #enumerate内置函数还会返回索引值\n",
    "    print (\"%d %s\" % (i + 1, name))"
   ]
  },
  {
   "cell_type": "markdown",
   "metadata": {},
   "source": [
    "### 编程实践：改进猜价格游戏，允许猜测次数增加为2次，3次和无限次"
   ]
  },
  {
   "cell_type": "code",
   "execution_count": 30,
   "metadata": {
    "collapsed": false,
    "jupyter": {
     "outputs_hidden": false
    }
   },
   "outputs": [
    {
     "name": "stdin",
     "output_type": "stream",
     "text": [
      "Type in a price:  99.5\n"
     ]
    },
    {
     "name": "stdout",
     "output_type": "stream",
     "text": [
      "You are right.\n"
     ]
    }
   ],
   "source": [
    "def guess_price_twice(init_price):\n",
    "    n = input('Type in a price: ')\n",
    "    n = float(n)\n",
    "\n",
    "    if n < init_price:\n",
    "        print('It is too low.')\n",
    "    elif n > init_price:\n",
    "        print('It is too high.')\n",
    "    else:\n",
    "        print('You are right.')\n",
    "        return\n",
    "\n",
    "    n = input('Type in a number again: ')\n",
    "    n = float(n)\n",
    "    if n < init_price or n > init_price:\n",
    "        print('You are wrong.')\n",
    "    else:\n",
    "        print('You are right.')\n",
    "\n",
    "guess_price_twice(99.5)"
   ]
  },
  {
   "cell_type": "markdown",
   "metadata": {},
   "source": [
    "#### 给猜更多机会"
   ]
  },
  {
   "cell_type": "code",
   "execution_count": 31,
   "metadata": {
    "collapsed": false,
    "jupyter": {
     "outputs_hidden": false
    }
   },
   "outputs": [
    {
     "name": "stdin",
     "output_type": "stream",
     "text": [
      "Type in a price:  99.5\n"
     ]
    },
    {
     "name": "stdout",
     "output_type": "stream",
     "text": [
      "You are right.\n"
     ]
    }
   ],
   "source": [
    "def guess_price_more_times(init_price, count):\n",
    "    for i in range(count + 1):\n",
    "        if i == 0:\n",
    "            continue\n",
    "\n",
    "        c = count - i\n",
    "        n = input('Type in a price: ')\n",
    "        n = float(n)\n",
    "        if n < init_price:\n",
    "            print('It is too low. %d chance(s) left.' % c)\n",
    "        elif n > init_price:\n",
    "            print('It is too high. %d chance(s) left.' % c)\n",
    "        else:\n",
    "            print('You are right.')\n",
    "            break\n",
    "            \n",
    "        if c == 0:\n",
    "            print('Game over.')\n",
    "            break\n",
    "\n",
    "guess_price_more_times(99.5, 4)"
   ]
  },
  {
   "cell_type": "markdown",
   "metadata": {},
   "source": [
    "#### 给猜无数次机会"
   ]
  },
  {
   "cell_type": "code",
   "execution_count": 32,
   "metadata": {
    "collapsed": false,
    "jupyter": {
     "outputs_hidden": false
    }
   },
   "outputs": [
    {
     "name": "stdin",
     "output_type": "stream",
     "text": [
      "Type in a price:  99.1\n"
     ]
    },
    {
     "name": "stdout",
     "output_type": "stream",
     "text": [
      "It is too low.\n"
     ]
    },
    {
     "name": "stdin",
     "output_type": "stream",
     "text": [
      "Type in a price:  99.2\n"
     ]
    },
    {
     "name": "stdout",
     "output_type": "stream",
     "text": [
      "You are right.\n"
     ]
    }
   ],
   "source": [
    "def guess_price_until_right(init_price):\n",
    "    while True:\n",
    "        n = input('Type in a price: ')\n",
    "        n = float(n)\n",
    "\n",
    "        if n < init_price:\n",
    "            print('It is too low.')\n",
    "        elif n > init_price:\n",
    "            print('It is too high.')\n",
    "        else:\n",
    "            print('You are right.')\n",
    "            break\n",
    "            \n",
    "guess_price_until_right(99.2)"
   ]
  },
  {
   "cell_type": "code",
   "execution_count": null,
   "metadata": {},
   "outputs": [],
   "source": []
  }
 ],
 "metadata": {
  "kernelspec": {
   "display_name": "Python 3",
   "language": "python",
   "name": "python3"
  },
  "language_info": {
   "codemirror_mode": {
    "name": "ipython",
    "version": 3
   },
   "file_extension": ".py",
   "mimetype": "text/x-python",
   "name": "python",
   "nbconvert_exporter": "python",
   "pygments_lexer": "ipython3",
   "version": "3.7.0"
  }
 },
 "nbformat": 4,
 "nbformat_minor": 4
}
