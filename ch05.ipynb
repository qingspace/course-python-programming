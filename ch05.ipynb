{
 "cells": [
  {
   "cell_type": "markdown",
   "metadata": {},
   "source": [
    "# Python函数和类"
   ]
  },
  {
   "cell_type": "markdown",
   "metadata": {},
   "source": [
    "## 一、Python函数\n",
    "在计算机世界我们随处可以见的一种方法，那就是抽象。冯诺依曼提出了计算机的基本结构，这是对计算机硬件的一次抽象。而对0和1的抽象构建了整个计算机软件的基石。函数和类也是如此，通过函数和类抽象，我们得以不去关心具体的实现，直接在更高的层次上思考和解决问题。不再重复制造轮子，得以站在前人的肩膀上。\n",
    "\n",
    "![](images/hammer.jpg)"
   ]
  },
  {
   "cell_type": "markdown",
   "metadata": {},
   "source": [
    "### 1. 函数的定义和调用"
   ]
  },
  {
   "cell_type": "code",
   "execution_count": 1,
   "metadata": {
    "collapsed": false,
    "jupyter": {
     "outputs_hidden": false
    }
   },
   "outputs": [
    {
     "name": "stdout",
     "output_type": "stream",
     "text": [
      "Hello, Mike\n",
      "None\n",
      "[0, 1, 1, 2, 3, 5, 8, 13, 21, 34]\n"
     ]
    }
   ],
   "source": [
    "def get_hello(x):\n",
    "    print('Hello, ' + x)\n",
    "\n",
    "def get_fibs(num, fibs=[0, 1]):\n",
    "    while num > 2:\n",
    "        fibs.append(fibs[-1] + fibs[-2])\n",
    "        num -= 1\n",
    "    return fibs\n",
    "\n",
    "a = get_hello('Mike')\n",
    "print(a)\n",
    "f = get_fibs(10)\n",
    "print(f)"
   ]
  },
  {
   "cell_type": "markdown",
   "metadata": {},
   "source": [
    "### 2. 函数的参数\n",
    "关于参数传递\n",
    "- 数字、字符串、元组等不可变类型，按值传递\n",
    "- 列表、字典等可变类型，按引用传递"
   ]
  },
  {
   "cell_type": "code",
   "execution_count": 2,
   "metadata": {},
   "outputs": [
    {
     "name": "stdout",
     "output_type": "stream",
     "text": [
      "10\n"
     ]
    }
   ],
   "source": [
    "# 不可变类型，按值传递\n",
    "n = 10\n",
    "get_fibs(n)\n",
    "print(n)"
   ]
  },
  {
   "cell_type": "code",
   "execution_count": 3,
   "metadata": {},
   "outputs": [
    {
     "name": "stdout",
     "output_type": "stream",
     "text": [
      "10\n",
      "[0, 1, 1, 2, 3, 5, 8, 13, 21, 34, 55, 89]\n"
     ]
    }
   ],
   "source": [
    "# 可变类型，按引用传递\n",
    "n = 10\n",
    "f = [0, 1, 1, 2]\n",
    "re = get_fibs(n, fibs=f)\n",
    "print(n)\n",
    "print(f)"
   ]
  },
  {
   "cell_type": "markdown",
   "metadata": {},
   "source": [
    "关于位置参数，关键字参数，默认参数和不定长参数\n",
    "- \\*针对元组和列表，\\*\\*针对字典\n",
    "- 出现在函数定义中，为了打包，出现在函数调用中，为了解包"
   ]
  },
  {
   "cell_type": "code",
   "execution_count": 4,
   "metadata": {},
   "outputs": [
    {
     "name": "stdout",
     "output_type": "stream",
     "text": [
      "1 2 True\n",
      "1 2 True\n"
     ]
    }
   ],
   "source": [
    "def print_args(a, b, c): # 位置参数 \n",
    "    print(a, b, c)\n",
    "\n",
    "def print_keywords(a=1, b=2, c=3): # 关键字参数，设置参数默认值\n",
    "    print(a, b, c)\n",
    "    \n",
    "print_args(1, '2', True)\n",
    "print_keywords(a=1, b='2', c=True)"
   ]
  },
  {
   "cell_type": "code",
   "execution_count": 5,
   "metadata": {},
   "outputs": [
    {
     "name": "stdout",
     "output_type": "stream",
     "text": [
      "3 4 False\n",
      "3 4 False\n"
     ]
    }
   ],
   "source": [
    "args = (3, '4', False)\n",
    "keywords = {'a':3, 'b':'4', 'c':False}\n",
    "\n",
    "print_args(*args) # 自动解包\n",
    "print_keywords(**keywords) # 自动解包"
   ]
  },
  {
   "cell_type": "code",
   "execution_count": 74,
   "metadata": {},
   "outputs": [
    {
     "name": "stdout",
     "output_type": "stream",
     "text": [
      "1\n",
      "2\n",
      "True\n",
      "4\n",
      "1\n",
      "2\n",
      "True\n",
      "4\n"
     ]
    }
   ],
   "source": [
    "def print_unlimited_args(*args): # 不定长参数，接收位置参数，自动打包\n",
    "    for i in args:\n",
    "        print(i)\n",
    "\n",
    "def print_unlimited_keywords(**kwargs): # 不定长参数，接收关键字参数，自动打包\n",
    "    for key, val in kwargs.items():\n",
    "        print(val)\n",
    "\n",
    "print_unlimited_args(1, '2', True, 4)\n",
    "print_unlimited_keywords(a=1, b='2', c=True, d=4)"
   ]
  },
  {
   "cell_type": "code",
   "execution_count": 7,
   "metadata": {},
   "outputs": [
    {
     "name": "stdout",
     "output_type": "stream",
     "text": [
      "1 2 (True, 4, 5)\n",
      "1 2 {'c': True, 'd': 4, 'e': 5}\n"
     ]
    }
   ],
   "source": [
    "def print_mixed_args(a, b, *args):\n",
    "    print(a, b, args)\n",
    "\n",
    "def print_mixed_keywords(a, b, **kwargs):\n",
    "    print(a, b, kwargs)\n",
    "\n",
    "print_mixed_args(1, '2', True, 4, 5)\n",
    "print_mixed_keywords(1, '2', c=True, d=4, e=5)"
   ]
  },
  {
   "cell_type": "code",
   "execution_count": 8,
   "metadata": {},
   "outputs": [
    {
     "name": "stdout",
     "output_type": "stream",
     "text": [
      "(1, '2', 3) {'c': False, 'd': 4, 'e': 5}\n"
     ]
    }
   ],
   "source": [
    "def print_all(*args, **kwargs):\n",
    "    print(args, kwargs)\n",
    "print_all(1, '2', 3, c=False, d=4, e=5)"
   ]
  },
  {
   "cell_type": "code",
   "execution_count": 78,
   "metadata": {},
   "outputs": [
    {
     "name": "stdout",
     "output_type": "stream",
     "text": [
      "1 2 () True {'d': 4}\n"
     ]
    }
   ],
   "source": [
    "def print_mixed_all(a, b, *args, c=1, **kwargs):\n",
    "    print(a, b, args, c, kwargs)\n",
    "    \n",
    "print_mixed_all(1, '2', True, c=3, d=4)"
   ]
  },
  {
   "cell_type": "markdown",
   "metadata": {},
   "source": [
    "### 3. 匿名函数，lambda表达式"
   ]
  },
  {
   "cell_type": "code",
   "execution_count": 10,
   "metadata": {},
   "outputs": [
    {
     "data": {
      "text/plain": [
       "30"
      ]
     },
     "execution_count": 10,
     "metadata": {},
     "output_type": "execute_result"
    }
   ],
   "source": [
    "def add(x,y):\n",
    "    return x + y\n",
    "\n",
    "add(10, 20)"
   ]
  },
  {
   "cell_type": "code",
   "execution_count": 11,
   "metadata": {
    "collapsed": false,
    "jupyter": {
     "outputs_hidden": false
    }
   },
   "outputs": [
    {
     "data": {
      "text/plain": [
       "30"
      ]
     },
     "execution_count": 11,
     "metadata": {},
     "output_type": "execute_result"
    }
   ],
   "source": [
    "lambda_add = lambda x, y: x + y\n",
    "lambda_add(10, 20)"
   ]
  },
  {
   "cell_type": "markdown",
   "metadata": {},
   "source": [
    "### 4. 函数作为参数和返回值"
   ]
  },
  {
   "cell_type": "code",
   "execution_count": 12,
   "metadata": {},
   "outputs": [
    {
     "data": {
      "text/plain": [
       "25"
      ]
     },
     "execution_count": 12,
     "metadata": {},
     "output_type": "execute_result"
    }
   ],
   "source": [
    "def operate(func, x, y):\n",
    "    return func(x, y)\n",
    "\n",
    "operate(add, 20, 5)"
   ]
  },
  {
   "cell_type": "code",
   "execution_count": 13,
   "metadata": {},
   "outputs": [
    {
     "data": {
      "text/plain": [
       "15"
      ]
     },
     "execution_count": 13,
     "metadata": {},
     "output_type": "execute_result"
    }
   ],
   "source": [
    "operate(lambda x, y: x - y, 20, 5)"
   ]
  },
  {
   "cell_type": "code",
   "execution_count": 14,
   "metadata": {},
   "outputs": [],
   "source": [
    "def get_operater():\n",
    "    def multiply(x, y):\n",
    "        return x * y\n",
    "    return multiply"
   ]
  },
  {
   "cell_type": "code",
   "execution_count": 15,
   "metadata": {},
   "outputs": [
    {
     "data": {
      "text/plain": [
       "100"
      ]
     },
     "execution_count": 15,
     "metadata": {},
     "output_type": "execute_result"
    }
   ],
   "source": [
    "operate(get_operater(), 20, 5)"
   ]
  },
  {
   "cell_type": "markdown",
   "metadata": {},
   "source": [
    "### 5. 递归函数"
   ]
  },
  {
   "cell_type": "code",
   "execution_count": 16,
   "metadata": {},
   "outputs": [
    {
     "name": "stdout",
     "output_type": "stream",
     "text": [
      "1024\n"
     ]
    }
   ],
   "source": [
    "def get_pow(x, n):\n",
    "    if n == 0:\n",
    "        return 1\n",
    "    else:\n",
    "        return x * get_pow(x, n-1)\n",
    "\n",
    "print(get_pow(2, 10))"
   ]
  },
  {
   "cell_type": "code",
   "execution_count": 17,
   "metadata": {},
   "outputs": [
    {
     "name": "stdout",
     "output_type": "stream",
     "text": [
      "3628800\n"
     ]
    }
   ],
   "source": [
    "def get_fact(n):\n",
    "    if n == 1:\n",
    "        return 1\n",
    "    else:\n",
    "        return n * get_fact(n-1)\n",
    "\n",
    "print(get_fact(10))"
   ]
  },
  {
   "cell_type": "code",
   "execution_count": 18,
   "metadata": {
    "collapsed": false,
    "jupyter": {
     "outputs_hidden": false
    }
   },
   "outputs": [
    {
     "name": "stdout",
     "output_type": "stream",
     "text": [
      "3\n"
     ]
    }
   ],
   "source": [
    "def get_fib(c):\n",
    "    if c == 0 or c == 1:\n",
    "        return c    \n",
    "    else:\n",
    "        return get_fib(c - 1) + get_fib(c - 2)\n",
    "\n",
    "print(get_fib(4))"
   ]
  },
  {
   "cell_type": "markdown",
   "metadata": {},
   "source": [
    "### 6. 生成器函数\n",
    "生成器和生成器函数是不同的，生成器函数的执行结果是生成器。"
   ]
  },
  {
   "cell_type": "code",
   "execution_count": 79,
   "metadata": {},
   "outputs": [
    {
     "data": {
      "text/plain": [
       "[1, 2, 3]"
      ]
     },
     "execution_count": 79,
     "metadata": {},
     "output_type": "execute_result"
    }
   ],
   "source": [
    "def gen_number(): # 生成器函数\n",
    "    yield 1\n",
    "    yield 2\n",
    "    yield 3\n",
    "\n",
    "list(gen_number())"
   ]
  },
  {
   "cell_type": "code",
   "execution_count": 20,
   "metadata": {},
   "outputs": [
    {
     "data": {
      "text/plain": [
       "[0, 1, 1, 2, 3, 5, 8, 13, 21, 34, 55, 89]"
      ]
     },
     "execution_count": 20,
     "metadata": {},
     "output_type": "execute_result"
    }
   ],
   "source": [
    "def get_fibs(max):\n",
    "    a = 0\n",
    "    yield a\n",
    "    b = 1\n",
    "    while True: \n",
    "        a, b = b, a + b\n",
    "        if a > max:\n",
    "            break\n",
    "        yield a\n",
    "\n",
    "list(get_fibs(100))"
   ]
  },
  {
   "cell_type": "markdown",
   "metadata": {},
   "source": [
    "生成器函数中不用return的原因是，生成器函数的返回值是一个生成器，而生成器生成的值才是yield的返回值。下面对比与return的不同，return表示离开函数体，但是yeild没有，只是挂起。"
   ]
  },
  {
   "cell_type": "code",
   "execution_count": 21,
   "metadata": {},
   "outputs": [
    {
     "data": {
      "text/plain": [
       "0"
      ]
     },
     "execution_count": 21,
     "metadata": {},
     "output_type": "execute_result"
    }
   ],
   "source": [
    "def get_numbers():\n",
    "    try:\n",
    "        return 1\n",
    "        return 2\n",
    "    finally:\n",
    "        return 0\n",
    "\n",
    "get_numbers()"
   ]
  },
  {
   "cell_type": "code",
   "execution_count": 22,
   "metadata": {},
   "outputs": [],
   "source": [
    "def gen_numbers(): \n",
    "    try:\n",
    "        yield 1\n",
    "        yield 2\n",
    "        yield 3\n",
    "    finally:\n",
    "        yield 0"
   ]
  },
  {
   "cell_type": "code",
   "execution_count": 23,
   "metadata": {},
   "outputs": [
    {
     "data": {
      "text/plain": [
       "<generator object gen_numbers at 0x7fad7b875ed0>"
      ]
     },
     "execution_count": 23,
     "metadata": {},
     "output_type": "execute_result"
    }
   ],
   "source": [
    "gen_numbers()"
   ]
  },
  {
   "cell_type": "code",
   "execution_count": 24,
   "metadata": {},
   "outputs": [
    {
     "data": {
      "text/plain": [
       "[1, 2, 3, 0]"
      ]
     },
     "execution_count": 24,
     "metadata": {},
     "output_type": "execute_result"
    }
   ],
   "source": [
    "list(gen_numbers())"
   ]
  },
  {
   "cell_type": "code",
   "execution_count": 25,
   "metadata": {},
   "outputs": [
    {
     "name": "stdout",
     "output_type": "stream",
     "text": [
      "True True\n"
     ]
    }
   ],
   "source": [
    "from collections.abc import Iterable, Iterator\n",
    "g = gen_numbers()\n",
    "print(isinstance(g, Iterable), isinstance(g, Iterator))"
   ]
  },
  {
   "cell_type": "markdown",
   "metadata": {},
   "source": [
    "### 7. 装饰器函数和面向切面编程\n",
    "装饰器是修改其他函数的功能的函数。装饰器的使用场景包括，日志，缓存，事务，验证，授权等。\n",
    "\n",
    "面向切面编程（Aspect Oriented Program，AOP）是面向对象编程的有力补充。面向对象将不同的功能封装到不同的类的方法中，降低代码的复杂度，做到职责分离。但是职责分离，有可能带来重复的功能代码（比如，类中每个方法可能都要有写日志或权限判断的功能代码），否则就要很有预见的封装到父类中。\n",
    "面向切面编程允许在运行时，动态切入到类的方法，在方法之前或之后执行一些功能代码。\n",
    "\n",
    "![](images/gun.jpg)\n",
    "![](images/gun2.jpg)"
   ]
  },
  {
   "cell_type": "code",
   "execution_count": 26,
   "metadata": {},
   "outputs": [
    {
     "name": "stdout",
     "output_type": "stream",
     "text": [
      "I am going to shoot\n"
     ]
    }
   ],
   "source": [
    "def fire(msg='Bang'):\n",
    "    print(msg)\n",
    "\n",
    "fire('I am going to shoot')"
   ]
  },
  {
   "cell_type": "markdown",
   "metadata": {},
   "source": [
    "函数可以赋值"
   ]
  },
  {
   "cell_type": "code",
   "execution_count": 27,
   "metadata": {},
   "outputs": [
    {
     "name": "stdout",
     "output_type": "stream",
     "text": [
      "Bang\n"
     ]
    }
   ],
   "source": [
    "shoot = fire\n",
    "shoot()"
   ]
  },
  {
   "cell_type": "markdown",
   "metadata": {},
   "source": [
    "函数可以作为参数和返回值"
   ]
  },
  {
   "cell_type": "code",
   "execution_count": 28,
   "metadata": {},
   "outputs": [
    {
     "name": "stdout",
     "output_type": "stream",
     "text": [
      "Decorate the gun with silencer\n",
      "Bang\n",
      "Remove silencer\n"
     ]
    }
   ],
   "source": [
    "def fire(msg='Bang'):\n",
    "    print(msg)\n",
    "\n",
    "def fire_decorator(func):\n",
    "    print('Decorate the gun with silencer')\n",
    "    func()\n",
    "    print('Remove silencer')\n",
    "\n",
    "fire_decorator(fire)"
   ]
  },
  {
   "cell_type": "code",
   "execution_count": 29,
   "metadata": {},
   "outputs": [
    {
     "name": "stdout",
     "output_type": "stream",
     "text": [
      "I am going to shoot\n"
     ]
    }
   ],
   "source": [
    "def fire_wrap(msg='Bang'):\n",
    "    def fire(msg=msg):\n",
    "        print(msg)\n",
    "    return fire\n",
    "\n",
    "fire_wrap()('I am going to shoot')"
   ]
  },
  {
   "cell_type": "markdown",
   "metadata": {},
   "source": [
    "利用以上特性，构建一个装饰器，修改函数的功能"
   ]
  },
  {
   "cell_type": "code",
   "execution_count": 30,
   "metadata": {},
   "outputs": [
    {
     "name": "stdout",
     "output_type": "stream",
     "text": [
      "I am going to shoot\n",
      "--------------------\n",
      "Decorate the gun with silencer\n",
      "I am going to shoot\n",
      "Remove silencer\n",
      "fire_wrap\n"
     ]
    }
   ],
   "source": [
    "def fire(msg='Bang'):\n",
    "    print(msg)\n",
    "\n",
    "def fire_decorator(func): #decorator\n",
    "    def fire_wrap(msg='Bang'):\n",
    "        print('Decorate the gun with silencer')\n",
    "        func(msg=msg)\n",
    "        print('Remove silencer')    \n",
    "    return fire_wrap\n",
    "\n",
    "fire('I am going to shoot')\n",
    "print('-' * 20)\n",
    "fire = fire_decorator(fire)\n",
    "fire('I am going to shoot')\n",
    "print(fire.__name__)"
   ]
  },
  {
   "cell_type": "markdown",
   "metadata": {},
   "source": [
    "以上装饰器调用可以简化为"
   ]
  },
  {
   "cell_type": "code",
   "execution_count": 31,
   "metadata": {},
   "outputs": [
    {
     "name": "stdout",
     "output_type": "stream",
     "text": [
      "Decorate the gun with silencer\n",
      "I am going to shoot\n",
      "Remove silencer\n",
      "fire_wrap\n"
     ]
    }
   ],
   "source": [
    "@fire_decorator\n",
    "def fire(msg='Bang'):\n",
    "    print(msg)\n",
    "\n",
    "fire('I am going to shoot')\n",
    "print(fire.__name__)"
   ]
  },
  {
   "cell_type": "markdown",
   "metadata": {},
   "source": [
    "本质上此fire已经不是彼fire函数了。解决方案是使用@wraps装饰器，复制fire的函数名称、注释文档、参数列表"
   ]
  },
  {
   "cell_type": "code",
   "execution_count": 32,
   "metadata": {},
   "outputs": [
    {
     "name": "stdout",
     "output_type": "stream",
     "text": [
      "Decorate the gun with silencer\n",
      "I am going to shoot\n",
      "Remove silencer\n",
      "fire\n"
     ]
    }
   ],
   "source": [
    "from functools import wraps\n",
    "\n",
    "def fire_decorator(func):\n",
    "    @wraps(func)\n",
    "    def fire_wrap(msg='Bang'):\n",
    "        print('Decorate the gun with silencer')\n",
    "        func(msg=msg)\n",
    "        print('Remove silencer')    \n",
    "    return fire_wrap\n",
    "\n",
    "@fire_decorator\n",
    "def fire(msg='Bang'):\n",
    "    print(msg)\n",
    "\n",
    "fire('I am going to shoot')\n",
    "print(fire.__name__)"
   ]
  },
  {
   "cell_type": "markdown",
   "metadata": {},
   "source": [
    "被装饰函数fire函数带参数和返回值的处理"
   ]
  },
  {
   "cell_type": "code",
   "execution_count": 33,
   "metadata": {},
   "outputs": [
    {
     "name": "stdout",
     "output_type": "stream",
     "text": [
      "Decorate the gun with silencer\n",
      "I am going to shoot\n",
      "Remove silencer\n",
      "Done\n",
      "fire\n"
     ]
    }
   ],
   "source": [
    "from functools import wraps\n",
    "\n",
    "def fire_decorator(func):\n",
    "    @wraps(func)\n",
    "    def fire_wrap(msg='Bang'):\n",
    "        print('Decorate the gun with silencer')\n",
    "        ret = func(msg=msg)\n",
    "        print('Remove silencer')  \n",
    "        return ret\n",
    "    return fire_wrap\n",
    "\n",
    "@fire_decorator\n",
    "def fire(msg='Bang'):\n",
    "    print(msg)\n",
    "    return 'Done'\n",
    "\n",
    "print(fire('I am going to shoot'))\n",
    "print(fire.__name__)"
   ]
  },
  {
   "cell_type": "markdown",
   "metadata": {},
   "source": [
    "被装饰函数fire有不定数量的参数的处理"
   ]
  },
  {
   "cell_type": "code",
   "execution_count": 34,
   "metadata": {},
   "outputs": [
    {
     "name": "stdout",
     "output_type": "stream",
     "text": [
      "Decorate the gun with silencer\n",
      "I am going to shoot again\n",
      "Remove silencer\n",
      "Done\n",
      "--------------------\n",
      "Decorate the gun with silencer\n",
      "Hi, I am going to shoot again\n",
      "Remove silencer\n",
      "Done\n"
     ]
    }
   ],
   "source": [
    "from functools import wraps\n",
    "\n",
    "def fire_decorator(func):\n",
    "    @wraps(func)\n",
    "    def fire_wrap(*args, **kwargs):\n",
    "        print('Decorate the gun with silencer')\n",
    "        ret = func(*args, **kwargs)\n",
    "        print('Remove silencer')  \n",
    "        return ret\n",
    "    return fire_wrap\n",
    "\n",
    "@fire_decorator\n",
    "def fire(msg='Bang'):\n",
    "    print(msg)\n",
    "    return 'Done'\n",
    "\n",
    "@fire_decorator\n",
    "def fire_again(hi, msg='Bang'):\n",
    "    print(hi, msg)\n",
    "    return 'Done'\n",
    "\n",
    "print(fire('I am going to shoot again'))\n",
    "print('-' * 20)\n",
    "print(fire_again('Hi,', 'I am going to shoot again'))"
   ]
  },
  {
   "cell_type": "markdown",
   "metadata": {},
   "source": [
    "装饰器fire_decorator带参数的处理"
   ]
  },
  {
   "cell_type": "code",
   "execution_count": 35,
   "metadata": {},
   "outputs": [
    {
     "name": "stdout",
     "output_type": "stream",
     "text": [
      "Decorate the gun with nothing\n",
      "I am going to shoot\n",
      "Remove nothing\n",
      "Done\n"
     ]
    }
   ],
   "source": [
    "from functools import wraps\n",
    "\n",
    "def fire_decorator_wrap(silencer):\n",
    "    def fire_decorator(func):\n",
    "        @wraps(func)\n",
    "        def fire_wrap(*args, **kwargs):\n",
    "            print('Decorate the gun with', silencer)\n",
    "            ret = func(*args, **kwargs)\n",
    "            print('Remove', silencer)  \n",
    "            return ret\n",
    "        return fire_wrap\n",
    "    return fire_decorator\n",
    "\n",
    "@fire_decorator_wrap('nothing')\n",
    "def fire(msg='Bang'):\n",
    "    print(msg)\n",
    "    return 'Done'\n",
    "\n",
    "print(fire('I am going to shoot'))"
   ]
  },
  {
   "cell_type": "code",
   "execution_count": null,
   "metadata": {},
   "outputs": [],
   "source": []
  },
  {
   "cell_type": "markdown",
   "metadata": {},
   "source": [
    "## 二、Python类\n",
    "类是一种数据结构和功能的集合，类是现实世界的抽象。对象和实例是类的具体化。\n",
    "可以类比一下，类是蓝图或者模型，用来产生真实的物体(实例)。因此使用关键字class就有类别，种属这样的意义。\n",
    "类是面向对象编程的基础，通过类定义实现面向对象的特性：封装、继承和多态。\n",
    "\n",
    "### 1. 实现面向对象的特性：封装、继承和多态"
   ]
  },
  {
   "cell_type": "code",
   "execution_count": 1,
   "metadata": {},
   "outputs": [
    {
     "name": "stdout",
     "output_type": "stream",
     "text": [
      "Lucky is here\n",
      "Lucky says hello\n",
      "Lucky runs to park\n"
     ]
    }
   ],
   "source": [
    "class Plant(object):\n",
    "    def __init__(self, name):\n",
    "        self.name = name\n",
    "        print(self.name, \"is here\")\n",
    "\n",
    "    def make_oxygen(self):\n",
    "        print(self.name,'makes oxygen')\n",
    "\n",
    "\n",
    "class Animal(object):\n",
    "    def __init__(self, name):\n",
    "        self.name = name\n",
    "        print(self.name, 'is here')\n",
    "\n",
    "    def say(self, something):\n",
    "        print(self.name , 'says', something)\n",
    "\n",
    "\n",
    "class Dog(Animal): # 继承\n",
    "    def __init__(self, name):\n",
    "        self.name = name     \n",
    "        super(Dog, self).__init__(name)\n",
    "\n",
    "    def run(self, somewhere):\n",
    "        print(self.name, 'runs to', somewhere)\n",
    "\n",
    "\n",
    "class PlantFish(Plant, Animal):   # 多重继承 \n",
    "    def __init__(self, name):\n",
    "        self.name = name\n",
    "        super(PlantFish, self).__init__(name)\n",
    "    \n",
    "    def think(self, something):\n",
    "        print(self.name, 'thinks', something)\n",
    "\n",
    "dog = Dog(\"Lucky\")\n",
    "dog.say('hello')\n",
    "dog.run('park')"
   ]
  },
  {
   "cell_type": "code",
   "execution_count": 37,
   "metadata": {},
   "outputs": [
    {
     "name": "stdout",
     "output_type": "stream",
     "text": [
      "Super is here\n",
      "Super says hi\n",
      "Super makes oxygen\n",
      "Super thinks the world\n"
     ]
    }
   ],
   "source": [
    "plant_fish = PlantFish(\"Super\")\n",
    "plant_fish.say('hi')\n",
    "plant_fish.make_oxygen()\n",
    "plant_fish.think('the world')"
   ]
  },
  {
   "cell_type": "markdown",
   "metadata": {},
   "source": [
    "面向对象的多态，实现的编程思想中的对扩展开发，对修改封闭的基本原则，新增一种Animal子类不需要修改make_sound方法"
   ]
  },
  {
   "cell_type": "code",
   "execution_count": 38,
   "metadata": {},
   "outputs": [
    {
     "name": "stdout",
     "output_type": "stream",
     "text": [
      "Lucky is here\n",
      "Lucky says ok\n",
      "Super is here\n",
      "Super says ok\n"
     ]
    }
   ],
   "source": [
    "def make_sound(obj): # 多态\n",
    "    obj.say('ok')\n",
    "\n",
    "make_sound(Dog('Lucky'))\n",
    "make_sound(PlantFish('Super'))"
   ]
  },
  {
   "cell_type": "markdown",
   "metadata": {},
   "source": [
    "Python的甚至不需要严格的类继承体系，也能实现多态的效果。这称作“鸭子类型”，一个对象只要“看起来像鸭子，走起路来像鸭子”，那它就可以被看做是鸭子。"
   ]
  },
  {
   "cell_type": "code",
   "execution_count": 39,
   "metadata": {},
   "outputs": [
    {
     "name": "stdout",
     "output_type": "stream",
     "text": [
      "Mike is here\n",
      "Mike says ok\n"
     ]
    }
   ],
   "source": [
    "class Person(object):\n",
    "    def __init__(self, name):\n",
    "        self.name = name\n",
    "        print(self.name, 'is here')\n",
    "        \n",
    "    def say(self, something):\n",
    "        print(self.name , 'says', something)\n",
    "        \n",
    "person = Person('Mike')\n",
    "make_sound(person)"
   ]
  },
  {
   "cell_type": "markdown",
   "metadata": {},
   "source": [
    "### 2. 迭代器\n",
    "- 迭代器就是实现了\\_\\_next\\_\\_方法的对象，\\_\\_next\\_\\_方法返回下一个值\n",
    "- 可迭代对象是实现\\_\\_iter\\_\\_的对象，\\_\\_iter\\_\\_方法会返回一个迭代器，元组，列表，字典和集合都是可迭代对象\n",
    "- 可迭代对象和迭代器可以是同一个对象，也可以不是\n",
    "\n",
    "![](images/iter.png)"
   ]
  },
  {
   "cell_type": "code",
   "execution_count": 40,
   "metadata": {},
   "outputs": [],
   "source": [
    "class Fib:\n",
    "    \n",
    "    def __init__(self, max):\n",
    "        self.a = 0\n",
    "        self.b = 1\n",
    "        self.max = max\n",
    "\n",
    "    def __iter__(self):\n",
    "        return self\n",
    "\n",
    "    def __next__(self):        \n",
    "        t = self.a\n",
    "        if t > self.max:\n",
    "            raise StopIteration        \n",
    "        self.a, self.b = self.b, self.a + self.b\n",
    "        return t"
   ]
  },
  {
   "cell_type": "markdown",
   "metadata": {},
   "source": [
    "- fib是Fib类的对象，Fib类实现了\\_\\_iter\\_\\_，也实现了\\_\\_next\\_\\_，因而fib既是一个可迭代对象，也是一个迭代器\n",
    "- iter()传入一个可迭代对象，则调用可迭代对象中的\\_\\_iter\\_\\_方法，\\_\\_iter\\_\\_方法返回一个迭代器\n",
    "- next()传入一个迭代器，则调用迭代器的\\_\\_next\\_\\_方法，返回下一个值\n",
    "- next()抛出StopIteration Exception，表示迭代已经穷尽"
   ]
  },
  {
   "cell_type": "code",
   "execution_count": 41,
   "metadata": {},
   "outputs": [
    {
     "name": "stdout",
     "output_type": "stream",
     "text": [
      "True True\n",
      "0 1 1 2 3\n"
     ]
    },
    {
     "name": "stderr",
     "output_type": "stream",
     "text": [
      "/Users/qingspace/anaconda3/lib/python3.7/site-packages/ipykernel_launcher.py:1: DeprecationWarning: Using or importing the ABCs from 'collections' instead of from 'collections.abc' is deprecated, and in 3.8 it will stop working\n",
      "  \"\"\"Entry point for launching an IPython kernel.\n"
     ]
    }
   ],
   "source": [
    "from collections import Iterable, Iterator\n",
    "fib = Fib(100)\n",
    "fib_iterator = iter(fib)\n",
    "print(isinstance(fib, Iterable), isinstance(fib, Iterator))\n",
    "print(next(fib_iterator), next(fib_iterator), next(fib_iterator), next(fib_iterator), next(fib_iterator))"
   ]
  },
  {
   "cell_type": "code",
   "execution_count": 42,
   "metadata": {},
   "outputs": [
    {
     "name": "stdout",
     "output_type": "stream",
     "text": [
      "5 8 13 21 34 55 89 "
     ]
    }
   ],
   "source": [
    "while True:\n",
    "    try:\n",
    "        print(next(fib_iterator), end=' ')\n",
    "    except StopIteration: \n",
    "        break"
   ]
  },
  {
   "cell_type": "code",
   "execution_count": 43,
   "metadata": {},
   "outputs": [],
   "source": [
    "for i in fib:\n",
    "    print(i, end=' ') # 已经没有值了"
   ]
  },
  {
   "cell_type": "markdown",
   "metadata": {},
   "source": [
    "可迭代对象同时将自己作为迭代器，在状态上可能会出现问题。迭代器只会向前迭代，这时内部变量a和b已经被赋新值，如上将继续迭代，而不是重新开始。要得到预期结果，需要重新初始化状态。"
   ]
  },
  {
   "cell_type": "code",
   "execution_count": 44,
   "metadata": {},
   "outputs": [],
   "source": [
    "class Fib2:\n",
    "    \n",
    "    def __init__(self, max):       \n",
    "        self.max = max\n",
    "\n",
    "    def __iter__(self):\n",
    "        self.a = 0\n",
    "        self.b = 1\n",
    "        return self\n",
    "\n",
    "    def __next__(self):\n",
    "        t = self.a\n",
    "        if t > self.max:\n",
    "            raise StopIteration\n",
    "        self.a, self.b = self.b, self.a + self.b\n",
    "        return t"
   ]
  },
  {
   "cell_type": "code",
   "execution_count": 45,
   "metadata": {},
   "outputs": [
    {
     "name": "stdout",
     "output_type": "stream",
     "text": [
      "0 1 1 2 3 5 8 13 21 34 55 89 0 1 1 2 3 5 8 13 21 34 55 89 "
     ]
    }
   ],
   "source": [
    "fib2 = Fib2(100)\n",
    "for i in fib2:    \n",
    "    print(i, end=' ')\n",
    "\n",
    "for i in fib2:    \n",
    "    print(i, end=' ')"
   ]
  },
  {
   "cell_type": "markdown",
   "metadata": {},
   "source": [
    "或者编写一个迭代器类，可迭代对象每次都返回一个迭代器类的新实例。"
   ]
  },
  {
   "cell_type": "code",
   "execution_count": 46,
   "metadata": {},
   "outputs": [],
   "source": [
    "class Fib3:    \n",
    "\n",
    "    def __init__(self, max):\n",
    "        self.max = max\n",
    "\n",
    "    def __iter__(self):\n",
    "        return Fib3_Iterator(self.max)\n",
    "\n",
    "class Fib3_Iterator:\n",
    "\n",
    "    def __init__(self, max):\n",
    "        self.a = 0\n",
    "        self.b = 1 \n",
    "        self.max = max\n",
    "        \n",
    "    def __iter__(self): # 非必要，除非也是可迭代对象\n",
    "        return self\n",
    "    \n",
    "    def __next__(self):\n",
    "        t = self.a\n",
    "        if t > self.max:\n",
    "            raise StopIteration\n",
    "        self.a, self.b = self.b, self.a + self.b\n",
    "        return t"
   ]
  },
  {
   "cell_type": "code",
   "execution_count": 47,
   "metadata": {},
   "outputs": [
    {
     "name": "stdout",
     "output_type": "stream",
     "text": [
      "True False\n",
      "0 1 1 2 3\n"
     ]
    }
   ],
   "source": [
    "fib3 = Fib3(100)\n",
    "fib3_iterator = iter(fib3)\n",
    "print(isinstance(fib3, Iterable), isinstance(fib3, Iterator))\n",
    "print(next(fib3_iterator), next(fib3_iterator), next(fib3_iterator), next(fib3_iterator), next(fib3_iterator))"
   ]
  },
  {
   "cell_type": "code",
   "execution_count": 48,
   "metadata": {},
   "outputs": [
    {
     "name": "stdout",
     "output_type": "stream",
     "text": [
      "0 1 1 2 3 5 8 13 21 34 55 89 0 1 1 2 3 5 8 13 21 34 55 89 "
     ]
    }
   ],
   "source": [
    "for i in fib3:\n",
    "    print(i, end=' ')\n",
    "for i in fib3:\n",
    "    print(i, end=' ')"
   ]
  },
  {
   "cell_type": "markdown",
   "metadata": {},
   "source": [
    "无论可迭代对象和迭代器是否是同一个对象，在使用时都要注意迭代器状态的变化。请对比如下两个例子："
   ]
  },
  {
   "cell_type": "code",
   "execution_count": 49,
   "metadata": {},
   "outputs": [
    {
     "data": {
      "text/plain": [
       "[<__main__.Fib3_Iterator at 0x7fad7b91a780>,\n",
       " <__main__.Fib3_Iterator at 0x7fad7b91a780>]"
      ]
     },
     "execution_count": 49,
     "metadata": {},
     "output_type": "execute_result"
    }
   ],
   "source": [
    "fib3 = Fib3(100)\n",
    "fib3_iterator = iter(fib3)\n",
    "fib3_iterator_list = [fib3_iterator] * 2\n",
    "fib3_iterator_list"
   ]
  },
  {
   "cell_type": "code",
   "execution_count": 50,
   "metadata": {},
   "outputs": [
    {
     "data": {
      "text/plain": [
       "[(0, 1), (1, 2), (3, 5), (8, 13), (21, 34), (55, 89)]"
      ]
     },
     "execution_count": 50,
     "metadata": {},
     "output_type": "execute_result"
    }
   ],
   "source": [
    "list(zip(fib3_iterator, fib3_iterator))"
   ]
  },
  {
   "cell_type": "code",
   "execution_count": null,
   "metadata": {},
   "outputs": [],
   "source": [
    "list(zip(iter(fib3),iter(fib3)))"
   ]
  },
  {
   "cell_type": "markdown",
   "metadata": {},
   "source": [
    "Python内置列表对象迭代器"
   ]
  },
  {
   "cell_type": "code",
   "execution_count": null,
   "metadata": {},
   "outputs": [],
   "source": [
    "li = []\n",
    "print(isinstance(li, Iterable), isinstance(li, Iterator))\n",
    "li_iterator = iter(li)\n",
    "print(isinstance(li_iterator, Iterable), isinstance(li_iterator, Iterator))"
   ]
  },
  {
   "cell_type": "code",
   "execution_count": 53,
   "metadata": {},
   "outputs": [
    {
     "data": {
      "text/plain": [
       "<dict_keyiterator at 0x7fad7b92aea8>"
      ]
     },
     "execution_count": 53,
     "metadata": {},
     "output_type": "execute_result"
    }
   ],
   "source": [
    "di = {}\n",
    "iter(di)"
   ]
  },
  {
   "cell_type": "markdown",
   "metadata": {},
   "source": [
    "### 3. 生成器\n",
    "生成器也是迭代器\n",
    "\n",
    "![](images/gen.png)"
   ]
  },
  {
   "cell_type": "markdown",
   "metadata": {},
   "source": [
    "由生成器函数返回生成器"
   ]
  },
  {
   "cell_type": "code",
   "execution_count": 54,
   "metadata": {},
   "outputs": [
    {
     "data": {
      "text/plain": [
       "[0, 1, 1, 2, 3, 5, 8, 13, 21, 34, 55, 89]"
      ]
     },
     "execution_count": 54,
     "metadata": {},
     "output_type": "execute_result"
    }
   ],
   "source": [
    "def get_fibs(max):\n",
    "    a = 0\n",
    "    yield a\n",
    "    b = 1\n",
    "    while True: \n",
    "        a, b = b, a + b\n",
    "        if a > max:\n",
    "            break\n",
    "        yield a\n",
    "\n",
    "list(get_fibs(100))"
   ]
  },
  {
   "cell_type": "markdown",
   "metadata": {},
   "source": [
    "由推导式返回生成器"
   ]
  },
  {
   "cell_type": "code",
   "execution_count": 55,
   "metadata": {},
   "outputs": [
    {
     "name": "stdout",
     "output_type": "stream",
     "text": [
      "True True\n"
     ]
    },
    {
     "data": {
      "text/plain": [
       "<generator object <genexpr> at 0x7fad7b875b10>"
      ]
     },
     "execution_count": 55,
     "metadata": {},
     "output_type": "execute_result"
    }
   ],
   "source": [
    "g = (x * x for x in range(10))\n",
    "print(isinstance(g, Iterable), isinstance(g, Iterator))\n",
    "g"
   ]
  },
  {
   "cell_type": "code",
   "execution_count": 56,
   "metadata": {},
   "outputs": [
    {
     "name": "stdout",
     "output_type": "stream",
     "text": [
      "0 1 4 9\n"
     ]
    }
   ],
   "source": [
    "print(next(g),next(g),next(g),next(g))"
   ]
  },
  {
   "cell_type": "markdown",
   "metadata": {},
   "source": [
    "### 4. 装饰器\n",
    "封装成为装饰器类，使用魔法方法\\_\\_call\\_\\_"
   ]
  },
  {
   "cell_type": "code",
   "execution_count": 57,
   "metadata": {},
   "outputs": [
    {
     "name": "stdout",
     "output_type": "stream",
     "text": [
      "Decorate the gun with silencer\n",
      "Decorate the gun with nothing\n",
      "I am going to shoot\n",
      "Remove nothing\n",
      "Remove silencer\n",
      "Done\n"
     ]
    }
   ],
   "source": [
    "from functools import wraps\n",
    "\n",
    "class FireDecorator:\n",
    "    def __init__(self, silencer):\n",
    "        self.silencer = silencer\n",
    "    \n",
    "    def __call__(self, func): # decorator\n",
    "        @wraps(func)\n",
    "        def fire_wrap(*args, **kwargs):\n",
    "            print('Decorate the gun with', self.silencer)\n",
    "            ret = func(*args, **kwargs)\n",
    "            print('Remove', self.silencer)  \n",
    "            return ret\n",
    "        return fire_wrap\n",
    "\n",
    "@FireDecorator('silencer')\n",
    "@FireDecorator('nothing')\n",
    "def fire(msg='Bang'):\n",
    "    print(msg)\n",
    "    return 'Done'\n",
    "\n",
    "print(fire('I am going to shoot'))"
   ]
  },
  {
   "cell_type": "markdown",
   "metadata": {},
   "source": [
    "## 三、模块和包\n",
    "模块间相互独立相互引用是任何一种编程语言的基础能力。对于“模块”这个词在各种编程语言中或许是不同的，但我们可以简单认为一个程序文件是一个模块，文件里包含了类或者方法的定义。每种编程语言对于模块和包管理都有一定的约定，不了解这些约定，那会给学习这种语言的带来障碍。下面梳理一下Python的这些约定。"
   ]
  },
  {
   "cell_type": "markdown",
   "metadata": {},
   "source": [
    "### 1. Python搜索路径\n",
    "运行Python应用或引用Python模块，Python解释器要有一个查找的过程。可以通过设置一个环境变量PYTHONPATH为Python增加一个搜索路径，以方便查找到相关Python模块（不同的操作系统环境变量的设置稍有不同，默认以下都是Windows环境），这与众多应用程序需要设置一个系统环境变量的道理是一样的。在命令行中可以通过以下命令设置："
   ]
  },
  {
   "cell_type": "raw",
   "metadata": {},
   "source": [
    "set PYTHONPATH=path/to/your/modules/"
   ]
  },
  {
   "cell_type": "markdown",
   "metadata": {},
   "source": [
    "进入Python环境后可以，通过Python的sys.path属性获得当前搜索路径的配置，可以看到之前我们设置的路径已经在当前搜索路径中了。也可以通过sys模块的append方法临时在Python环境中增加搜索路径。"
   ]
  },
  {
   "cell_type": "code",
   "execution_count": 58,
   "metadata": {
    "collapsed": false,
    "jupyter": {
     "outputs_hidden": false
    }
   },
   "outputs": [
    {
     "data": {
      "text/plain": [
       "['',\n",
       " '/Users/qingspace/Work/Project/Python/course-python-programming',\n",
       " '/Users/qingspace/anaconda3/lib/python37.zip',\n",
       " '/Users/qingspace/anaconda3/lib/python3.7',\n",
       " '/Users/qingspace/anaconda3/lib/python3.7/lib-dynload',\n",
       " '/Users/qingspace/anaconda3/lib/python3.7/site-packages',\n",
       " '/Users/qingspace/anaconda3/lib/python3.7/site-packages/aeosa',\n",
       " '/Users/qingspace/anaconda3/lib/python3.7/site-packages/IPython/extensions',\n",
       " '/Users/qingspace/.ipython']"
      ]
     },
     "execution_count": 58,
     "metadata": {},
     "output_type": "execute_result"
    }
   ],
   "source": [
    "import sys\n",
    "sys.path"
   ]
  },
  {
   "cell_type": "code",
   "execution_count": 59,
   "metadata": {
    "collapsed": false,
    "jupyter": {
     "outputs_hidden": false
    }
   },
   "outputs": [
    {
     "data": {
      "text/plain": [
       "['',\n",
       " '/Users/qingspace/Work/Project/Python/course-python-programming',\n",
       " '/Users/qingspace/anaconda3/lib/python37.zip',\n",
       " '/Users/qingspace/anaconda3/lib/python3.7',\n",
       " '/Users/qingspace/anaconda3/lib/python3.7/lib-dynload',\n",
       " '/Users/qingspace/anaconda3/lib/python3.7/site-packages',\n",
       " '/Users/qingspace/anaconda3/lib/python3.7/site-packages/aeosa',\n",
       " '/Users/qingspace/anaconda3/lib/python3.7/site-packages/IPython/extensions',\n",
       " '/Users/qingspace/.ipython',\n",
       " '/Users/qingspace/Work/Project/Python/course-python-programming']"
      ]
     },
     "execution_count": 59,
     "metadata": {},
     "output_type": "execute_result"
    }
   ],
   "source": [
    "import os\n",
    "os.getcwd() \n",
    "sys.path.append(os.getcwd())\n",
    "sys.path"
   ]
  },
  {
   "cell_type": "markdown",
   "metadata": {},
   "source": [
    "### 2. Python中的模块和包\n",
    "每个.py文件都是可以认为是一个Python模块，.py文件中可以包含类、方法、变量和常量（Python还没有严格意义上的常量，只是约定大写的变量作为常量），文件内也可以直接写所有的逻辑语句并在加载时从上之下直接执行，这与其他解释型语言是类似的。例如我们创建一个文本文件ch01.py文件即创建了一个简单的Python模块"
   ]
  },
  {
   "cell_type": "markdown",
   "metadata": {},
   "source": [
    "那么接下来我们就可以在Python环境中执行ch01.py。我们可以直接像执行一个批处理文件那样执行ch01.py。本质上任何一个Python应用的入口模块都是这样被执行的（像C#和Java中的main函数），但是引用一个模块，就要建立运行它的上下文环境。我们之前设置了一个搜索路径，以便Python解释器找到ch01.py模块，然后import ch01模块，即可访问其中的方法或变量。"
   ]
  },
  {
   "cell_type": "code",
   "execution_count": 60,
   "metadata": {
    "collapsed": false,
    "jupyter": {
     "outputs_hidden": false
    }
   },
   "outputs": [
    {
     "data": {
      "text/plain": [
       "1.6759600000000003"
      ]
     },
     "execution_count": 60,
     "metadata": {},
     "output_type": "execute_result"
    }
   ],
   "source": [
    "import ch01\n",
    "ch01.get_stock_cost('600318', 76.18, 100, ch01.Direction.BUY)"
   ]
  },
  {
   "cell_type": "markdown",
   "metadata": {},
   "source": [
    "Python需要去某些固定的路径下去查找Python模块，上面我们设置在当前工作路径中查找。但是这些路径下也是有目录层次的，特别是引用第三方包时，我们也需要知道一定的层次关系。实际上，Python通过目录和文件构建包结构，并且包是层层嵌套的，和目录层层嵌套是一样的，这样就构成了包内的访问路径（或者命名空间，也可以说Python包的命名空间与其目录和文件结构是对应了，似乎缺少了一些灵活，但也更简单）。"
   ]
  },
  {
   "cell_type": "markdown",
   "metadata": {},
   "source": [
    "按照Python的约定，需要在子文件夹中创建名为\\_\\_init\\_\\_.py的空文本文件，以标识子文件夹是一个包。倘若子文件夹内还有子文件夹作为包，也必须包含\\_\\_init\\_\\_.py文件。这样就层层标识了访问的路径。"
   ]
  },
  {
   "cell_type": "markdown",
   "metadata": {},
   "source": [
    "或者使用from关键字直接导入模块内的属性或方法："
   ]
  },
  {
   "cell_type": "code",
   "execution_count": 61,
   "metadata": {
    "collapsed": false,
    "jupyter": {
     "outputs_hidden": false
    }
   },
   "outputs": [
    {
     "data": {
      "text/plain": [
       "1.6759600000000003"
      ]
     },
     "execution_count": 61,
     "metadata": {},
     "output_type": "execute_result"
    }
   ],
   "source": [
    "from ch01 import get_stock_cost, Direction\n",
    "get_stock_cost('600318', 76.18, 100, Direction.BUY)"
   ]
  },
  {
   "cell_type": "markdown",
   "metadata": {},
   "source": [
    "### 3. Python模块间引用\n",
    "简答来说，只要Python模块在其执行环境配置的搜索路径中，并且其所在位置是包结构的一部分，那么我们就可以引用该模块。上文已经提供了模块引用的基本示例。\n",
    "#### from、import和as\n",
    "import语句可以写在文档中的任何位置，甚至if语句中，以便更好的控制模块引用。还可以通过as语句，使用另一个变量名进行引用，以避免变量名冲突。"
   ]
  },
  {
   "cell_type": "code",
   "execution_count": 62,
   "metadata": {
    "collapsed": false,
    "jupyter": {
     "outputs_hidden": false
    }
   },
   "outputs": [
    {
     "data": {
      "text/plain": [
       "1.6759600000000003"
      ]
     },
     "execution_count": 62,
     "metadata": {},
     "output_type": "execute_result"
    }
   ],
   "source": [
    "import ch01 as util\n",
    "util.get_stock_cost('600318', 76.18, 100, util.Direction.BUY)"
   ]
  },
  {
   "cell_type": "markdown",
   "metadata": {},
   "source": [
    "#### \\*通配符"
   ]
  },
  {
   "cell_type": "raw",
   "metadata": {},
   "source": [
    "from ch01 import *"
   ]
  },
  {
   "cell_type": "markdown",
   "metadata": {},
   "source": [
    "但这样有可能造成变量名冲突，覆盖已经引入的变量值。如果想用\\*通配符，又不想引用模块中的所有变量，可以在模块中用变量\\_\\_all\\_\\_进行限制，可以修改ch01.py，限制只引用get_stock_cost和Direction两个变量名。"
   ]
  },
  {
   "cell_type": "raw",
   "metadata": {},
   "source": [
    "# ch01.py\n",
    "__all__ = ['get_stock_cost', 'Direction']\n",
    "..."
   ]
  },
  {
   "cell_type": "markdown",
   "metadata": {},
   "source": [
    "#### 引用包\n",
    "上面都是引用具体的ch01模块，但是这对于一个相对独立且拥有众多的模块的包来说就显得麻烦了，可以直接import ch01，但是Python不像C#引用dll或者java引用jar那样，引用后包内的模块就可以通过命名空间直接访问了（在访问控制许可下）。默认情况下Python还是需要导入包内的具体模块的，但有个变通的办法，就是使用包中\\_\\_init\\_\\_.py文件，提前准备包内需要被引用的各个模块中的变量，类似于向外部引用者暴露包内接口。\\_\\_init\\_\\_.py文件代码是在包或者包内模块被引用时执行的，因而可以在其中做一些初始化的工作。可以新增\\_\\_init\\_\\_.py文件及其内容。"
   ]
  },
  {
   "cell_type": "raw",
   "metadata": {},
   "source": [
    "# __init__.py\n",
    "print \"__init__\"\n",
    "from ch01 import get_stock_cost, Direction"
   ]
  },
  {
   "cell_type": "markdown",
   "metadata": {},
   "source": [
    "在Python环境中引用ch01模块，并自动执行\\_\\_init\\_\\_的代码加载相关变量，通过dir方法可以查看模块中的变量，其中两个下划线开始的变量每个模块都有，这些变量具有特殊的作用，是Python预定义的。"
   ]
  },
  {
   "cell_type": "code",
   "execution_count": 63,
   "metadata": {
    "collapsed": false,
    "jupyter": {
     "outputs_hidden": false
    }
   },
   "outputs": [
    {
     "data": {
      "text/plain": [
       "['DEFAULT_COMMISSION_MIN',\n",
       " 'DEFAULT_COMMISSION_RATE',\n",
       " 'DEFAULT_EXCHANGE_FEE_RATE',\n",
       " 'DEFAULT_OTHER_FEE_RATE',\n",
       " 'DEFAULT_SH_TRANSFER_FEE_RATE',\n",
       " 'DEFAULT_STOCK_TAX_RATE',\n",
       " 'DEFAULT_SZ_TRANSFER_FEE_RATE',\n",
       " 'Direction',\n",
       " 'Exchange',\n",
       " '__builtins__',\n",
       " '__cached__',\n",
       " '__doc__',\n",
       " '__file__',\n",
       " '__loader__',\n",
       " '__name__',\n",
       " '__package__',\n",
       " '__spec__',\n",
       " 'get_exchange',\n",
       " 'get_stock_cost']"
      ]
     },
     "execution_count": 63,
     "metadata": {},
     "output_type": "execute_result"
    }
   ],
   "source": [
    "import ch01\n",
    "dir(ch01)"
   ]
  },
  {
   "cell_type": "markdown",
   "metadata": {},
   "source": [
    "## 四、代码阅读：利用面向对象多态性质和工厂设计模式实现数据格式转换"
   ]
  },
  {
   "cell_type": "code",
   "execution_count": 3,
   "metadata": {},
   "outputs": [],
   "source": [
    "import json\n",
    "import xml.etree.ElementTree as etree\n",
    "\n",
    "class JSONConnector(object):\n",
    "    def __init__(self, filepath):\n",
    "        self.data = {}\n",
    "        with open(filepath, mode='r', encoding='utf-8') as f:\n",
    "            self.data = json.load(f)\n",
    "\n",
    "    @property\n",
    "    def parsed_data(self):\n",
    "        return self.data\n",
    "    \n",
    "\n",
    "class XMLConnector(object):\n",
    "    def __init__(self, filepath):\n",
    "        self.tree = etree.parse(filepath)\n",
    "\n",
    "    @property\n",
    "    def parsed_data(self):\n",
    "        return [{c.tag: c.text for c in list(quotation)} for quotation in self.tree.getroot()]"
   ]
  },
  {
   "cell_type": "code",
   "execution_count": 4,
   "metadata": {},
   "outputs": [],
   "source": [
    "def connection_factory(filepath):\n",
    "    if filepath.endswith('json'):\n",
    "        connector = JSONConnector(filepath)\n",
    "    elif filepath.endswith('xml'):\n",
    "        connector = XMLConnector(filepath)\n",
    "    else:\n",
    "        raise ValueError('Cannot connect to {}'.format(filepath))\n",
    "    return connector"
   ]
  },
  {
   "cell_type": "code",
   "execution_count": 5,
   "metadata": {},
   "outputs": [
    {
     "data": {
      "text/plain": [
       "[{'stock_code': 600864,\n",
       "  'trade_date': 20210104,\n",
       "  'open_price': 8.59,\n",
       "  'close_price': 8.34},\n",
       " {'stock_code': 600584,\n",
       "  'trade_date': 20210104,\n",
       "  'open_price': 42.5,\n",
       "  'close_price': 42.53},\n",
       " {'stock_code': 600864,\n",
       "  'trade_date': 20210105,\n",
       "  'open_price': 8.4,\n",
       "  'close_price': 8.51},\n",
       " {'stock_code': 600584,\n",
       "  'trade_date': 20210105,\n",
       "  'open_price': 42.25,\n",
       "  'close_price': 42.29}]"
      ]
     },
     "execution_count": 5,
     "metadata": {},
     "output_type": "execute_result"
    }
   ],
   "source": [
    "connector = connection_factory('data/ch05/quotations.json')\n",
    "connector.parsed_data"
   ]
  },
  {
   "cell_type": "code",
   "execution_count": 6,
   "metadata": {},
   "outputs": [
    {
     "data": {
      "text/plain": [
       "[{'stock_code': '600864',\n",
       "  'trade_date': '20210104',\n",
       "  'open_price': '8.59',\n",
       "  'close_price': '8.34'},\n",
       " {'stock_code': '600584',\n",
       "  'trade_date': '20210104',\n",
       "  'open_price': '42.5',\n",
       "  'close_price': '42.53'},\n",
       " {'stock_code': '600864',\n",
       "  'trade_date': '20210105',\n",
       "  'open_price': '8.4',\n",
       "  'close_price': '8.51'},\n",
       " {'stock_code': '600584',\n",
       "  'trade_date': '20210105',\n",
       "  'open_price': '42.25',\n",
       "  'close_price': '42.29'}]"
      ]
     },
     "execution_count": 6,
     "metadata": {},
     "output_type": "execute_result"
    }
   ],
   "source": [
    "connector = connection_factory('data/ch05/quotations.xml')\n",
    "connector.parsed_data"
   ]
  },
  {
   "cell_type": "markdown",
   "metadata": {},
   "source": [
    "### 编程实践：封装股票计算相关逻辑"
   ]
  },
  {
   "cell_type": "code",
   "execution_count": 1,
   "metadata": {},
   "outputs": [],
   "source": [
    "import sys\n",
    "import os\n",
    "import pandas as pd\n",
    "import logging\n",
    "\n",
    "sys.path.append(os.getcwd())\n",
    "from ch01 import Direction, Exchange\n",
    "\n",
    "logging.basicConfig(level=logging.DEBUG, format='%(asctime)s %(thread)d %(levelname)s %(module)s - %(message)s')\n",
    "logger = logging.getLogger(__name__)\n",
    "\n",
    "\n",
    "class OrderProcessor:\n",
    "    \"\"\"\n",
    "    委托数据处理\n",
    "    \"\"\"\n",
    "\n",
    "    DEFAULT_STOCK_TAX_RATE = 0.001  # 印花税率\n",
    "    DEFAULT_SH_TRANSFER_FEE_RATE = 0.00002  # 上证过户费率\n",
    "    DEFAULT_SZ_TRANSFER_FEE_RATE = 0  # 深证过户费率\n",
    "    DEFAULT_COMMISSION_RATE = 0.0002  # 佣金费率\n",
    "    DEFAULT_COMMISSION_MIN = 0  # 佣金下限\n",
    "    DEFAULT_EXCHANGE_FEE_RATE = 0  # 交易所规费费率\n",
    "    DEFAULT_OTHER_FEE_RATE = 0  # 其他费用费率\n",
    "\n",
    "    def __init__(self):\n",
    "        self.orders = []\n",
    "        self.quotations = []\n",
    "\n",
    "    def get_orders(self):\n",
    "        if not self.orders:\n",
    "            self.orders = pd.read_csv('data/ch02/orders.csv').to_dict(orient='records')\n",
    "            logger.debug('Load orders ok')\n",
    "        return self.orders\n",
    "\n",
    "    def get_quotations(self):\n",
    "        \"\"\"\n",
    "        获取全部行情\n",
    "        :return list: 行情列表\n",
    "        \"\"\"\n",
    "        if not self.quotations:\n",
    "            self.quotations = pd.read_csv('data/ch02/quotations.csv').to_dict(orient='records')\n",
    "            logger.debug('Load quotations ok')\n",
    "        return self.quotations\n",
    "\n",
    "    @staticmethod\n",
    "    def get_exchange(stock_code):\n",
    "        \"\"\"\n",
    "        判断股票交易市场\n",
    "        :param str stock_code: 股票代码\n",
    "        :return Exchange: 交易市场\n",
    "        \"\"\"\n",
    "        if not stock_code:\n",
    "            return None\n",
    "        stock_code = stock_code.strip()\n",
    "        if stock_code.startswith('60') or stock_code.startswith('900') or stock_code.startswith('688') or stock_code.startswith('689'):\n",
    "            return Exchange.SSE\n",
    "        elif stock_code.startswith('00') or stock_code.startswith('200') or stock_code.startswith('300'):\n",
    "            return Exchange.SZSE\n",
    "        elif stock_code.startswith('50') or stock_code.startswith('51') or stock_code.startswith('52'):\n",
    "            return Exchange.SSE\n",
    "        elif stock_code.startswith('18') or stock_code.startswith('16') or stock_code.startswith('15'):\n",
    "            return Exchange.SZSE\n",
    "        if stock_code.startswith('10') or stock_code.startswith('11'):\n",
    "            return Exchange.SSE\n",
    "        elif stock_code.startswith('12'):\n",
    "            return Exchange.SZSE\n",
    "        return None\n",
    "\n",
    "    def get_stock_cost(self, stock_code, price, volume, direction,\n",
    "                       tax_rate=DEFAULT_STOCK_TAX_RATE,\n",
    "                       sz_transfer_fee_rate=DEFAULT_SZ_TRANSFER_FEE_RATE,\n",
    "                       sh_transfer_fee_rate=DEFAULT_SH_TRANSFER_FEE_RATE,\n",
    "                       commission_rate=DEFAULT_COMMISSION_RATE,\n",
    "                       commission_min=DEFAULT_COMMISSION_MIN,\n",
    "                       exchange_fee_rate=DEFAULT_EXCHANGE_FEE_RATE,\n",
    "                       other_fee_rate=DEFAULT_OTHER_FEE_RATE):\n",
    "        \"\"\"\n",
    "        计算股票交易成本\n",
    "        :param str stock_code: 股票代码\n",
    "        :param float price: 成交价格\n",
    "        :param int volume: 成交数量\n",
    "        :param str direction: Direction，买入卖出\n",
    "        :param float tax_rate: 印花税率\n",
    "        :param float sh_transfer_fee_rate: 上证过户费费率\n",
    "        :param float sz_transfer_fee_rate: 深圳过户费费率\n",
    "        :param float commission_rate: 佣金费率\n",
    "        :param float commission_min: 佣金下限\n",
    "        :param float exchange_fee_rate: 交易所规费费率\n",
    "        :param float other_fee_rate: 其他费用费率\n",
    "        :return float: 交易成本\n",
    "        \"\"\"\n",
    "        tax, fee, commission, exchange_fee, other_fee = 0, 0, 0, 0, 0\n",
    "        amount = price * volume\n",
    "        exchange = self.get_exchange(stock_code)\n",
    "        if direction == Direction.SELL:\n",
    "            tax = amount * tax_rate\n",
    "        if exchange == Exchange.SSE:\n",
    "            fee = amount * sh_transfer_fee_rate\n",
    "        elif exchange == Exchange.SZSE:\n",
    "            fee = amount * sz_transfer_fee_rate\n",
    "        if commission_rate:\n",
    "            commission = amount * commission_rate\n",
    "        if 0 < commission < commission_min:\n",
    "            commission = commission_min\n",
    "        if exchange_fee_rate:\n",
    "            exchange_fee = amount * exchange_fee_rate\n",
    "        if other_fee_rate:\n",
    "            other_fee = amount * other_fee_rate\n",
    "        return tax + fee + commission + exchange_fee + other_fee\n",
    "\n",
    "    def get_close_price(self, stock_code, date):\n",
    "        \"\"\"\n",
    "        获取每日收盘价\n",
    "        :param str stock_code: 股票代码\n",
    "        :param int date: 日期\n",
    "        :return float: 收盘价\n",
    "        \"\"\"\n",
    "        for quotation in self.get_quotations():\n",
    "            if quotation['stock_code'] == stock_code and quotation['trade_date'] == date:\n",
    "                return quotation['close_price']\n",
    "        return 0\n",
    "\n",
    "    def get_net_profit(self, order, date):\n",
    "        \"\"\"\n",
    "        计算每个委托收益\n",
    "        :param dict order: 委托\n",
    "        :param int date: 日期\n",
    "        :return float: 委托收益\n",
    "        \"\"\"\n",
    "        net_profit = 0\n",
    "        if order and order['deal_volume'] > 0:\n",
    "            fee = self.get_stock_cost(str(order['stock_code']), order['deal_price'], order['deal_volume'], order['direction'])\n",
    "            direction = (-1 if order['direction'] == Direction.SELL else 1)\n",
    "            net_profit = direction * (self.get_close_price(order['stock_code'], date) - order['deal_price']) * order['deal_volume'] - fee\n",
    "        logger.debug('Order %d %s net profit: %f' % (date, order['order_code'], net_profit))\n",
    "        return net_profit\n",
    "\n",
    "    def get_account_accumulated_net_profit(self, date):\n",
    "        \"\"\"\n",
    "        计算账户累计收益\n",
    "        :param int date: 截止日期\n",
    "        :return float: 账户累计收益\n",
    "        \"\"\"\n",
    "        accumulated_net_profit = 0\n",
    "        for order in self.get_orders():\n",
    "            if order['order_date'] <= date:\n",
    "                accumulated_net_profit = accumulated_net_profit + self.get_net_profit(order, date)\n",
    "        logger.debug('Account %d accumulated net profit: %f' % (date, accumulated_net_profit))\n",
    "        return accumulated_net_profit\n",
    "\n",
    "    def run(self, init_cash, dates):\n",
    "        \"\"\"\n",
    "        计算账户所有委托累计收益，收益，累计收益率，收益率\n",
    "        :return dict: 累计收益，收益，累计收益率，收益率\n",
    "        \"\"\"\n",
    "        if not dates:\n",
    "            dates = []\n",
    "        results = {}\n",
    "        yesterday_net_profit = 0\n",
    "        for date in dates:\n",
    "            net_profit = self.get_account_accumulated_net_profit(date)\n",
    "            today_net_profit = net_profit - yesterday_net_profit\n",
    "            ratio = net_profit / init_cash\n",
    "            today_ratio = today_net_profit / (init_cash + yesterday_net_profit)\n",
    "            results[date] = (net_profit, today_net_profit, ratio, today_ratio)\n",
    "            yesterday_net_profit = net_profit\n",
    "        return results "
   ]
  },
  {
   "cell_type": "code",
   "execution_count": 2,
   "metadata": {},
   "outputs": [
    {
     "name": "stderr",
     "output_type": "stream",
     "text": [
      "2021-05-14 00:37:15,021 4724854272 DEBUG <ipython-input-1-00e619e674df> - Load orders ok\n",
      "2021-05-14 00:37:15,022 4724854272 DEBUG <ipython-input-1-00e619e674df> - Order 20210104 O0937039865921 net profit: 0.000000\n",
      "2021-05-14 00:37:15,023 4724854272 DEBUG <ipython-input-1-00e619e674df> - Order 20210104 O0942153039345 net profit: 0.000000\n",
      "2021-05-14 00:37:15,028 4724854272 DEBUG <ipython-input-1-00e619e674df> - Load quotations ok\n",
      "2021-05-14 00:37:15,029 4724854272 DEBUG <ipython-input-1-00e619e674df> - Order 20210104 O1029598366060 net profit: -1118.590000\n",
      "2021-05-14 00:37:15,030 4724854272 DEBUG <ipython-input-1-00e619e674df> - Order 20210104 O1027568675234 net profit: -1018.568000\n",
      "2021-05-14 00:37:15,031 4724854272 DEBUG <ipython-input-1-00e619e674df> - Order 20210104 O1431197423078 net profit: -376.340040\n",
      "2021-05-14 00:37:15,032 4724854272 DEBUG <ipython-input-1-00e619e674df> - Order 20210104 O1026195398836 net profit: 0.000000\n",
      "2021-05-14 00:37:15,033 4724854272 DEBUG <ipython-input-1-00e619e674df> - Order 20210104 O1030278527491 net profit: 909.466160\n",
      "2021-05-14 00:37:15,034 4724854272 DEBUG <ipython-input-1-00e619e674df> - Order 20210104 O1433169769783 net profit: 496.373760\n",
      "2021-05-14 00:37:15,035 4724854272 DEBUG <ipython-input-1-00e619e674df> - Order 20210104 O1432038833757 net profit: 426.214440\n",
      "2021-05-14 00:37:15,036 4724854272 DEBUG <ipython-input-1-00e619e674df> - Order 20210104 O1031179774473 net profit: 370.966460\n",
      "2021-05-14 00:37:15,037 4724854272 DEBUG <ipython-input-1-00e619e674df> - Order 20210104 O1435074619743 net profit: -537.794640\n",
      "2021-05-14 00:37:15,038 4724854272 DEBUG <ipython-input-1-00e619e674df> - Order 20210104 O1027323046209 net profit: 1196.666000\n",
      "2021-05-14 00:37:15,039 4724854272 DEBUG <ipython-input-1-00e619e674df> - Order 20210104 O1031336026568 net profit: -106.307460\n",
      "2021-05-14 00:37:15,040 4724854272 DEBUG <ipython-input-1-00e619e674df> - Account 20210104 accumulated net profit: 242.086680\n",
      "2021-05-14 00:37:15,041 4724854272 DEBUG <ipython-input-1-00e619e674df> - Order 20210105 O0937039865921 net profit: 0.000000\n",
      "2021-05-14 00:37:15,042 4724854272 DEBUG <ipython-input-1-00e619e674df> - Order 20210105 O0942153039345 net profit: 0.000000\n",
      "2021-05-14 00:37:15,043 4724854272 DEBUG <ipython-input-1-00e619e674df> - Order 20210105 O1029598366060 net profit: 581.410000\n",
      "2021-05-14 00:37:15,044 4724854272 DEBUG <ipython-input-1-00e619e674df> - Order 20210105 O1027568675234 net profit: 681.432000\n",
      "2021-05-14 00:37:15,045 4724854272 DEBUG <ipython-input-1-00e619e674df> - Order 20210105 O1431197423078 net profit: -1024.340040\n",
      "2021-05-14 00:37:15,046 4724854272 DEBUG <ipython-input-1-00e619e674df> - Order 20210105 O1026195398836 net profit: 0.000000\n",
      "2021-05-14 00:37:15,047 4724854272 DEBUG <ipython-input-1-00e619e674df> - Order 20210105 O1030278527491 net profit: -382.533840\n",
      "2021-05-14 00:37:15,048 4724854272 DEBUG <ipython-input-1-00e619e674df> - Order 20210105 O1433169769783 net profit: 1360.373760\n",
      "2021-05-14 00:37:15,049 4724854272 DEBUG <ipython-input-1-00e619e674df> - Order 20210105 O1432038833757 net profit: 1074.214440\n",
      "2021-05-14 00:37:15,051 4724854272 DEBUG <ipython-input-1-00e619e674df> - Order 20210105 O1031179774473 net profit: -156.033540\n",
      "2021-05-14 00:37:15,051 4724854272 DEBUG <ipython-input-1-00e619e674df> - Order 20210105 O1435074619743 net profit: -1401.794640\n",
      "2021-05-14 00:37:15,052 4724854272 DEBUG <ipython-input-1-00e619e674df> - Order 20210105 O1027323046209 net profit: -503.334000\n",
      "2021-05-14 00:37:15,053 4724854272 DEBUG <ipython-input-1-00e619e674df> - Order 20210105 O1031336026568 net profit: 12.692540\n",
      "2021-05-14 00:37:15,054 4724854272 DEBUG <ipython-input-1-00e619e674df> - Order 20210105 O1319529476474 net profit: 2888.188000\n",
      "2021-05-14 00:37:15,056 4724854272 DEBUG <ipython-input-1-00e619e674df> - Order 20210105 O0939550705679 net profit: -2219.206000\n",
      "2021-05-14 00:37:15,057 4724854272 DEBUG <ipython-input-1-00e619e674df> - Order 20210105 O0934351479899 net profit: 6388.248000\n",
      "2021-05-14 00:37:15,057 4724854272 DEBUG <ipython-input-1-00e619e674df> - Order 20210105 O0933038821742 net profit: 0.000000\n",
      "2021-05-14 00:37:15,059 4724854272 DEBUG <ipython-input-1-00e619e674df> - Order 20210105 O1322316349565 net profit: 3038.005000\n",
      "2021-05-14 00:37:15,060 4724854272 DEBUG <ipython-input-1-00e619e674df> - Order 20210105 O0935124614433 net profit: 3991.176000\n",
      "2021-05-14 00:37:15,061 4724854272 DEBUG <ipython-input-1-00e619e674df> - Order 20210105 O1325127282602 net profit: -2897.146000\n",
      "2021-05-14 00:37:15,062 4724854272 DEBUG <ipython-input-1-00e619e674df> - Order 20210105 O1318286492621 net profit: -3047.179000\n",
      "2021-05-14 00:37:15,064 4724854272 DEBUG <ipython-input-1-00e619e674df> - Order 20210105 O0934042577295 net profit: -1919.140000\n",
      "2021-05-14 00:37:15,065 4724854272 DEBUG <ipython-input-1-00e619e674df> - Order 20210105 O0939352884859 net profit: 2393.128000\n",
      "2021-05-14 00:37:15,066 4724854272 DEBUG <ipython-input-1-00e619e674df> - Order 20210105 O0935049616871 net profit: -3519.492000\n",
      "2021-05-14 00:37:15,067 4724854272 DEBUG <ipython-input-1-00e619e674df> - Order 20210105 O0937350076332 net profit: 0.000000\n",
      "2021-05-14 00:37:15,068 4724854272 DEBUG <ipython-input-1-00e619e674df> - Account 20210105 accumulated net profit: 5338.668680\n",
      "2021-05-14 00:37:15,070 4724854272 INFO <ipython-input-2-dac767d3b04c> - {20210104: (242.08668000002916, 242.08668000002916, 0.0004841733600000583, 0.0004841733600000583), 20210105: (5338.668680000059, 5096.582000000029, 0.010677337360000119, 0.010188231129901438)}\n"
     ]
    }
   ],
   "source": [
    "processor = OrderProcessor()\n",
    "ret = processor.run(500000, [20210104, 20210105])\n",
    "logger.info(ret)"
   ]
  },
  {
   "cell_type": "code",
   "execution_count": null,
   "metadata": {},
   "outputs": [],
   "source": []
  }
 ],
 "metadata": {
  "kernelspec": {
   "display_name": "Python 3",
   "language": "python",
   "name": "python3"
  },
  "language_info": {
   "codemirror_mode": {
    "name": "ipython",
    "version": 3
   },
   "file_extension": ".py",
   "mimetype": "text/x-python",
   "name": "python",
   "nbconvert_exporter": "python",
   "pygments_lexer": "ipython3",
   "version": "3.7.0"
  }
 },
 "nbformat": 4,
 "nbformat_minor": 4
}
