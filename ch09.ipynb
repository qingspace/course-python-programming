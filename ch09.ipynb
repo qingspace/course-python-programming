{
 "cells": [
  {
   "cell_type": "markdown",
   "metadata": {},
   "source": [
    "# Python访问接口\n",
    "\n",
    "接口指应用程序接口（API, Application Programming Interface）\n",
    "- 广义上，一般是由操作系统或程序库提供给应用程序调用的代码。其主要目的是让应用程序开发人员得以调用一组功能，而无须考虑其底层的代码实现或理解其内部工作机制。包括远程过程调用（RPC）、数据库查询（SQL）、文件传输和数据传输等。\n",
    "- 狭义上接口指开发上为实现系统各部分相互调用进行的设计和编程。良好的接口设计可以降低系统各部分的相互依赖，实现高内聚、低耦合目标，提高系统的可维护性和扩展性。\n",
    "\n",
    "可以说对Python标准库和第三方包的调用，都是对接口的调用，标准库和许多的第三方包都是基于Python接口编程的优秀范例。"
   ]
  },
  {
   "cell_type": "markdown",
   "metadata": {},
   "source": [
    "## 一、Python接口实现和调用"
   ]
  },
  {
   "cell_type": "markdown",
   "metadata": {},
   "source": [
    "### 1. Python接口定义\n",
    "定义一个股票行情处理接口。接口的定义主要包含对数据和方法的约定。\n",
    "- 数据约定，输入输出相关的数据类型和约定\n",
    "- 方法约定，方法名，参数名，参数和返回值类型，参数顺序等约定"
   ]
  },
  {
   "cell_type": "code",
   "execution_count": 1,
   "metadata": {},
   "outputs": [],
   "source": [
    "from abc import abstractmethod, ABCMeta\n",
    "from typing import List, Optional, NoReturn\n",
    "import logging\n",
    "import easyquotation\n",
    "import tushare\n",
    "\n",
    "logger = logging.getLogger(__name__)\n",
    "\n",
    "class NoQuotationException(Exception):\n",
    "    \"\"\"\n",
    "    无法获取行情异常\n",
    "    \"\"\"\n",
    "    pass\n",
    "\n",
    "\n",
    "class SourceType:\n",
    "    \"\"\"\n",
    "    行情源枚举\n",
    "    \"\"\"\n",
    "    EasyQuotation = 1\n",
    "    TuShare = 2\n",
    "    \n",
    "\n",
    "class Quotation:\n",
    "    \"\"\"\n",
    "    行情数据\n",
    "    \"\"\"\n",
    "    def __init__(self):\n",
    "        self.stock_code: str = ''  # 股票代码\n",
    "        self.stock_name: str = ''  # 股票名称\n",
    "        self.trade_date: int = 0  # 交易日期 20190501\n",
    "        self.trade_time: str = ''  # 交易时间 2019-05-01 10:00:00\n",
    "        self.price: float = 0.0  # 当前价\n",
    "        self.open: float = 0.0  # 今日开盘价\n",
    "        self.pre_close: float = 0.0  # 昨日收盘价\n",
    "\n",
    "    def __str__(self):\n",
    "        return '%s %s %f' % (self.trade_time, self.stock_code, self.open)\n",
    "\n",
    "\n",
    "class StockQuotationInterface(metaclass=ABCMeta):\n",
    "    \"\"\"\n",
    "    行情接口\n",
    "    \"\"\"\n",
    "    @abstractmethod\n",
    "    def init(self, source=SourceType.EasyQuotation) -> NoReturn:\n",
    "        \"\"\"\n",
    "        初始化\n",
    "        \"\"\"\n",
    "        pass\n",
    "\n",
    "    @abstractmethod\n",
    "    def get_realtime_quotations(self, stock_codes: List[str]) -> List[Quotation]:\n",
    "        \"\"\"\n",
    "        获取实时行情\n",
    "        :param stock_codes: 股票代码\n",
    "        :return: 行情结果\n",
    "        \"\"\"\n",
    "        pass"
   ]
  },
  {
   "cell_type": "markdown",
   "metadata": {},
   "source": [
    "### 2. Python接口实现\n",
    "分别基于EasyQuotation和TuShare实现股票行情处理接口"
   ]
  },
  {
   "cell_type": "code",
   "execution_count": 2,
   "metadata": {},
   "outputs": [],
   "source": [
    "class EasyQuotationHelper(StockQuotationInterface):\n",
    "    \"\"\"\n",
    "    利用EasyQuotation库实现接口\n",
    "    \"\"\"\n",
    "\n",
    "    def __init__(self, provider='sina', prefix=False):\n",
    "        \"\"\"\n",
    "        初始化\n",
    "        :param provider: 数据源\n",
    "        :param prefix: 是否显示股票前缀\n",
    "        \"\"\"\n",
    "        self.provider = provider\n",
    "        self.prefix = prefix\n",
    "\n",
    "    def init(self, source=SourceType.EasyQuotation) -> NoReturn:\n",
    "        pass\n",
    "\n",
    "    def get_realtime_quotations(self, stock_codes: List[str]) -> List[Quotation]:\n",
    "        if not stock_codes:\n",
    "            return []\n",
    "        handler = easyquotation.use(self.provider)\n",
    "        results = handler.stocks(stock_codes, prefix=self.prefix)\n",
    "        if not results:\n",
    "            raise NoQuotationException('Empty results')\n",
    "        logger.debug('Get realtime quotations successfully')\n",
    "        quotations = []\n",
    "        for key, value in results.items():\n",
    "            quotation = Quotation()\n",
    "            quotation.stock_code = key\n",
    "            quotation.stock_name = value['name']\n",
    "            quotation.trade_date = int(value['date'].replace('-', ''))\n",
    "            quotation.trade_time = value['date'] + ' ' + value['time']\n",
    "            quotation.price = value['now']\n",
    "            quotation.open = value['open']\n",
    "            quotation.pre_close = value['close']\n",
    "            quotations.append(quotation)\n",
    "        return quotations"
   ]
  },
  {
   "cell_type": "code",
   "execution_count": 3,
   "metadata": {},
   "outputs": [],
   "source": [
    "class TuShareHelper(StockQuotationInterface):\n",
    "    \"\"\"\n",
    "    利用Tushare库实现接口\n",
    "    \"\"\"\n",
    "    def __init__(self, ts_token=''):\n",
    "        self.ts_token = ts_token\n",
    "        self.ts = tushare\n",
    "        self.ts_pro = None\n",
    "\n",
    "    def init(self, source=SourceType.EasyQuotation) -> NoReturn:\n",
    "        if self.ts_token:\n",
    "            self.ts_pro = self.ts.pro_api(self.ts_token)\n",
    "\n",
    "    def get_realtime_quotations(self, stock_codes: List[str]) -> List[Quotation]:\n",
    "        if not stock_codes:\n",
    "            return []\n",
    "        results = self.ts.get_realtime_quotes(stock_codes)\n",
    "        if results is None or results.empty:\n",
    "            raise NoQuotationException('Empty results')\n",
    "        logger.debug('Get realtime quotations successfully')\n",
    "        quotations = []\n",
    "        for value in results.to_dict('index').values():\n",
    "            quotation = Quotation()\n",
    "            quotation.stock_code = value['code']\n",
    "            quotation.stock_name = value['name']\n",
    "            quotation.trade_date = int(value['date'].replace('-', ''))\n",
    "            quotation.trade_time = value['date'] + ' ' + value['time']\n",
    "            quotation.price = float(value['price'])\n",
    "            quotation.open = float(value['open'])\n",
    "            quotation.pre_close = float(value['pre_close'])\n",
    "            quotations.append(quotation)\n",
    "        return quotations"
   ]
  },
  {
   "cell_type": "markdown",
   "metadata": {},
   "source": [
    "### 3. Python基于接口实现代理设计模式"
   ]
  },
  {
   "cell_type": "code",
   "execution_count": 8,
   "metadata": {},
   "outputs": [],
   "source": [
    "class StockQuotationHelper(StockQuotationInterface):\n",
    "    \"\"\"\n",
    "    代理模式，实现不同源选择\n",
    "    \"\"\"\n",
    "    def __init__(self):\n",
    "        self.helper: Optional[StockQuotationInterface] = None\n",
    "\n",
    "    def init(self, source=SourceType.EasyQuotation) -> NoReturn:\n",
    "        if source == SourceType.EasyQuotation:\n",
    "            self.helper = EasyQuotationHelper()\n",
    "            logger.info('Use easyquotation library')\n",
    "        elif source == SourceType.TuShare:\n",
    "            self.helper = TuShareHelper()\n",
    "            logger.info('Use tushare library')\n",
    "        if self.helper:\n",
    "            self.helper.init()\n",
    "\n",
    "    def get_realtime_quotations(self, stock_codes: List[str]) -> List[Quotation]:\n",
    "        return self.helper.get_realtime_quotations(stock_codes)"
   ]
  },
  {
   "cell_type": "markdown",
   "metadata": {},
   "source": [
    "### 4. Python接口调用"
   ]
  },
  {
   "cell_type": "code",
   "execution_count": 5,
   "metadata": {},
   "outputs": [
    {
     "name": "stderr",
     "output_type": "stream",
     "text": [
      "2021-06-08 09:33:43,669 4436127232 INFO <ipython-input-4-aaac73d1bb87> - Use tushare library\n",
      "2021-06-08 09:33:43,786 4436127232 DEBUG <ipython-input-3-e8c29f931e85> - Get realtime quotations successfully\n"
     ]
    },
    {
     "name": "stdout",
     "output_type": "stream",
     "text": [
      "2021-06-08 09:33:41 600120 5.830000\n"
     ]
    }
   ],
   "source": [
    "logging.basicConfig(level=logging.DEBUG, format='%(asctime)s %(thread)d %(levelname)s %(module)s - %(message)s')\n",
    "helper = StockQuotationHelper()\n",
    "helper.init(source=SourceType.TuShare)\n",
    "data = helper.get_realtime_quotations(['600120'])\n",
    "for i in data:\n",
    "    print(i)"
   ]
  },
  {
   "cell_type": "code",
   "execution_count": null,
   "metadata": {},
   "outputs": [],
   "source": []
  },
  {
   "cell_type": "markdown",
   "metadata": {},
   "source": [
    "## 二、基于HTTP的接口"
   ]
  },
  {
   "cell_type": "markdown",
   "metadata": {},
   "source": [
    "由于网络服务越来越复杂，各种客户端和服务端之间需要一种统一机制进行数据交互。基于HTTP协议的应用程序接口开始出现并逐渐形成标准，如RESTful API。\n",
    "\n",
    "### 1. 基于HTTP协议从新浪获取股票行情数据，实现股票行情处理接口"
   ]
  },
  {
   "cell_type": "code",
   "execution_count": 6,
   "metadata": {},
   "outputs": [],
   "source": [
    "import requests\n",
    "import time\n",
    "import re\n",
    "\n",
    "class SinaQuotationHelper(StockQuotationInterface):\n",
    "\n",
    "    def __init__(self):\n",
    "        self.headers = {\n",
    "            \"Accept-Encoding\": \"gzip, deflate, sdch\",\n",
    "            \"User-Agent\": (\n",
    "                \"Mozilla/5.0 (X11; Linux x86_64) AppleWebKit/537.36 \"\n",
    "                \"(KHTML, like Gecko) Chrome/54.0.2840.100 \"\n",
    "                \"Safari/537.36\"\n",
    "            ),\n",
    "        }\n",
    "        self.grep_detail = re.compile(r\"(\\d+)=[^\\s]([^\\s,]+?)%s%s\" % (r\",([\\.\\d]+)\" * 29, r\",([-\\.\\d:]+)\" * 2))\n",
    "\n",
    "    @staticmethod\n",
    "    def get_exchange_prefix(stock_code: str) -> str:\n",
    "        \"\"\"判断股票ID对应的证券市场\n",
    "        :param stock_code:股票ID, 若以 'sz', 'sh' 开头直接返回对应类型，否则使用内置规则判断\n",
    "        :return 'sh' or 'sz'\n",
    "        \"\"\"\n",
    "        sh_head = (\"50\", \"51\", \"60\", \"90\", \"110\", \"113\",\n",
    "                   \"132\", \"204\", \"5\", \"6\", \"9\", \"7\")\n",
    "        if stock_code.startswith((\"sh\", \"sz\", \"zz\")):\n",
    "            return stock_code[:2]\n",
    "        else:\n",
    "            return \"sh\" if stock_code.startswith(sh_head) else \"sz\"\n",
    "\n",
    "    @property\n",
    "    def get_api(self) -> str:\n",
    "        return f\"http://hq.sinajs.cn/rn={int(time.time() * 1000)}&list=\"\n",
    "\n",
    "    def init(self, source=SourceType.EasyQuotation) -> NoReturn:\n",
    "        pass\n",
    "\n",
    "    def get_realtime_quotations(self, stock_codes: List[str]) -> List[Quotation]:\n",
    "        if not stock_codes:\n",
    "            return []\n",
    "        stock_codes = [self.get_exchange_prefix(stock_code) + stock_code for stock_code in stock_codes]\n",
    "        params = ','.join(stock_codes)\n",
    "        response = requests.get(self.get_api + params, headers=self.headers)\n",
    "        if not response.text:\n",
    "            raise NoQuotationException('Empty results')\n",
    "        logger.debug('Get realtime quotations successfully')\n",
    "        quotations = []\n",
    "        results = self.grep_detail.finditer(response.text)\n",
    "        for result in results:\n",
    "            value = result.groups()\n",
    "            quotation = Quotation()\n",
    "            quotation.stock_code = value[0]\n",
    "            quotation.stock_name = value[1]\n",
    "            quotation.trade_date = int(value[31].replace('-', ''))\n",
    "            quotation.trade_time = value[31] + ' ' + value[32]\n",
    "            quotation.price = float(value[4])\n",
    "            quotation.open = float(value[2])\n",
    "            quotation.pre_close = float(value[3])\n",
    "            quotations.append(quotation)\n",
    "        return quotations"
   ]
  },
  {
   "cell_type": "code",
   "execution_count": 7,
   "metadata": {},
   "outputs": [
    {
     "name": "stderr",
     "output_type": "stream",
     "text": [
      "2021-06-08 16:18:55,740 4436127232 DEBUG connectionpool - Starting new HTTP connection (1): hq.sinajs.cn:80\n",
      "2021-06-08 16:18:55,809 4436127232 DEBUG connectionpool - http://hq.sinajs.cn:80 \"GET /rn=1623140335717&list=sh600120 HTTP/1.1\" 200 170\n",
      "2021-06-08 16:18:55,815 4436127232 DEBUG <ipython-input-6-838d19ff55b0> - Get realtime quotations successfully\n"
     ]
    },
    {
     "name": "stdout",
     "output_type": "stream",
     "text": [
      "2021-06-08 15:00:00 600120 5.830000\n"
     ]
    }
   ],
   "source": [
    "helper = SinaQuotationHelper()\n",
    "data = helper.get_realtime_quotations(['600120'])\n",
    "for i in data:\n",
    "    print(i)"
   ]
  },
  {
   "cell_type": "markdown",
   "metadata": {},
   "source": [
    "### 2. 扩展代理实现类"
   ]
  },
  {
   "cell_type": "code",
   "execution_count": 9,
   "metadata": {},
   "outputs": [],
   "source": [
    "class SourceType:\n",
    "    \"\"\"\n",
    "    行情源枚举\n",
    "    \"\"\"\n",
    "    EasyQuotation = 1\n",
    "    TuShare = 2\n",
    "    Sina = 3\n",
    "\n",
    "class StockQuotationExHelper(StockQuotationHelper):\n",
    "\n",
    "    def __init__(self):\n",
    "        super().__init__()\n",
    "\n",
    "    def init(self, source=SourceType.EasyQuotation) -> NoReturn:\n",
    "        if source == SourceType.Sina:\n",
    "            self.helper = SinaQuotationHelper()\n",
    "            logger.info('Use sina http api')\n",
    "        super().init(source=source)"
   ]
  },
  {
   "cell_type": "code",
   "execution_count": 10,
   "metadata": {},
   "outputs": [
    {
     "name": "stderr",
     "output_type": "stream",
     "text": [
      "2021-06-08 16:28:49,814 4436127232 INFO <ipython-input-9-840bce9897cf> - Use sina http api\n",
      "2021-06-08 16:28:49,838 4436127232 DEBUG connectionpool - Starting new HTTP connection (1): hq.sinajs.cn:80\n",
      "2021-06-08 16:28:49,897 4436127232 DEBUG connectionpool - http://hq.sinajs.cn:80 \"GET /rn=1623140929832&list=sh600120 HTTP/1.1\" 200 170\n",
      "2021-06-08 16:28:49,902 4436127232 DEBUG <ipython-input-6-838d19ff55b0> - Get realtime quotations successfully\n"
     ]
    },
    {
     "name": "stdout",
     "output_type": "stream",
     "text": [
      "2021-06-08 15:00:00 600120 5.830000\n"
     ]
    }
   ],
   "source": [
    "helper = StockQuotationExHelper()\n",
    "helper.init(source=SourceType.Sina)\n",
    "data = helper.get_realtime_quotations(['600120'])\n",
    "for i in data:\n",
    "    print(i)"
   ]
  },
  {
   "cell_type": "code",
   "execution_count": null,
   "metadata": {},
   "outputs": [],
   "source": []
  },
  {
   "cell_type": "markdown",
   "metadata": {},
   "source": [
    "## 三、编程实践：开发一个脚本获取股票实时行情\n",
    "\n",
    "可以利用第三方包或HTTP API获取，其中可选HTTP行情地址有：\n",
    "- http://hq.sinajs.cn/rn=1000&list=sh600120,sz000932\n",
    "- http://qt.gtimg.cn/q=sh600120,sz000932\n"
   ]
  },
  {
   "cell_type": "markdown",
   "metadata": {},
   "source": [
    "## 四、期末编程实践：通过Python编程获取和解析互联网中的数据\n",
    "- 采用面向对象编程，建议利用继承和多态特性\n",
    "- 采用接口约定，建议对所有输入输出数据和方法都进行约定\n",
    "- 获取数据量需超过100条，建议格式化输出或存储数据\n",
    "- 代码格式整洁，结构完整，逻辑清晰，结果合理，建议利用更多已学知识"
   ]
  },
  {
   "cell_type": "markdown",
   "metadata": {},
   "source": [
    "完成课件中的编程实践和期末编程实践题，结果文件数尽量少，打包在一个压缩包中，发送至qingspace@xmu.edu.cn"
   ]
  },
  {
   "cell_type": "code",
   "execution_count": null,
   "metadata": {},
   "outputs": [],
   "source": []
  }
 ],
 "metadata": {
  "kernelspec": {
   "display_name": "Python 3",
   "language": "python",
   "name": "python3"
  },
  "language_info": {
   "codemirror_mode": {
    "name": "ipython",
    "version": 3
   },
   "file_extension": ".py",
   "mimetype": "text/x-python",
   "name": "python",
   "nbconvert_exporter": "python",
   "pygments_lexer": "ipython3",
   "version": "3.7.0"
  }
 },
 "nbformat": 4,
 "nbformat_minor": 4
}
